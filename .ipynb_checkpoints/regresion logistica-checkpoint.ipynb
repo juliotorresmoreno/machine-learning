{
 "cells": [
  {
   "cell_type": "code",
   "execution_count": 4,
   "metadata": {},
   "outputs": [],
   "source": [
    "#%%\n",
    "# importando pandas, numpy y matplotlib\n",
    "from sklearn.linear_model import LogisticRegression\n",
    "import pandas as pd\n",
    "import numpy as np\n",
    "import matplotlib.pyplot as plt\n",
    "import random \n",
    "import seaborn\n",
    "seaborn.set()"
   ]
  },
  {
   "cell_type": "code",
   "execution_count": 5,
   "metadata": {},
   "outputs": [],
   "source": [
    "#%%\n",
    "# importando los datasets de sklearn\n",
    "import mnist\n",
    "train_images = mnist.train_images()\n",
    "train_labels = mnist.train_labels()\n",
    "test_images = mnist.test_images()\n",
    "test_labels = mnist.test_labels()"
   ]
  },
  {
   "cell_type": "code",
   "execution_count": 6,
   "metadata": {},
   "outputs": [],
   "source": [
    "#%%\n",
    "x = random.randint(0, 59999)\n",
    "\n",
    "#%%\n",
    "nsamples, nx, ny = train_images.shape\n",
    "d2_train_dataset = train_images.reshape((nsamples,nx*ny))\n",
    "nsamples, nx, ny = test_images.shape\n",
    "d2_test_dataset = test_images.reshape((nsamples,nx*ny))"
   ]
  },
  {
   "cell_type": "code",
   "execution_count": 7,
   "metadata": {},
   "outputs": [
    {
     "data": {
      "text/plain": [
       "array([5, 0, 4, ..., 5, 6, 8], dtype=uint8)"
      ]
     },
     "execution_count": 7,
     "metadata": {},
     "output_type": "execute_result"
    }
   ],
   "source": [
    "#%%\n",
    "#train_images.shape\n",
    "d2_train_dataset.shape\n",
    "#%%\n",
    "train_labels"
   ]
  },
  {
   "cell_type": "code",
   "execution_count": 8,
   "metadata": {},
   "outputs": [
    {
     "data": {
      "image/png": "[encoded data removed]",
      "text/plain": [
       "<Figure size 432x288 with 1 Axes>"
      ]
     },
     "metadata": {},
     "output_type": "display_data"
    },
    {
     "data": {
      "text/plain": [
       "6"
      ]
     },
     "execution_count": 8,
     "metadata": {},
     "output_type": "execute_result"
    }
   ],
   "source": [
    "#%%\n",
    "x = random.randint(0, 59999)\n",
    "plt.imshow(\n",
    "    train_images[x], \n",
    "    interpolation=None,\n",
    "    shape=[28,28]\n",
    ")\n",
    "plt.show()\n",
    "train_labels[x]"
   ]
  },
  {
   "cell_type": "code",
   "execution_count": 9,
   "metadata": {},
   "outputs": [
    {
     "name": "stdout",
     "output_type": "stream",
     "text": [
      "0.8297\n",
      "0\n",
      "0.8220666666666666\n",
      "1\n",
      "0.8432166666666666\n",
      "2\n",
      "0.8267833333333333\n",
      "3\n",
      "0.8319833333333333\n",
      "4\n",
      "0.8164833333333333\n",
      "5\n",
      "0.8224666666666667\n",
      "6\n",
      "0.82725\n",
      "7\n",
      "0.80055\n",
      "8\n",
      "0.826\n",
      "9\n",
      "0.8314833333333334\n",
      "10\n",
      "0.8226\n",
      "11\n",
      "0.8170333333333333\n",
      "12\n",
      "0.8154333333333333\n",
      "13\n",
      "0.8164\n",
      "14\n",
      "0.8253333333333334\n",
      "15\n",
      "0.8312666666666667\n",
      "16\n",
      "0.8203333333333334\n",
      "17\n",
      "0.8305333333333333\n",
      "18\n",
      "0.8284\n",
      "19\n",
      "0.8055\n",
      "20\n",
      "0.8280833333333333\n",
      "21\n",
      "0.8338833333333333\n",
      "22\n",
      "0.83255\n",
      "23\n",
      "0.8255333333333333\n",
      "24\n",
      "0.8256166666666667\n",
      "25\n",
      "0.82125\n",
      "26\n",
      "0.81355\n",
      "27\n",
      "0.8221833333333334\n",
      "28\n",
      "0.81685\n",
      "29\n",
      "0.837\n",
      "30\n",
      "0.8221\n",
      "31\n",
      "0.8138333333333333\n",
      "32\n",
      "0.8328833333333333\n",
      "33\n",
      "0.8224166666666667\n",
      "34\n",
      "0.8322166666666667\n",
      "35\n",
      "0.8239\n",
      "36\n",
      "0.8008666666666666\n",
      "37\n",
      "0.8274666666666667\n",
      "38\n",
      "0.8215\n",
      "39\n",
      "0.8317666666666667\n",
      "40\n",
      "0.8210833333333334\n",
      "41\n",
      "0.79895\n",
      "42\n",
      "0.83335\n",
      "43\n",
      "0.8216666666666667\n",
      "44\n",
      "0.8175666666666667\n",
      "45\n",
      "0.82365\n",
      "46\n",
      "0.8204833333333333\n",
      "47\n",
      "0.82965\n",
      "48\n",
      "0.82465\n",
      "49\n",
      "0.7989166666666667\n",
      "50\n",
      "0.8309333333333333\n",
      "51\n",
      "0.8170666666666667\n",
      "52\n",
      "0.8239\n",
      "53\n",
      "0.82245\n",
      "54\n",
      "0.81165\n",
      "55\n",
      "0.82705\n",
      "56\n",
      "0.8422833333333334\n",
      "57\n",
      "0.8144333333333333\n",
      "58\n",
      "0.78375\n",
      "59\n"
     ]
    }
   ],
   "source": [
    "#%%\n",
    "modelo = LogisticRegression()\n",
    "for x in range(0, 60):\n",
    "    modelo.fit(\n",
    "        d2_train_dataset[x*1000:(x+1)*1000], \n",
    "        train_labels[x*1000:(x+1)*1000]\n",
    "    )\n",
    "    print(modelo.score(d2_train_dataset, train_labels))\n",
    "    print(x)"
   ]
  },
  {
   "cell_type": "code",
   "execution_count": 10,
   "metadata": {},
   "outputs": [
    {
     "name": "stdout",
     "output_type": "stream",
     "text": [
      "[4, 8]\n"
     ]
    },
    {
     "data": {
      "image/png": "[encoded data removed]",
      "text/plain": [
       "<Figure size 432x288 with 1 Axes>"
      ]
     },
     "metadata": {},
     "output_type": "display_data"
    }
   ],
   "source": [
    "#%%\n",
    "x = random.randint(0, 999)\n",
    "r = modelo.predict(\n",
    "    d2_test_dataset[x:x+1]\n",
    ")\n",
    "print([r[0], test_labels[x]])\n",
    "plt.imshow(\n",
    "    test_images[x], \n",
    "    interpolation=None,\n",
    "    shape=[28,28]\n",
    ")\n",
    "plt.show()"
   ]
  },
  {
   "cell_type": "code",
   "execution_count": 11,
   "metadata": {},
   "outputs": [
    {
     "data": {
      "text/plain": [
       "0.7891"
      ]
     },
     "execution_count": 11,
     "metadata": {},
     "output_type": "execute_result"
    }
   ],
   "source": [
    "#%%\n",
    "modelo.score(d2_test_dataset, test_labels)"
   ]
  },
  {
   "cell_type": "code",
   "execution_count": 12,
   "metadata": {},
   "outputs": [
    {
     "name": "stderr",
     "output_type": "stream",
     "text": [
      "/home/juliotorres/miniconda3/lib/python3.6/site-packages/sklearn/cross_validation.py:41: DeprecationWarning: This module was deprecated in version 0.18 in favor of the model_selection module into which all the refactored classes and functions are moved. Also note that the interface of the new CV iterators are different from that of this module. This module will be removed in 0.20.\n",
      "  \"This module will be removed in 0.20.\", DeprecationWarning)\n"
     ]
    }
   ],
   "source": [
    "#%%\n",
    "from sklearn import cross_validation"
   ]
  },
  {
   "cell_type": "code",
   "execution_count": 16,
   "metadata": {},
   "outputs": [
    {
     "data": {
      "text/plain": [
       "(10000, 28, 28)"
      ]
     },
     "execution_count": 16,
     "metadata": {},
     "output_type": "execute_result"
    }
   ],
   "source": [
    "nsamples, nx, ny = test_images.shape\n",
    "\n",
    "nsamples, nx, ny"
   ]
  },
  {
   "cell_type": "code",
   "execution_count": 17,
   "metadata": {},
   "outputs": [],
   "source": [
    "x_test = test_images.reshape((nsamples,nx*ny))[0:1000]\n",
    "y_test = test_labels[0:1000]"
   ]
  },
  {
   "cell_type": "code",
   "execution_count": 18,
   "metadata": {},
   "outputs": [
    {
     "data": {
      "text/plain": [
       "(1000, 784)"
      ]
     },
     "execution_count": 18,
     "metadata": {},
     "output_type": "execute_result"
    }
   ],
   "source": [
    "#%%\n",
    "x_test.shape"
   ]
  },
  {
   "cell_type": "code",
   "execution_count": 19,
   "metadata": {},
   "outputs": [],
   "source": [
    "#%%\n",
    "cv = cross_validation.KFold(\n",
    "    x_test.shape[0], \n",
    "    100, \n",
    "    shuffle=True, \n",
    "    random_state=33\n",
    ")"
   ]
  },
  {
   "cell_type": "code",
   "execution_count": 20,
   "metadata": {},
   "outputs": [],
   "source": [
    "#%%\n",
    "scores = cross_validation.cross_val_score(\n",
    "    modelo, \n",
    "    x_test, \n",
    "    y_test, \n",
    "    cv=cv\n",
    ")"
   ]
  },
  {
   "cell_type": "code",
   "execution_count": 21,
   "metadata": {},
   "outputs": [
    {
     "data": {
      "text/plain": [
       "array([0.8, 0.7, 0.9, 0.7, 0.9, 1. , 0.8, 0.8, 0.9, 0.8, 0.6, 1. , 0.7,\n",
       "       0.9, 1. , 1. , 0.7, 0.8, 0.6, 0.9, 0.7, 0.9, 0.9, 0.8, 0.7, 0.9,\n",
       "       0.9, 1. , 0.8, 0.9, 0.8, 0.9, 0.9, 0.7, 1. , 0.8, 0.9, 0.8, 0.7,\n",
       "       1. , 1. , 0.9, 0.8, 0.8, 1. , 0.7, 0.9, 0.9, 1. , 0.8, 0.9, 0.9,\n",
       "       0.7, 1. , 0.9, 0.8, 0.9, 0.9, 0.8, 1. , 1. , 0.8, 0.9, 0.8, 0.9,\n",
       "       0.8, 0.8, 0.9, 1. , 1. , 0.8, 0.9, 0.9, 0.8, 0.7, 1. , 0.8, 0.7,\n",
       "       0.9, 0.9, 0.8, 0.9, 0.9, 0.7, 1. , 0.9, 0.8, 0.7, 0.8, 1. , 0.6,\n",
       "       1. , 0.8, 1. , 0.8, 0.6, 0.8, 1. , 0.8, 0.5])"
      ]
     },
     "execution_count": 21,
     "metadata": {},
     "output_type": "execute_result"
    }
   ],
   "source": [
    "#%%\n",
    "scores"
   ]
  },
  {
   "cell_type": "code",
   "execution_count": 22,
   "metadata": {},
   "outputs": [],
   "source": [
    "#%%\n",
    "from sklearn.externals import joblib"
   ]
  },
  {
   "cell_type": "code",
   "execution_count": 23,
   "metadata": {},
   "outputs": [],
   "source": [
    "#%%\n",
    "joblib.dump(modelo, 'filename.pkl')\n",
    "\n",
    "clf = joblib.load('filename.pkl') "
   ]
  },
  {
   "cell_type": "code",
   "execution_count": null,
   "metadata": {},
   "outputs": [],
   "source": []
  }
 ],
 "metadata": {
  "kernelspec": {
   "display_name": "Python 3",
   "language": "python",
   "name": "python3"
  },
  "language_info": {
   "codemirror_mode": {
    "name": "ipython",
    "version": 3
   },
   "file_extension": ".py",
   "mimetype": "text/x-python",
   "name": "python",
   "nbconvert_exporter": "python",
   "pygments_lexer": "ipython3",
   "version": "3.6.3"
  }
 },
 "nbformat": 4,
 "nbformat_minor": 2
}
