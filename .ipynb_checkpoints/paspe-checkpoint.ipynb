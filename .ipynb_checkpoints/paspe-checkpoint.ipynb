{
 "cells": [
  {
   "cell_type": "code",
   "execution_count": 2,
   "metadata": {},
   "outputs": [],
   "source": [
    "# This Python 3 environment comes with many helpful analytics libraries installed\n",
    "# It is defined by the kaggle/python docker image: https://github.com/kaggle/docker-python\n",
    "# For example, here's several helpful packages to load in \n",
    "\n",
    "import numpy as np # linear algebra\n",
    "import pandas as pd # data processing, CSV file I/O (e.g. pd.read_csv)\n",
    "\n",
    "# Input data files are available in the \"../input/\" directory.\n",
    "# For example, running this (by clicking run or pressing Shift+Enter) will list the files in the input directory\n",
    "\n",
    "from subprocess import check_output"
   ]
  },
  {
   "cell_type": "code",
   "execution_count": 8,
   "metadata": {},
   "outputs": [],
   "source": [
    "#%%\n",
    "from mysql import connector\n",
    "\n",
    "#%%\n",
    "cnx = connector.connect(\n",
    "    user='root', \n",
    "    password='paramore',\n",
    "    host='127.0.0.1',\n",
    "    database='paspe'\n",
    ")\n",
    "\n",
    "#%%\n",
    "def query(sql):\n",
    "    cursor = cnx.cursor()\n",
    "    cursor.execute(sql)\n",
    "    data = cursor.fetchall()\n",
    "    cursor.close()\n",
    "    return data"
   ]
  },
  {
   "cell_type": "code",
   "execution_count": 9,
   "metadata": {},
   "outputs": [],
   "source": [
    "#%%\n",
    "tmp = query(\"\"\"\n",
    "    SELECT b.IdValorParametro campo_id\n",
    "      FROM paspe.paspe_campos a\n",
    "INNER JOIN paspe.extidi_valorparametro b ON a.IdParametro = b.IdParametro\n",
    "     WHERE a.UtilizaParaCalculo = 1\n",
    "\"\"\")\n",
    "campos = []\n",
    "strcampos = \"\"\n",
    "for row in tmp:\n",
    "    campos.append(row[0])\n",
    "    strcampos = strcampos + \"`\" + str(row[0]) + \"`, \"\n",
    "strcampos = strcampos + \"`conteo`\""
   ]
  },
  {
   "cell_type": "code",
   "execution_count": 11,
   "metadata": {},
   "outputs": [],
   "source": [
    "steps = 30\n",
    "x = np.array(query(\"\"\"\n",
    "    SELECT {0}\n",
    "        FROM encuestas\n",
    "        WHERE Id_alumn_programa > 0\n",
    "          AND conteo > 30\n",
    "        LIMIT 0, {1}\n",
    "\"\"\".format(strcampos, str(steps * 1000))))\n",
    "y = np.array(query(\"\"\"\n",
    "    SELECT deserto\n",
    "      FROM encuestas\n",
    "     WHERE Id_alumn_programa > 0\n",
    "       AND conteo > 30\n",
    "     LIMIT 0, {0}\n",
    "\"\"\".format(str(steps * 1000))))"
   ]
  },
  {
   "cell_type": "code",
   "execution_count": 12,
   "metadata": {},
   "outputs": [],
   "source": [
    "from sklearn.model_selection import train_test_split\n",
    "X_train,X_test, y_train,y_test = train_test_split(x,y,test_size=0.2,random_state=0) "
   ]
  },
  {
   "cell_type": "code",
   "execution_count": 13,
   "metadata": {},
   "outputs": [
    {
     "data": {
      "text/plain": [
       "(24000, 166)"
      ]
     },
     "execution_count": 13,
     "metadata": {},
     "output_type": "execute_result"
    }
   ],
   "source": [
    "X_train.shape"
   ]
  },
  {
   "cell_type": "code",
   "execution_count": 15,
   "metadata": {},
   "outputs": [
    {
     "name": "stdout",
     "output_type": "stream",
     "text": [
      "_________________________________________________________________\n",
      "Layer (type)                 Output Shape              Param #   \n",
      "=================================================================\n",
      "dense_3 (Dense)              (None, 2)                 334       \n",
      "_________________________________________________________________\n",
      "dense_4 (Dense)              (None, 2)                 6         \n",
      "=================================================================\n",
      "Total params: 340\n",
      "Trainable params: 340\n",
      "Non-trainable params: 0\n",
      "_________________________________________________________________\n"
     ]
    }
   ],
   "source": [
    "#Defining the model \n",
    "\n",
    "from keras.models import Sequential\n",
    "from keras.layers import Dense\n",
    "from keras.optimizers import SGD,Adam\n",
    "\n",
    "\n",
    "model = Sequential()\n",
    "\n",
    "#sigmoid, tanh, Softmax, ReLU, Leaky ReLU\n",
    "\n",
    "model.add(Dense(2,input_shape=(166,),activation='sigmoid'))\n",
    "#model.add(Dense(8,activation='tanh'))\n",
    "#model.add(Dense(6,activation='tanh'))\n",
    "model.add(Dense(2,activation='softmax'))\n",
    "\n",
    "model.compile(SGD(lr=0.04),'categorical_crossentropy',metrics=['accuracy'])\n",
    "\n",
    "model.summary()"
   ]
  },
  {
   "cell_type": "code",
   "execution_count": 16,
   "metadata": {},
   "outputs": [
    {
     "name": "stdout",
     "output_type": "stream",
     "text": [
      "Epoch 1/10\n",
      "24000/24000 [==============================] - 12s 497us/step - loss: 0.3922 - acc: 0.8724\n",
      "Epoch 2/10\n",
      "24000/24000 [==============================] - 10s 413us/step - loss: 0.3782 - acc: 0.8743\n",
      "Epoch 3/10\n",
      "24000/24000 [==============================] - 10s 406us/step - loss: 0.3783 - acc: 0.8743\n",
      "Epoch 4/10\n",
      "24000/24000 [==============================] - 10s 401us/step - loss: 0.3783 - acc: 0.8743\n",
      "Epoch 5/10\n",
      "24000/24000 [==============================] - 9s 391us/step - loss: 0.3782 - acc: 0.8743\n",
      "Epoch 6/10\n",
      "24000/24000 [==============================] - 10s 399us/step - loss: 0.3783 - acc: 0.8743\n",
      "Epoch 7/10\n",
      "24000/24000 [==============================] - 9s 374us/step - loss: 0.3782 - acc: 0.8743\n",
      "Epoch 8/10\n",
      "24000/24000 [==============================] - 10s 417us/step - loss: 0.3782 - acc: 0.8743\n",
      "Epoch 9/10\n",
      "24000/24000 [==============================] - 9s 385us/step - loss: 0.3782 - acc: 0.8743\n",
      "Epoch 10/10\n",
      "24000/24000 [==============================] - 9s 387us/step - loss: 0.3783 - acc: 0.8743\n"
     ]
    },
    {
     "data": {
      "text/plain": [
       "<keras.callbacks.History at 0x7fe602582e80>"
      ]
     },
     "execution_count": 16,
     "metadata": {},
     "output_type": "execute_result"
    }
   ],
   "source": [
    "from keras.utils import to_categorical\n",
    "y_binary = to_categorical(y_train)\n",
    "\n",
    "#fitting the model and predicting \n",
    "model.fit(X_train,y_binary,epochs=10)"
   ]
  },
  {
   "cell_type": "code",
   "execution_count": 17,
   "metadata": {},
   "outputs": [],
   "source": [
    "y_pred = model.predict(X_test)\n",
    "\n",
    "y_test_class = np.argmax(y_test,axis=1)\n",
    "y_pred_class = np.argmax(y_pred,axis=1)"
   ]
  },
  {
   "cell_type": "code",
   "execution_count": 18,
   "metadata": {},
   "outputs": [
    {
     "data": {
      "text/plain": [
       "array([[1., 0.],\n",
       "       [0., 1.],\n",
       "       [1., 0.],\n",
       "       ...,\n",
       "       [1., 0.],\n",
       "       [1., 0.],\n",
       "       [0., 1.]])"
      ]
     },
     "execution_count": 18,
     "metadata": {},
     "output_type": "execute_result"
    }
   ],
   "source": [
    "y_binary"
   ]
  },
  {
   "cell_type": "code",
   "execution_count": 19,
   "metadata": {},
   "outputs": [
    {
     "data": {
      "text/plain": [
       "array([0, 0, 0, ..., 0, 0, 0])"
      ]
     },
     "execution_count": 19,
     "metadata": {},
     "output_type": "execute_result"
    }
   ],
   "source": [
    "y_test_class"
   ]
  },
  {
   "cell_type": "code",
   "execution_count": 20,
   "metadata": {},
   "outputs": [
    {
     "data": {
      "text/plain": [
       "array([0, 0, 0, ..., 0, 0, 0])"
      ]
     },
     "execution_count": 20,
     "metadata": {},
     "output_type": "execute_result"
    }
   ],
   "source": [
    "y_pred_class"
   ]
  },
  {
   "cell_type": "code",
   "execution_count": 22,
   "metadata": {},
   "outputs": [
    {
     "name": "stdout",
     "output_type": "stream",
     "text": [
      "             precision    recall  f1-score   support\n",
      "\n",
      "          0       1.00      1.00      1.00      6000\n",
      "\n",
      "avg / total       1.00      1.00      1.00      6000\n",
      "\n",
      "[[6000]]\n"
     ]
    }
   ],
   "source": [
    "from sklearn.metrics import classification_report,confusion_matrix\n",
    "print(classification_report(y_test_class,y_pred_class))\n",
    "print(confusion_matrix(y_test_class,y_pred_class))"
   ]
  },
  {
   "cell_type": "code",
   "execution_count": null,
   "metadata": {},
   "outputs": [],
   "source": []
  },
  {
   "cell_type": "code",
   "execution_count": null,
   "metadata": {},
   "outputs": [],
   "source": []
  }
 ],
 "metadata": {
  "kernelspec": {
   "display_name": "Python 3",
   "language": "python",
   "name": "python3"
  },
  "language_info": {
   "codemirror_mode": {
    "name": "ipython",
    "version": 3
   },
   "file_extension": ".py",
   "mimetype": "text/x-python",
   "name": "python",
   "nbconvert_exporter": "python",
   "pygments_lexer": "ipython3",
   "version": "3.6.3"
  }
 },
 "nbformat": 4,
 "nbformat_minor": 2
}
