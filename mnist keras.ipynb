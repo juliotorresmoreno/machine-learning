{
 "cells": [
  {
   "cell_type": "code",
   "execution_count": 210,
   "metadata": {},
   "outputs": [],
   "source": [
    "#Defining the model \n",
    "from keras.models import Sequential\n",
    "from keras.layers import Dense,Dropout,Flatten\n",
    "from keras.optimizers import SGD,Adam,RMSprop\n",
    "#fitting the model and predicting \n",
    "from keras.utils import to_categorical\n",
    "\n",
    "import numpy as np # linear algebra\n",
    "from keras.datasets import mnist\n",
    "import matplotlib.pyplot as plt\n",
    "import random"
   ]
  },
  {
   "cell_type": "code",
   "execution_count": 223,
   "metadata": {},
   "outputs": [],
   "source": [
    "(x_train, x_test), (x_test, y_test) = mnist.load_data()"
   ]
  },
  {
   "cell_type": "code",
   "execution_count": 231,
   "metadata": {},
   "outputs": [
    {
     "data": {
      "image/png": "[encoded data removed]",
      "text/plain": [
       "<Figure size 432x288 with 1 Axes>"
      ]
     },
     "metadata": {},
     "output_type": "display_data"
    }
   ],
   "source": [
    "n = random.randint(0, x_train.shape[0]-1)\n",
    "plt.title('Label is {label}'.format(label=y_train[n]))\n",
    "plt.imshow(train_images[n], cmap='gray')\n",
    "plt.show()"
   ]
  },
  {
   "cell_type": "code",
   "execution_count": 213,
   "metadata": {},
   "outputs": [
    {
     "name": "stdout",
     "output_type": "stream",
     "text": [
      "_________________________________________________________________\n",
      "Layer (type)                 Output Shape              Param #   \n",
      "=================================================================\n",
      "dense_61 (Dense)             (None, 28, 28)            812       \n",
      "_________________________________________________________________\n",
      "dropout_36 (Dropout)         (None, 28, 28)            0         \n",
      "_________________________________________________________________\n",
      "flatten_1 (Flatten)          (None, 784)               0         \n",
      "_________________________________________________________________\n",
      "dense_62 (Dense)             (None, 196)               153860    \n",
      "_________________________________________________________________\n",
      "dropout_37 (Dropout)         (None, 196)               0         \n",
      "_________________________________________________________________\n",
      "dense_63 (Dense)             (None, 10)                1970      \n",
      "=================================================================\n",
      "Total params: 156,642\n",
      "Trainable params: 156,642\n",
      "Non-trainable params: 0\n",
      "_________________________________________________________________\n"
     ]
    }
   ],
   "source": [
    "model = Sequential()\n",
    "\n",
    "#sigmoid, tanh, softmax, ReLU, Leaky ReLU\n",
    "model.add(Dense(28, activation='sigmoid', input_shape=(28, 28)))\n",
    "model.add(Dropout(0.15))\n",
    "model.add(Flatten())\n",
    "model.add(Dense(int(28*28/4), activation='sigmoid'))\n",
    "model.add(Dropout(0.15))\n",
    "model.add(Dense(10, activation='softmax'))\n",
    "\n",
    "model.compile(RMSprop(lr=0.001),'categorical_crossentropy',metrics=['accuracy'])\n",
    "\n",
    "model.summary()"
   ]
  },
  {
   "cell_type": "code",
   "execution_count": 214,
   "metadata": {},
   "outputs": [],
   "source": [
    "def aprender(x_train, y_train):\n",
    "    model.fit(x_train,to_categorical(y_train),epochs=5,validation_split=0.05,batch_size=64)"
   ]
  },
  {
   "cell_type": "code",
   "execution_count": 215,
   "metadata": {},
   "outputs": [
    {
     "data": {
      "text/plain": [
       "array([5, 0, 4, ..., 5, 6, 8], dtype=uint8)"
      ]
     },
     "execution_count": 215,
     "metadata": {},
     "output_type": "execute_result"
    }
   ],
   "source": [
    "y_train"
   ]
  },
  {
   "cell_type": "code",
   "execution_count": 218,
   "metadata": {},
   "outputs": [
    {
     "name": "stdout",
     "output_type": "stream",
     "text": [
      "Train on 57000 samples, validate on 3000 samples\n",
      "Epoch 1/2\n",
      "57000/57000 [==============================] - 35s 607us/step - loss: 0.1380 - acc: 0.9569 - val_loss: 0.0857 - val_acc: 0.9747\n",
      "Epoch 2/2\n",
      "57000/57000 [==============================] - 35s 606us/step - loss: 0.1241 - acc: 0.9608 - val_loss: 0.0817 - val_acc: 0.9770\n"
     ]
    }
   ],
   "source": [
    "aprender(x_train, y_train)"
   ]
  },
  {
   "cell_type": "code",
   "execution_count": 10,
   "metadata": {},
   "outputs": [
    {
     "data": {
      "text/plain": [
       "array([[0., 0., 0., ..., 0., 0., 0.],\n",
       "       [1., 0., 0., ..., 0., 0., 0.],\n",
       "       [0., 0., 0., ..., 0., 0., 0.],\n",
       "       ...,\n",
       "       [0., 0., 0., ..., 0., 0., 0.],\n",
       "       [0., 0., 0., ..., 0., 0., 0.],\n",
       "       [0., 0., 0., ..., 0., 1., 0.]])"
      ]
     },
     "execution_count": 10,
     "metadata": {},
     "output_type": "execute_result"
    }
   ],
   "source": [
    "to_categorical(y_train)"
   ]
  },
  {
   "cell_type": "code",
   "execution_count": 224,
   "metadata": {},
   "outputs": [
    {
     "data": {
      "text/plain": [
       "(10000, 28, 28)"
      ]
     },
     "execution_count": 224,
     "metadata": {},
     "output_type": "execute_result"
    }
   ],
   "source": [
    "x_test.shape"
   ]
  },
  {
   "cell_type": "code",
   "execution_count": 12,
   "metadata": {},
   "outputs": [
    {
     "data": {
      "text/plain": [
       "array([[0, 0, 0, ..., 0, 0, 0],\n",
       "       [0, 0, 0, ..., 0, 0, 0],\n",
       "       [0, 0, 0, ..., 0, 0, 0],\n",
       "       ...,\n",
       "       [0, 0, 0, ..., 0, 0, 0],\n",
       "       [0, 0, 0, ..., 0, 0, 0],\n",
       "       [0, 0, 0, ..., 0, 0, 0]], dtype=uint8)"
      ]
     },
     "execution_count": 12,
     "metadata": {},
     "output_type": "execute_result"
    }
   ],
   "source": [
    "x_train"
   ]
  },
  {
   "cell_type": "code",
   "execution_count": 225,
   "metadata": {},
   "outputs": [
    {
     "data": {
      "text/plain": [
       "array([2.0316020e-10, 3.1127265e-09, 1.0023805e-05, 9.3512372e-06,\n",
       "       7.8463778e-09, 7.0850604e-08, 1.4325280e-13, 9.9997127e-01,\n",
       "       6.3622063e-09, 9.3018634e-06], dtype=float32)"
      ]
     },
     "execution_count": 225,
     "metadata": {},
     "output_type": "execute_result"
    }
   ],
   "source": [
    "y_pred = model.predict(x_test)\n",
    "y_pred[0]"
   ]
  },
  {
   "cell_type": "code",
   "execution_count": 226,
   "metadata": {},
   "outputs": [],
   "source": [
    "y_test_class = y_test #np.argmax(y_test,axis=1)\n",
    "y_pred_class = np.argmax(y_pred,axis=1)"
   ]
  },
  {
   "cell_type": "code",
   "execution_count": 236,
   "metadata": {},
   "outputs": [
    {
     "name": "stdout",
     "output_type": "stream",
     "text": [
      "Prediccion: 2\n"
     ]
    },
    {
     "data": {
      "image/png": "[encoded data removed]",
      "text/plain": [
       "<Figure size 432x288 with 1 Axes>"
      ]
     },
     "metadata": {},
     "output_type": "display_data"
    }
   ],
   "source": [
    "n = random.randint(1, y_test_class.shape[0]) - 1\n",
    "y_pred = model.predict(x_test[n:n+1])\n",
    "print(\"Prediccion: {}\".format(np.argmax(y_pred,axis=1)[0]))\n",
    "plt.title('Label is {label}'.format(label=y_test[n]))\n",
    "plt.imshow(test_images[n], cmap='gray')\n",
    "plt.show()"
   ]
  },
  {
   "cell_type": "code",
   "execution_count": 228,
   "metadata": {},
   "outputs": [
    {
     "data": {
      "text/plain": [
       "array([7, 2, 1, ..., 4, 5, 6], dtype=uint8)"
      ]
     },
     "execution_count": 228,
     "metadata": {},
     "output_type": "execute_result"
    }
   ],
   "source": [
    "y_test"
   ]
  },
  {
   "cell_type": "code",
   "execution_count": 229,
   "metadata": {},
   "outputs": [
    {
     "name": "stdout",
     "output_type": "stream",
     "text": [
      "             precision    recall  f1-score   support\n",
      "\n",
      "          0       0.96      0.99      0.98       980\n",
      "          1       0.99      0.98      0.99      1135\n",
      "          2       0.97      0.97      0.97      1032\n",
      "          3       0.97      0.97      0.97      1010\n",
      "          4       0.98      0.96      0.97       982\n",
      "          5       0.98      0.95      0.96       892\n",
      "          6       0.98      0.98      0.98       958\n",
      "          7       0.94      0.98      0.96      1028\n",
      "          8       0.96      0.98      0.97       974\n",
      "          9       0.97      0.94      0.96      1009\n",
      "\n",
      "avg / total       0.97      0.97      0.97     10000\n",
      "\n",
      "[[ 973    0    1    0    0    1    0    2    3    0]\n",
      " [   0 1114    5    2    1    1    4    2    6    0]\n",
      " [  10    0  998    0    3    0    1   12    8    0]\n",
      " [   0    0    8  975    0   11    0    9    5    2]\n",
      " [   5    0    0    1  945    0    6    5    2   18]\n",
      " [   6    1    1   16    2  848    9    3    4    2]\n",
      " [   9    1    3    1    1    3  935    0    5    0]\n",
      " [   0    3    5    3    1    0    0 1010    1    5]\n",
      " [   8    0    3    0    0    2    3    5  952    1]\n",
      " [   4    4    0    9   12    3    0   21    3  953]]\n"
     ]
    }
   ],
   "source": [
    "#Accuracy of the predicted values\n",
    "from sklearn.metrics import classification_report,confusion_matrix\n",
    "print(classification_report(y_test_class,y_pred_class))\n",
    "print(confusion_matrix(y_test_class,y_pred_class))"
   ]
  },
  {
   "cell_type": "code",
   "execution_count": null,
   "metadata": {},
   "outputs": [],
   "source": []
  }
 ],
 "metadata": {
  "kernelspec": {
   "display_name": "Python 3",
   "language": "python",
   "name": "python3"
  },
  "language_info": {
   "codemirror_mode": {
    "name": "ipython",
    "version": 3
   },
   "file_extension": ".py",
   "mimetype": "text/x-python",
   "name": "python",
   "nbconvert_exporter": "python",
   "pygments_lexer": "ipython3",
   "version": "3.6.3"
  }
 },
 "nbformat": 4,
 "nbformat_minor": 2
}
