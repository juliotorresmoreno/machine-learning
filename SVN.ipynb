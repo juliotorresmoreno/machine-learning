{
 "cells": [
  {
   "cell_type": "code",
   "execution_count": 1,
   "metadata": {},
   "outputs": [],
   "source": [
    "#%%\n",
    "import matplotlib.pyplot as plt\n",
    "import numpy as np\n",
    "%matplotlib inline"
   ]
  },
  {
   "cell_type": "code",
   "execution_count": 2,
   "metadata": {},
   "outputs": [
    {
     "data": {
      "text/plain": [
       "dict_keys(['data', 'target', 'target_names', 'images', 'DESCR'])"
      ]
     },
     "execution_count": 2,
     "metadata": {},
     "output_type": "execute_result"
    }
   ],
   "source": [
    "#%%\n",
    "from sklearn.datasets import load_digits\n",
    "digits = load_digits()\n",
    "digits.keys()"
   ]
  },
  {
   "cell_type": "code",
   "execution_count": 3,
   "metadata": {},
   "outputs": [
    {
     "data": {
      "text/plain": [
       "(1797, 8, 8)"
      ]
     },
     "execution_count": 3,
     "metadata": {},
     "output_type": "execute_result"
    }
   ],
   "source": [
    "#%%\n",
    "digits.images.shape"
   ]
  },
  {
   "cell_type": "code",
   "execution_count": 4,
   "metadata": {},
   "outputs": [
    {
     "data": {
      "image/png": "[encoded data removed]",
      "text/plain": [
       "<Figure size 432x288 with 1 Axes>"
      ]
     },
     "metadata": {},
     "output_type": "display_data"
    }
   ],
   "source": [
    "#%%\n",
    "X = digits.data\n",
    "y = digits.target\n",
    "\n",
    "\n",
    "p = np.random.randint(0, len(X), 25)\n",
    "\n",
    "\n",
    "samples = np.array(list(zip(X, y)))[p]\n",
    "for index, (data, label) in enumerate(samples):\n",
    "    plt.subplot(5, 5, index + 1)\n",
    "    plt.axis('on')\n",
    "    plt.imshow(data.reshape(8, 8), cmap=plt.cm.gray_r, interpolation='nearest')\n",
    "    plt.title(label, color='red')\n",
    "    plt.show()\n",
    "    break"
   ]
  },
  {
   "cell_type": "code",
   "execution_count": 5,
   "metadata": {},
   "outputs": [
    {
     "name": "stdout",
     "output_type": "stream",
     "text": [
      "[[ 0.  0.  5. 13.  9.  1.  0.  0.]\n",
      " [ 0.  0. 13. 15. 10. 15.  5.  0.]\n",
      " [ 0.  3. 15.  2.  0. 11.  8.  0.]\n",
      " [ 0.  4. 12.  0.  0.  8.  8.  0.]\n",
      " [ 0.  5.  8.  0.  0.  9.  8.  0.]\n",
      " [ 0.  4. 11.  0.  1. 12.  7.  0.]\n",
      " [ 0.  2. 14.  5. 10. 12.  0.  0.]\n",
      " [ 0.  0.  6. 13. 10.  0.  0.  0.]]\n"
     ]
    }
   ],
   "source": [
    "#%%\n",
    "print(digits.images[0])"
   ]
  },
  {
   "cell_type": "code",
   "execution_count": 6,
   "metadata": {},
   "outputs": [
    {
     "data": {
      "text/plain": [
       "<matplotlib.image.AxesImage at 0x7fc8df17ca20>"
      ]
     },
     "execution_count": 6,
     "metadata": {},
     "output_type": "execute_result"
    },
    {
     "data": {
      "image/png": "[encoded data removed]",
      "text/plain": [
       "<Figure size 288x288 with 1 Axes>"
      ]
     },
     "metadata": {},
     "output_type": "display_data"
    }
   ],
   "source": [
    "#%%\n",
    "plt.matshow(digits.images[0], cmap=plt.cm.Greys)"
   ]
  },
  {
   "cell_type": "code",
   "execution_count": 7,
   "metadata": {},
   "outputs": [
    {
     "data": {
      "text/plain": [
       "(1797, 64)"
      ]
     },
     "execution_count": 7,
     "metadata": {},
     "output_type": "execute_result"
    }
   ],
   "source": [
    "#%%\n",
    "digits.data.shape"
   ]
  },
  {
   "cell_type": "code",
   "execution_count": 8,
   "metadata": {},
   "outputs": [
    {
     "data": {
      "text/plain": [
       "(1797,)"
      ]
     },
     "execution_count": 8,
     "metadata": {},
     "output_type": "execute_result"
    }
   ],
   "source": [
    "#%%\n",
    "digits.target.shape"
   ]
  },
  {
   "cell_type": "code",
   "execution_count": 9,
   "metadata": {},
   "outputs": [],
   "source": [
    "#%%\n",
    "\n",
    "\n",
    "from sklearn.model_selection import train_test_split\n",
    "X_train, X_test, y_train, y_test = train_test_split(digits.data, digits.target)\n"
   ]
  },
  {
   "cell_type": "code",
   "execution_count": 10,
   "metadata": {},
   "outputs": [],
   "source": [
    "#%%\n",
    "from sklearn.svm import LinearSVC,SVC"
   ]
  },
  {
   "cell_type": "code",
   "execution_count": 11,
   "metadata": {},
   "outputs": [],
   "source": [
    "#%%\n",
    "svm = SVC(C=10,gamma=0.001)"
   ]
  },
  {
   "cell_type": "code",
   "execution_count": 12,
   "metadata": {},
   "outputs": [
    {
     "data": {
      "text/plain": [
       "SVC(C=10, cache_size=200, class_weight=None, coef0=0.0,\n",
       "  decision_function_shape='ovr', degree=3, gamma=0.001, kernel='rbf',\n",
       "  max_iter=-1, probability=False, random_state=None, shrinking=True,\n",
       "  tol=0.001, verbose=False)"
      ]
     },
     "execution_count": 12,
     "metadata": {},
     "output_type": "execute_result"
    }
   ],
   "source": [
    "#%%\n",
    "svm.fit(X_train, y_train)"
   ]
  },
  {
   "cell_type": "code",
   "execution_count": 13,
   "metadata": {},
   "outputs": [
    {
     "name": "stdout",
     "output_type": "stream",
     "text": [
      "[9 1 4 ... 2 4 8]\n"
     ]
    }
   ],
   "source": [
    "#%%\n",
    "print(svm.predict(X_train))"
   ]
  },
  {
   "cell_type": "code",
   "execution_count": 14,
   "metadata": {},
   "outputs": [
    {
     "name": "stdout",
     "output_type": "stream",
     "text": [
      "[9 1 4 ... 2 4 8]\n"
     ]
    }
   ],
   "source": [
    "#%%\n",
    "print(y_train)"
   ]
  },
  {
   "cell_type": "code",
   "execution_count": 15,
   "metadata": {},
   "outputs": [
    {
     "name": "stdout",
     "output_type": "stream",
     "text": [
      "[0 8 4 6 6 2 4 7 1 6 2 9 1 7 7 5 3 4 2 2 3 7 6 8 4 5 3 9 3 1 9 6 7 9 7 2 3\n",
      " 6 9 3 8 4 5 3 6 1 7 6 4 4 4 8 1 2 5 1 3 0 7 6 9 8 3 0 7 8 4 1 4 9 6 9 8 3\n",
      " 3 6 3 6 8 9 1 0 7 7 5 4 6 2 9 2 3 9 5 3 9 0 7 8 0 8 8 1 1 9 3 0 8 9 9 8 9\n",
      " 4 8 0 1 8 2 1 2 5 4 1 5 5 6 0 8 2 7 4 5 8 4 4 0 6 9 5 0 6 2 8 7 3 8 1 6 7\n",
      " 5 7 6 9 2 4 3 6 6 4 7 3 7 9 6 2 0 0 5 5 8 6 1 5 6 4 2 8 1 2 9 6 8 3 2 9 9\n",
      " 4 4 1 1 7 6 9 1 8 3 8 6 1 9 3 4 3 8 2 4 3 0 4 5 5 2 0 2 9 4 7 1 7 6 6 6 8\n",
      " 2 7 1 4 8 6 2 5 2 7 2 0 3 4 1 4 3 2 9 1 3 0 4 8 9 0 6 1 8 5 7 2 6 7 2 8 2\n",
      " 2 3 5 2 4 8 6 3 8 8 3 9 9 1 3 4 6 9 7 6 4 4 8 0 7 8 5 7 5 4 4 8 3 7 7 7 8\n",
      " 0 6 4 9 0 3 3 4 3 9 6 3 5 4 1 9 7 2 9 9 1 0 1 0 5 7 1 1 8 0 2 8 3 4 6 3 4\n",
      " 5 3 7 5 9 2 4 2 2 1 1 4 7 6 0 9 2 8 5 3 6 7 2 5 9 7 3 6 2 9 6 0 0 1 7 3 7\n",
      " 3 4 7 1 3 5 4 2 0 2 5 5 6 1 4 2 7 3 4 1 5 0 2 4 7 8 3 7 9 4 6 8 3 3 6 1 9\n",
      " 7 2 7 0 1 0 2 3 5 3 0 5 5 9 0 0 7 1 0 2 9 6 8 0 3 8 6 9 4 8 7 7 1 4 1 2 9\n",
      " 4 1 6 5 0 6]\n"
     ]
    }
   ],
   "source": [
    "#%%\n",
    "print(svm.predict(X_test))"
   ]
  },
  {
   "cell_type": "code",
   "execution_count": 16,
   "metadata": {},
   "outputs": [
    {
     "name": "stdout",
     "output_type": "stream",
     "text": [
      "[0 8 4 6 6 2 4 7 1 6 2 9 1 7 7 5 3 4 2 2 3 7 6 8 4 5 3 9 3 1 9 6 7 9 7 2 3\n",
      " 6 9 3 8 4 5 3 6 1 7 6 4 4 4 8 1 2 5 1 3 0 7 6 9 8 3 0 7 8 4 1 4 9 6 9 8 3\n",
      " 3 6 3 6 8 9 1 0 7 9 5 4 6 2 9 2 3 9 5 3 9 0 7 8 0 8 8 1 1 9 3 0 8 9 9 8 9\n",
      " 4 8 0 1 8 2 1 2 5 4 1 5 5 6 0 8 2 7 4 5 8 4 4 0 6 9 5 0 6 2 8 7 3 8 1 6 7\n",
      " 5 7 6 9 2 4 3 6 6 4 7 3 7 9 6 2 0 0 5 5 8 6 1 5 6 4 2 8 1 2 9 6 8 3 2 9 9\n",
      " 4 4 1 1 7 6 9 1 8 3 8 6 1 9 3 4 3 8 2 4 3 0 4 5 5 2 0 2 9 4 7 1 7 6 6 6 8\n",
      " 2 7 1 4 8 6 2 5 2 7 2 0 3 4 1 4 3 2 9 1 3 0 4 8 9 0 6 1 8 5 7 2 6 7 2 8 2\n",
      " 2 3 5 2 4 8 6 3 8 8 3 9 9 1 3 4 6 9 7 6 4 4 8 0 7 8 5 7 5 4 4 8 3 7 7 7 8\n",
      " 0 6 4 3 0 3 3 4 3 9 6 3 5 4 1 9 7 2 9 9 1 0 1 0 5 7 1 1 8 0 2 8 3 4 6 3 4\n",
      " 5 3 7 5 9 2 4 2 2 1 1 4 7 6 0 9 2 8 5 3 6 7 2 5 9 7 3 6 2 9 6 0 0 1 7 3 7\n",
      " 3 4 7 1 3 5 4 2 0 2 5 5 6 1 4 2 7 3 4 1 5 0 2 4 7 8 3 7 9 4 6 8 3 3 6 1 9\n",
      " 7 2 7 0 1 0 2 3 5 3 0 5 5 9 0 0 7 1 0 2 9 6 8 0 3 6 6 9 4 8 7 7 1 4 1 2 9\n",
      " 4 1 6 5 0 6]\n"
     ]
    }
   ],
   "source": [
    "#%%\n",
    "print(y_test)"
   ]
  },
  {
   "cell_type": "code",
   "execution_count": 17,
   "metadata": {},
   "outputs": [
    {
     "data": {
      "text/plain": [
       "1.0"
      ]
     },
     "execution_count": 17,
     "metadata": {},
     "output_type": "execute_result"
    }
   ],
   "source": [
    "#%%\n",
    "svm.score(X_train, y_train)"
   ]
  },
  {
   "cell_type": "code",
   "execution_count": 18,
   "metadata": {},
   "outputs": [
    {
     "data": {
      "text/plain": [
       "0.9933333333333333"
      ]
     },
     "execution_count": 18,
     "metadata": {},
     "output_type": "execute_result"
    }
   ],
   "source": [
    "#%%\n",
    "svm.score(X_test, y_test)"
   ]
  },
  {
   "cell_type": "code",
   "execution_count": 21,
   "metadata": {},
   "outputs": [
    {
     "name": "stderr",
     "output_type": "stream",
     "text": [
      "/home/juliotorres/miniconda3/lib/python3.6/site-packages/sklearn/cross_validation.py:41: DeprecationWarning: This module was deprecated in version 0.18 in favor of the model_selection module into which all the refactored classes and functions are moved. Also note that the interface of the new CV iterators are different from that of this module. This module will be removed in 0.20.\n",
      "  \"This module will be removed in 0.20.\", DeprecationWarning)\n",
      "/home/juliotorres/miniconda3/lib/python3.6/site-packages/sklearn/grid_search.py:42: DeprecationWarning: This module was deprecated in version 0.18 in favor of the model_selection module into which all the refactored classes and functions are moved. This module will be removed in 0.20.\n",
      "  DeprecationWarning)\n"
     ]
    }
   ],
   "source": [
    "#%%\n",
    "Cs = [0.001, 0.01, 0.1, 1, 10, 100]\n",
    "gammas = [0.001, 0.01, 0.1, 1, 10, 100]\n",
    "\n",
    "from sklearn.grid_search import GridSearchCV\n",
    "\n",
    "param_grid = {'C': Cs, 'gamma' : gammas}\n",
    "grid_search = GridSearchCV(SVC(), param_grid, cv=5, verbose=2)"
   ]
  },
  {
   "cell_type": "code",
   "execution_count": 22,
   "metadata": {},
   "outputs": [
    {
     "name": "stdout",
     "output_type": "stream",
     "text": [
      "Fitting 5 folds for each of 36 candidates, totalling 180 fits\n",
      "[CV] C=0.001, gamma=0.001 ............................................\n",
      "[CV] ................................... C=0.001, gamma=0.001 -   0.3s\n",
      "[CV] C=0.001, gamma=0.001 ............................................\n"
     ]
    },
    {
     "name": "stderr",
     "output_type": "stream",
     "text": [
      "[Parallel(n_jobs=1)]: Done   1 out of   1 | elapsed:    0.3s remaining:    0.0s\n"
     ]
    },
    {
     "name": "stdout",
     "output_type": "stream",
     "text": [
      "[CV] ................................... C=0.001, gamma=0.001 -   0.3s\n",
      "[CV] C=0.001, gamma=0.001 ............................................\n",
      "[CV] ................................... C=0.001, gamma=0.001 -   0.3s\n",
      "[CV] C=0.001, gamma=0.001 ............................................\n",
      "[CV] ................................... C=0.001, gamma=0.001 -   0.4s\n",
      "[CV] C=0.001, gamma=0.001 ............................................\n",
      "[CV] ................................... C=0.001, gamma=0.001 -   0.3s\n",
      "[CV] C=0.001, gamma=0.01 .............................................\n",
      "[CV] .................................... C=0.001, gamma=0.01 -   0.3s\n",
      "[CV] C=0.001, gamma=0.01 .............................................\n",
      "[CV] .................................... C=0.001, gamma=0.01 -   0.3s\n",
      "[CV] C=0.001, gamma=0.01 .............................................\n",
      "[CV] .................................... C=0.001, gamma=0.01 -   0.3s\n",
      "[CV] C=0.001, gamma=0.01 .............................................\n",
      "[CV] .................................... C=0.001, gamma=0.01 -   0.3s\n",
      "[CV] C=0.001, gamma=0.01 .............................................\n",
      "[CV] .................................... C=0.001, gamma=0.01 -   0.3s\n",
      "[CV] C=0.001, gamma=0.1 ..............................................\n",
      "[CV] ..................................... C=0.001, gamma=0.1 -   0.5s\n",
      "[CV] C=0.001, gamma=0.1 ..............................................\n",
      "[CV] ..................................... C=0.001, gamma=0.1 -   0.5s\n",
      "[CV] C=0.001, gamma=0.1 ..............................................\n",
      "[CV] ..................................... C=0.001, gamma=0.1 -   0.5s\n",
      "[CV] C=0.001, gamma=0.1 ..............................................\n",
      "[CV] ..................................... C=0.001, gamma=0.1 -   0.5s\n",
      "[CV] C=0.001, gamma=0.1 ..............................................\n",
      "[CV] ..................................... C=0.001, gamma=0.1 -   0.5s\n",
      "[CV] C=0.001, gamma=1 ................................................\n",
      "[CV] ....................................... C=0.001, gamma=1 -   0.5s\n",
      "[CV] C=0.001, gamma=1 ................................................\n",
      "[CV] ....................................... C=0.001, gamma=1 -   0.5s\n",
      "[CV] C=0.001, gamma=1 ................................................\n",
      "[CV] ....................................... C=0.001, gamma=1 -   0.5s\n",
      "[CV] C=0.001, gamma=1 ................................................\n",
      "[CV] ....................................... C=0.001, gamma=1 -   0.5s\n",
      "[CV] C=0.001, gamma=1 ................................................\n",
      "[CV] ....................................... C=0.001, gamma=1 -   0.5s\n",
      "[CV] C=0.001, gamma=10 ...............................................\n",
      "[CV] ...................................... C=0.001, gamma=10 -   0.5s\n",
      "[CV] C=0.001, gamma=10 ...............................................\n",
      "[CV] ...................................... C=0.001, gamma=10 -   0.5s\n",
      "[CV] C=0.001, gamma=10 ...............................................\n",
      "[CV] ...................................... C=0.001, gamma=10 -   0.5s\n",
      "[CV] C=0.001, gamma=10 ...............................................\n",
      "[CV] ...................................... C=0.001, gamma=10 -   0.5s\n",
      "[CV] C=0.001, gamma=10 ...............................................\n",
      "[CV] ...................................... C=0.001, gamma=10 -   0.5s\n",
      "[CV] C=0.001, gamma=100 ..............................................\n",
      "[CV] ..................................... C=0.001, gamma=100 -   0.5s\n",
      "[CV] C=0.001, gamma=100 ..............................................\n",
      "[CV] ..................................... C=0.001, gamma=100 -   0.5s\n",
      "[CV] C=0.001, gamma=100 ..............................................\n",
      "[CV] ..................................... C=0.001, gamma=100 -   0.5s\n",
      "[CV] C=0.001, gamma=100 ..............................................\n",
      "[CV] ..................................... C=0.001, gamma=100 -   0.5s\n",
      "[CV] C=0.001, gamma=100 ..............................................\n",
      "[CV] ..................................... C=0.001, gamma=100 -   0.5s\n",
      "[CV] C=0.01, gamma=0.001 .............................................\n",
      "[CV] .................................... C=0.01, gamma=0.001 -   0.4s\n",
      "[CV] C=0.01, gamma=0.001 .............................................\n",
      "[CV] .................................... C=0.01, gamma=0.001 -   0.4s\n",
      "[CV] C=0.01, gamma=0.001 .............................................\n",
      "[CV] .................................... C=0.01, gamma=0.001 -   0.4s\n",
      "[CV] C=0.01, gamma=0.001 .............................................\n",
      "[CV] .................................... C=0.01, gamma=0.001 -   0.4s\n",
      "[CV] C=0.01, gamma=0.001 .............................................\n",
      "[CV] .................................... C=0.01, gamma=0.001 -   0.4s\n",
      "[CV] C=0.01, gamma=0.01 ..............................................\n",
      "[CV] ..................................... C=0.01, gamma=0.01 -   0.4s\n",
      "[CV] C=0.01, gamma=0.01 ..............................................\n",
      "[CV] ..................................... C=0.01, gamma=0.01 -   0.4s\n",
      "[CV] C=0.01, gamma=0.01 ..............................................\n",
      "[CV] ..................................... C=0.01, gamma=0.01 -   0.3s\n",
      "[CV] C=0.01, gamma=0.01 ..............................................\n",
      "[CV] ..................................... C=0.01, gamma=0.01 -   0.4s\n",
      "[CV] C=0.01, gamma=0.01 ..............................................\n",
      "[CV] ..................................... C=0.01, gamma=0.01 -   0.4s\n",
      "[CV] C=0.01, gamma=0.1 ...............................................\n",
      "[CV] ...................................... C=0.01, gamma=0.1 -   0.5s\n",
      "[CV] C=0.01, gamma=0.1 ...............................................\n",
      "[CV] ...................................... C=0.01, gamma=0.1 -   0.5s\n",
      "[CV] C=0.01, gamma=0.1 ...............................................\n",
      "[CV] ...................................... C=0.01, gamma=0.1 -   0.5s\n",
      "[CV] C=0.01, gamma=0.1 ...............................................\n",
      "[CV] ...................................... C=0.01, gamma=0.1 -   0.5s\n",
      "[CV] C=0.01, gamma=0.1 ...............................................\n",
      "[CV] ...................................... C=0.01, gamma=0.1 -   0.5s\n",
      "[CV] C=0.01, gamma=1 .................................................\n",
      "[CV] ........................................ C=0.01, gamma=1 -   0.5s\n",
      "[CV] C=0.01, gamma=1 .................................................\n",
      "[CV] ........................................ C=0.01, gamma=1 -   0.5s\n",
      "[CV] C=0.01, gamma=1 .................................................\n",
      "[CV] ........................................ C=0.01, gamma=1 -   0.5s\n",
      "[CV] C=0.01, gamma=1 .................................................\n",
      "[CV] ........................................ C=0.01, gamma=1 -   0.5s\n",
      "[CV] C=0.01, gamma=1 .................................................\n",
      "[CV] ........................................ C=0.01, gamma=1 -   0.5s\n",
      "[CV] C=0.01, gamma=10 ................................................\n",
      "[CV] ....................................... C=0.01, gamma=10 -   0.5s\n",
      "[CV] C=0.01, gamma=10 ................................................\n",
      "[CV] ....................................... C=0.01, gamma=10 -   0.5s\n",
      "[CV] C=0.01, gamma=10 ................................................\n",
      "[CV] ....................................... C=0.01, gamma=10 -   0.5s\n",
      "[CV] C=0.01, gamma=10 ................................................\n",
      "[CV] ....................................... C=0.01, gamma=10 -   0.5s\n",
      "[CV] C=0.01, gamma=10 ................................................\n",
      "[CV] ....................................... C=0.01, gamma=10 -   0.5s\n",
      "[CV] C=0.01, gamma=100 ...............................................\n",
      "[CV] ...................................... C=0.01, gamma=100 -   0.5s\n",
      "[CV] C=0.01, gamma=100 ...............................................\n",
      "[CV] ...................................... C=0.01, gamma=100 -   0.5s\n",
      "[CV] C=0.01, gamma=100 ...............................................\n",
      "[CV] ...................................... C=0.01, gamma=100 -   0.5s\n",
      "[CV] C=0.01, gamma=100 ...............................................\n",
      "[CV] ...................................... C=0.01, gamma=100 -   0.5s\n",
      "[CV] C=0.01, gamma=100 ...............................................\n"
     ]
    },
    {
     "name": "stdout",
     "output_type": "stream",
     "text": [
      "[CV] ...................................... C=0.01, gamma=100 -   0.5s\n",
      "[CV] C=0.1, gamma=0.001 ..............................................\n",
      "[CV] ..................................... C=0.1, gamma=0.001 -   0.3s\n",
      "[CV] C=0.1, gamma=0.001 ..............................................\n",
      "[CV] ..................................... C=0.1, gamma=0.001 -   0.2s\n",
      "[CV] C=0.1, gamma=0.001 ..............................................\n",
      "[CV] ..................................... C=0.1, gamma=0.001 -   0.2s\n",
      "[CV] C=0.1, gamma=0.001 ..............................................\n",
      "[CV] ..................................... C=0.1, gamma=0.001 -   0.2s\n",
      "[CV] C=0.1, gamma=0.001 ..............................................\n",
      "[CV] ..................................... C=0.1, gamma=0.001 -   0.2s\n",
      "[CV] C=0.1, gamma=0.01 ...............................................\n",
      "[CV] ...................................... C=0.1, gamma=0.01 -   0.4s\n",
      "[CV] C=0.1, gamma=0.01 ...............................................\n",
      "[CV] ...................................... C=0.1, gamma=0.01 -   0.3s\n",
      "[CV] C=0.1, gamma=0.01 ...............................................\n",
      "[CV] ...................................... C=0.1, gamma=0.01 -   0.4s\n",
      "[CV] C=0.1, gamma=0.01 ...............................................\n",
      "[CV] ...................................... C=0.1, gamma=0.01 -   0.4s\n",
      "[CV] C=0.1, gamma=0.01 ...............................................\n",
      "[CV] ...................................... C=0.1, gamma=0.01 -   0.3s\n",
      "[CV] C=0.1, gamma=0.1 ................................................\n",
      "[CV] ....................................... C=0.1, gamma=0.1 -   0.5s\n",
      "[CV] C=0.1, gamma=0.1 ................................................\n",
      "[CV] ....................................... C=0.1, gamma=0.1 -   0.5s\n",
      "[CV] C=0.1, gamma=0.1 ................................................\n",
      "[CV] ....................................... C=0.1, gamma=0.1 -   0.5s\n",
      "[CV] C=0.1, gamma=0.1 ................................................\n",
      "[CV] ....................................... C=0.1, gamma=0.1 -   0.5s\n",
      "[CV] C=0.1, gamma=0.1 ................................................\n",
      "[CV] ....................................... C=0.1, gamma=0.1 -   0.5s\n",
      "[CV] C=0.1, gamma=1 ..................................................\n",
      "[CV] ......................................... C=0.1, gamma=1 -   0.5s\n",
      "[CV] C=0.1, gamma=1 ..................................................\n",
      "[CV] ......................................... C=0.1, gamma=1 -   0.5s\n",
      "[CV] C=0.1, gamma=1 ..................................................\n",
      "[CV] ......................................... C=0.1, gamma=1 -   0.5s\n",
      "[CV] C=0.1, gamma=1 ..................................................\n",
      "[CV] ......................................... C=0.1, gamma=1 -   0.5s\n",
      "[CV] C=0.1, gamma=1 ..................................................\n",
      "[CV] ......................................... C=0.1, gamma=1 -   0.5s\n",
      "[CV] C=0.1, gamma=10 .................................................\n",
      "[CV] ........................................ C=0.1, gamma=10 -   0.5s\n",
      "[CV] C=0.1, gamma=10 .................................................\n",
      "[CV] ........................................ C=0.1, gamma=10 -   0.5s\n",
      "[CV] C=0.1, gamma=10 .................................................\n",
      "[CV] ........................................ C=0.1, gamma=10 -   0.5s\n",
      "[CV] C=0.1, gamma=10 .................................................\n",
      "[CV] ........................................ C=0.1, gamma=10 -   0.5s\n",
      "[CV] C=0.1, gamma=10 .................................................\n",
      "[CV] ........................................ C=0.1, gamma=10 -   0.5s\n",
      "[CV] C=0.1, gamma=100 ................................................\n",
      "[CV] ....................................... C=0.1, gamma=100 -   0.5s\n",
      "[CV] C=0.1, gamma=100 ................................................\n",
      "[CV] ....................................... C=0.1, gamma=100 -   0.5s\n",
      "[CV] C=0.1, gamma=100 ................................................\n",
      "[CV] ....................................... C=0.1, gamma=100 -   0.5s\n",
      "[CV] C=0.1, gamma=100 ................................................\n",
      "[CV] ....................................... C=0.1, gamma=100 -   0.5s\n",
      "[CV] C=0.1, gamma=100 ................................................\n",
      "[CV] ....................................... C=0.1, gamma=100 -   0.5s\n",
      "[CV] C=1, gamma=0.001 ................................................\n",
      "[CV] ....................................... C=1, gamma=0.001 -   0.1s\n",
      "[CV] C=1, gamma=0.001 ................................................\n",
      "[CV] ....................................... C=1, gamma=0.001 -   0.1s\n",
      "[CV] C=1, gamma=0.001 ................................................\n",
      "[CV] ....................................... C=1, gamma=0.001 -   0.1s\n",
      "[CV] C=1, gamma=0.001 ................................................\n",
      "[CV] ....................................... C=1, gamma=0.001 -   0.1s\n",
      "[CV] C=1, gamma=0.001 ................................................\n",
      "[CV] ....................................... C=1, gamma=0.001 -   0.1s\n",
      "[CV] C=1, gamma=0.01 .................................................\n",
      "[CV] ........................................ C=1, gamma=0.01 -   0.4s\n",
      "[CV] C=1, gamma=0.01 .................................................\n",
      "[CV] ........................................ C=1, gamma=0.01 -   0.4s\n",
      "[CV] C=1, gamma=0.01 .................................................\n",
      "[CV] ........................................ C=1, gamma=0.01 -   0.4s\n",
      "[CV] C=1, gamma=0.01 .................................................\n",
      "[CV] ........................................ C=1, gamma=0.01 -   0.4s\n",
      "[CV] C=1, gamma=0.01 .................................................\n",
      "[CV] ........................................ C=1, gamma=0.01 -   0.4s\n",
      "[CV] C=1, gamma=0.1 ..................................................\n",
      "[CV] ......................................... C=1, gamma=0.1 -   0.5s\n",
      "[CV] C=1, gamma=0.1 ..................................................\n",
      "[CV] ......................................... C=1, gamma=0.1 -   0.5s\n",
      "[CV] C=1, gamma=0.1 ..................................................\n",
      "[CV] ......................................... C=1, gamma=0.1 -   0.5s\n",
      "[CV] C=1, gamma=0.1 ..................................................\n",
      "[CV] ......................................... C=1, gamma=0.1 -   0.5s\n",
      "[CV] C=1, gamma=0.1 ..................................................\n",
      "[CV] ......................................... C=1, gamma=0.1 -   0.5s\n",
      "[CV] C=1, gamma=1 ....................................................\n",
      "[CV] ........................................... C=1, gamma=1 -   0.5s\n",
      "[CV] C=1, gamma=1 ....................................................\n",
      "[CV] ........................................... C=1, gamma=1 -   0.5s\n",
      "[CV] C=1, gamma=1 ....................................................\n",
      "[CV] ........................................... C=1, gamma=1 -   0.5s\n",
      "[CV] C=1, gamma=1 ....................................................\n",
      "[CV] ........................................... C=1, gamma=1 -   0.5s\n",
      "[CV] C=1, gamma=1 ....................................................\n",
      "[CV] ........................................... C=1, gamma=1 -   0.5s\n",
      "[CV] C=1, gamma=10 ...................................................\n",
      "[CV] .......................................... C=1, gamma=10 -   0.5s\n",
      "[CV] C=1, gamma=10 ...................................................\n",
      "[CV] .......................................... C=1, gamma=10 -   0.5s\n",
      "[CV] C=1, gamma=10 ...................................................\n",
      "[CV] .......................................... C=1, gamma=10 -   0.5s\n",
      "[CV] C=1, gamma=10 ...................................................\n",
      "[CV] .......................................... C=1, gamma=10 -   0.5s\n",
      "[CV] C=1, gamma=10 ...................................................\n",
      "[CV] .......................................... C=1, gamma=10 -   0.5s\n",
      "[CV] C=1, gamma=100 ..................................................\n",
      "[CV] ......................................... C=1, gamma=100 -   0.5s\n",
      "[CV] C=1, gamma=100 ..................................................\n",
      "[CV] ......................................... C=1, gamma=100 -   0.5s\n",
      "[CV] C=1, gamma=100 ..................................................\n"
     ]
    },
    {
     "name": "stdout",
     "output_type": "stream",
     "text": [
      "[CV] ......................................... C=1, gamma=100 -   0.5s\n",
      "[CV] C=1, gamma=100 ..................................................\n",
      "[CV] ......................................... C=1, gamma=100 -   0.5s\n",
      "[CV] C=1, gamma=100 ..................................................\n",
      "[CV] ......................................... C=1, gamma=100 -   0.6s\n",
      "[CV] C=10, gamma=0.001 ...............................................\n",
      "[CV] ...................................... C=10, gamma=0.001 -   0.1s\n",
      "[CV] C=10, gamma=0.001 ...............................................\n",
      "[CV] ...................................... C=10, gamma=0.001 -   0.1s\n",
      "[CV] C=10, gamma=0.001 ...............................................\n",
      "[CV] ...................................... C=10, gamma=0.001 -   0.1s\n",
      "[CV] C=10, gamma=0.001 ...............................................\n",
      "[CV] ...................................... C=10, gamma=0.001 -   0.1s\n",
      "[CV] C=10, gamma=0.001 ...............................................\n",
      "[CV] ...................................... C=10, gamma=0.001 -   0.1s\n",
      "[CV] C=10, gamma=0.01 ................................................\n",
      "[CV] ....................................... C=10, gamma=0.01 -   0.4s\n",
      "[CV] C=10, gamma=0.01 ................................................\n",
      "[CV] ....................................... C=10, gamma=0.01 -   0.4s\n",
      "[CV] C=10, gamma=0.01 ................................................\n",
      "[CV] ....................................... C=10, gamma=0.01 -   0.4s\n",
      "[CV] C=10, gamma=0.01 ................................................\n",
      "[CV] ....................................... C=10, gamma=0.01 -   0.4s\n",
      "[CV] C=10, gamma=0.01 ................................................\n",
      "[CV] ....................................... C=10, gamma=0.01 -   0.4s\n",
      "[CV] C=10, gamma=0.1 .................................................\n",
      "[CV] ........................................ C=10, gamma=0.1 -   0.5s\n",
      "[CV] C=10, gamma=0.1 .................................................\n",
      "[CV] ........................................ C=10, gamma=0.1 -   0.6s\n",
      "[CV] C=10, gamma=0.1 .................................................\n",
      "[CV] ........................................ C=10, gamma=0.1 -   0.6s\n",
      "[CV] C=10, gamma=0.1 .................................................\n",
      "[CV] ........................................ C=10, gamma=0.1 -   0.6s\n",
      "[CV] C=10, gamma=0.1 .................................................\n",
      "[CV] ........................................ C=10, gamma=0.1 -   0.6s\n",
      "[CV] C=10, gamma=1 ...................................................\n",
      "[CV] .......................................... C=10, gamma=1 -   0.6s\n",
      "[CV] C=10, gamma=1 ...................................................\n",
      "[CV] .......................................... C=10, gamma=1 -   0.6s\n",
      "[CV] C=10, gamma=1 ...................................................\n",
      "[CV] .......................................... C=10, gamma=1 -   0.6s\n",
      "[CV] C=10, gamma=1 ...................................................\n",
      "[CV] .......................................... C=10, gamma=1 -   0.5s\n",
      "[CV] C=10, gamma=1 ...................................................\n",
      "[CV] .......................................... C=10, gamma=1 -   0.6s\n",
      "[CV] C=10, gamma=10 ..................................................\n",
      "[CV] ......................................... C=10, gamma=10 -   0.5s\n",
      "[CV] C=10, gamma=10 ..................................................\n",
      "[CV] ......................................... C=10, gamma=10 -   0.6s\n",
      "[CV] C=10, gamma=10 ..................................................\n",
      "[CV] ......................................... C=10, gamma=10 -   0.5s\n",
      "[CV] C=10, gamma=10 ..................................................\n",
      "[CV] ......................................... C=10, gamma=10 -   0.5s\n",
      "[CV] C=10, gamma=10 ..................................................\n",
      "[CV] ......................................... C=10, gamma=10 -   0.5s\n",
      "[CV] C=10, gamma=100 .................................................\n",
      "[CV] ........................................ C=10, gamma=100 -   0.5s\n",
      "[CV] C=10, gamma=100 .................................................\n",
      "[CV] ........................................ C=10, gamma=100 -   0.5s\n",
      "[CV] C=10, gamma=100 .................................................\n",
      "[CV] ........................................ C=10, gamma=100 -   0.5s\n",
      "[CV] C=10, gamma=100 .................................................\n",
      "[CV] ........................................ C=10, gamma=100 -   0.5s\n",
      "[CV] C=10, gamma=100 .................................................\n",
      "[CV] ........................................ C=10, gamma=100 -   0.5s\n",
      "[CV] C=100, gamma=0.001 ..............................................\n",
      "[CV] ..................................... C=100, gamma=0.001 -   0.1s\n",
      "[CV] C=100, gamma=0.001 ..............................................\n",
      "[CV] ..................................... C=100, gamma=0.001 -   0.1s\n",
      "[CV] C=100, gamma=0.001 ..............................................\n",
      "[CV] ..................................... C=100, gamma=0.001 -   0.1s\n",
      "[CV] C=100, gamma=0.001 ..............................................\n",
      "[CV] ..................................... C=100, gamma=0.001 -   0.1s\n",
      "[CV] C=100, gamma=0.001 ..............................................\n",
      "[CV] ..................................... C=100, gamma=0.001 -   0.1s\n",
      "[CV] C=100, gamma=0.01 ...............................................\n",
      "[CV] ...................................... C=100, gamma=0.01 -   0.4s\n",
      "[CV] C=100, gamma=0.01 ...............................................\n",
      "[CV] ...................................... C=100, gamma=0.01 -   0.4s\n",
      "[CV] C=100, gamma=0.01 ...............................................\n",
      "[CV] ...................................... C=100, gamma=0.01 -   0.4s\n",
      "[CV] C=100, gamma=0.01 ...............................................\n",
      "[CV] ...................................... C=100, gamma=0.01 -   0.4s\n",
      "[CV] C=100, gamma=0.01 ...............................................\n",
      "[CV] ...................................... C=100, gamma=0.01 -   0.4s\n",
      "[CV] C=100, gamma=0.1 ................................................\n",
      "[CV] ....................................... C=100, gamma=0.1 -   0.5s\n",
      "[CV] C=100, gamma=0.1 ................................................\n",
      "[CV] ....................................... C=100, gamma=0.1 -   0.6s\n",
      "[CV] C=100, gamma=0.1 ................................................\n",
      "[CV] ....................................... C=100, gamma=0.1 -   0.6s\n",
      "[CV] C=100, gamma=0.1 ................................................\n",
      "[CV] ....................................... C=100, gamma=0.1 -   0.6s\n",
      "[CV] C=100, gamma=0.1 ................................................\n",
      "[CV] ....................................... C=100, gamma=0.1 -   0.5s\n",
      "[CV] C=100, gamma=1 ..................................................\n",
      "[CV] ......................................... C=100, gamma=1 -   0.5s\n",
      "[CV] C=100, gamma=1 ..................................................\n",
      "[CV] ......................................... C=100, gamma=1 -   0.5s\n",
      "[CV] C=100, gamma=1 ..................................................\n",
      "[CV] ......................................... C=100, gamma=1 -   0.5s\n",
      "[CV] C=100, gamma=1 ..................................................\n",
      "[CV] ......................................... C=100, gamma=1 -   0.5s\n",
      "[CV] C=100, gamma=1 ..................................................\n",
      "[CV] ......................................... C=100, gamma=1 -   0.5s\n",
      "[CV] C=100, gamma=10 .................................................\n",
      "[CV] ........................................ C=100, gamma=10 -   0.5s\n",
      "[CV] C=100, gamma=10 .................................................\n",
      "[CV] ........................................ C=100, gamma=10 -   0.5s\n",
      "[CV] C=100, gamma=10 .................................................\n",
      "[CV] ........................................ C=100, gamma=10 -   0.5s\n",
      "[CV] C=100, gamma=10 .................................................\n",
      "[CV] ........................................ C=100, gamma=10 -   0.5s\n",
      "[CV] C=100, gamma=10 .................................................\n",
      "[CV] ........................................ C=100, gamma=10 -   0.5s\n",
      "[CV] C=100, gamma=100 ................................................\n"
     ]
    },
    {
     "name": "stdout",
     "output_type": "stream",
     "text": [
      "[CV] ....................................... C=100, gamma=100 -   0.5s\n",
      "[CV] C=100, gamma=100 ................................................\n",
      "[CV] ....................................... C=100, gamma=100 -   0.5s\n",
      "[CV] C=100, gamma=100 ................................................\n",
      "[CV] ....................................... C=100, gamma=100 -   0.6s\n",
      "[CV] C=100, gamma=100 ................................................\n",
      "[CV] ....................................... C=100, gamma=100 -   0.5s\n",
      "[CV] C=100, gamma=100 ................................................\n",
      "[CV] ....................................... C=100, gamma=100 -   0.5s\n",
      "CPU times: user 1min 19s, sys: 118 ms, total: 1min 19s\n",
      "Wall time: 1min 19s\n"
     ]
    },
    {
     "name": "stderr",
     "output_type": "stream",
     "text": [
      "[Parallel(n_jobs=1)]: Done 180 out of 180 | elapsed:  1.3min finished\n"
     ]
    }
   ],
   "source": [
    "#%%\n",
    "%time _ = grid_search.fit(X_train, y_train)"
   ]
  },
  {
   "cell_type": "code",
   "execution_count": 23,
   "metadata": {},
   "outputs": [
    {
     "data": {
      "text/plain": [
       "0.9933333333333333"
      ]
     },
     "execution_count": 23,
     "metadata": {},
     "output_type": "execute_result"
    }
   ],
   "source": [
    "#%%\n",
    "grid_search.score(X_test, y_test)"
   ]
  },
  {
   "cell_type": "code",
   "execution_count": 24,
   "metadata": {},
   "outputs": [
    {
     "data": {
      "text/plain": [
       "({'C': 10, 'gamma': 0.001}, 0.991833704528582)"
      ]
     },
     "execution_count": 24,
     "metadata": {},
     "output_type": "execute_result"
    }
   ],
   "source": [
    "#%%\n",
    "grid_search.best_params_, grid_search.best_score_"
   ]
  },
  {
   "cell_type": "code",
   "execution_count": 25,
   "metadata": {},
   "outputs": [
    {
     "data": {
      "text/plain": [
       "([<matplotlib.axis.YTick at 0x7fc8d54f6160>,\n",
       "  <matplotlib.axis.YTick at 0x7fc8d54f19e8>,\n",
       "  <matplotlib.axis.YTick at 0x7fc8d54e99e8>,\n",
       "  <matplotlib.axis.YTick at 0x7fc8d5463630>,\n",
       "  <matplotlib.axis.YTick at 0x7fc8d5463b38>,\n",
       "  <matplotlib.axis.YTick at 0x7fc8d546b0f0>],\n",
       " <a list of 6 Text yticklabel objects>)"
      ]
     },
     "execution_count": 25,
     "metadata": {},
     "output_type": "execute_result"
    },
    {
     "data": {
      "image/png": "[encoded data removed]",
      "text/plain": [
       "<Figure size 288x288 with 2 Axes>"
      ]
     },
     "metadata": {},
     "output_type": "display_data"
    }
   ],
   "source": [
    "#%%\n",
    "# We extract just the scores\n",
    "scores = [x[1] for x in grid_search.grid_scores_]\n",
    "scores = np.array(scores).reshape(6, 6)\n",
    "\n",
    "plt.matshow(scores)\n",
    "plt.xlabel('gamma')\n",
    "plt.ylabel('C')\n",
    "plt.colorbar()\n",
    "plt.xticks(np.arange(6), param_grid['gamma'])\n",
    "plt.yticks(np.arange(6), param_grid['C'])"
   ]
  },
  {
   "cell_type": "code",
   "execution_count": 30,
   "metadata": {},
   "outputs": [
    {
     "name": "stdout",
     "output_type": "stream",
     "text": [
      "Accuracy: 0.966667\n"
     ]
    }
   ],
   "source": [
    "#%%\n",
    "from sklearn.datasets import load_digits\n",
    "from sklearn.model_selection import train_test_split\n",
    "from sklearn.svm import LinearSVC\n",
    "\n",
    "digits = load_digits()\n",
    "X, y = digits.data, digits.target\n",
    "X_train, X_test, y_train, y_test = train_test_split(X, y, random_state=42)\n",
    "\n",
    "classifier = LinearSVC(random_state=0).fit(X_train, y_train)\n",
    "y_test_pred = classifier.predict(X_test)\n",
    "\n",
    "print(\"Accuracy: %f\" % classifier.score(X_test, y_test))"
   ]
  },
  {
   "cell_type": "code",
   "execution_count": 31,
   "metadata": {},
   "outputs": [
    {
     "data": {
      "text/plain": [
       "array([[42,  0,  0,  0,  1,  0,  0,  0,  0,  0],\n",
       "       [ 0, 36,  0,  0,  0,  0,  0,  0,  0,  1],\n",
       "       [ 0,  0, 38,  0,  0,  0,  0,  0,  0,  0],\n",
       "       [ 0,  0,  0, 44,  0,  1,  0,  0,  1,  0],\n",
       "       [ 0,  0,  0,  0, 55,  0,  0,  0,  0,  0],\n",
       "       [ 0,  0,  1,  0,  0, 56,  1,  0,  0,  1],\n",
       "       [ 0,  0,  0,  0,  0,  1, 44,  0,  0,  0],\n",
       "       [ 0,  0,  0,  0,  0,  0,  0, 40,  0,  1],\n",
       "       [ 0,  2,  0,  0,  0,  1,  0,  0, 35,  0],\n",
       "       [ 0,  0,  0,  0,  0,  0,  0,  0,  3, 45]])"
      ]
     },
     "execution_count": 31,
     "metadata": {},
     "output_type": "execute_result"
    }
   ],
   "source": [
    "#%%\n",
    "from sklearn.metrics import confusion_matrix\n",
    "confusion_matrix(y_test, y_test_pred)"
   ]
  },
  {
   "cell_type": "code",
   "execution_count": 32,
   "metadata": {},
   "outputs": [
    {
     "data": {
      "text/plain": [
       "Text(0,0.5,'True label')"
      ]
     },
     "execution_count": 32,
     "metadata": {},
     "output_type": "execute_result"
    },
    {
     "data": {
      "image/png": "[encoded data removed]",
      "text/plain": [
       "<Figure size 432x288 with 2 Axes>"
      ]
     },
     "metadata": {},
     "output_type": "display_data"
    }
   ],
   "source": [
    "#%%\n",
    "plt.imshow(confusion_matrix(y_test, y_test_pred), cmap=\"coolwarm\", interpolation=\"None\")\n",
    "plt.colorbar()\n",
    "plt.xlabel(\"Predicted label\")\n",
    "plt.xticks(range(10))\n",
    "plt.yticks(range(10))\n",
    "plt.ylabel(\"True label\")"
   ]
  },
  {
   "cell_type": "code",
   "execution_count": 33,
   "metadata": {},
   "outputs": [
    {
     "name": "stdout",
     "output_type": "stream",
     "text": [
      "             precision    recall  f1-score   support\n",
      "\n",
      "          0       1.00      0.98      0.99        43\n",
      "          1       0.95      0.97      0.96        37\n",
      "          2       0.97      1.00      0.99        38\n",
      "          3       1.00      0.96      0.98        46\n",
      "          4       0.98      1.00      0.99        55\n",
      "          5       0.95      0.95      0.95        59\n",
      "          6       0.98      0.98      0.98        45\n",
      "          7       1.00      0.98      0.99        41\n",
      "          8       0.90      0.92      0.91        38\n",
      "          9       0.94      0.94      0.94        48\n",
      "\n",
      "avg / total       0.97      0.97      0.97       450\n",
      "\n"
     ]
    }
   ],
   "source": [
    "#%%\n",
    "from sklearn.metrics import classification_report\n",
    "print(classification_report(y_test, y_test_pred))"
   ]
  },
  {
   "cell_type": "code",
   "execution_count": null,
   "metadata": {},
   "outputs": [],
   "source": []
  }
 ],
 "metadata": {
  "kernelspec": {
   "display_name": "Python 3",
   "language": "python",
   "name": "python3"
  },
  "language_info": {
   "codemirror_mode": {
    "name": "ipython",
    "version": 3
   },
   "file_extension": ".py",
   "mimetype": "text/x-python",
   "name": "python",
   "nbconvert_exporter": "python",
   "pygments_lexer": "ipython3",
   "version": "3.6.3"
  }
 },
 "nbformat": 4,
 "nbformat_minor": 2
}
