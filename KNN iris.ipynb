{
 "cells": [
  {
   "cell_type": "code",
   "execution_count": 1,
   "metadata": {},
   "outputs": [],
   "source": [
    "# Import iris dataset from sklearn\n",
    "from sklearn.datasets import load_iris\n",
    "# Store iris dataset\n",
    "iris_dataset = load_iris()"
   ]
  },
  {
   "cell_type": "code",
   "execution_count": 2,
   "metadata": {},
   "outputs": [
    {
     "name": "stdout",
     "output_type": "stream",
     "text": [
      "(150, 4)\n",
      "(150,)\n"
     ]
    }
   ],
   "source": [
    "iris_x_features = iris_dataset.data\n",
    "iris_y_target = iris_dataset.target\n",
    "print(iris_x_features.shape)\n",
    "print(iris_y_target.shape)"
   ]
  },
  {
   "cell_type": "code",
   "execution_count": 3,
   "metadata": {},
   "outputs": [],
   "source": [
    "# Import sklearn train test split to split iris dataset into train and test datasets\n",
    "from sklearn.model_selection import train_test_split\n",
    "\n",
    "x_train,x_test,y_train,y_test = train_test_split(iris_x_features,iris_y_target,test_size = 0.3)"
   ]
  },
  {
   "cell_type": "code",
   "execution_count": 4,
   "metadata": {},
   "outputs": [
    {
     "name": "stdout",
     "output_type": "stream",
     "text": [
      "(105, 4)\n",
      "(45, 4)\n",
      "(105,)\n",
      "(45,)\n"
     ]
    }
   ],
   "source": [
    "# Train and test datasets\n",
    "print(x_train.shape)\n",
    "print(x_test.shape)\n",
    "print(y_train.shape)\n",
    "print(y_test.shape)"
   ]
  },
  {
   "cell_type": "code",
   "execution_count": 5,
   "metadata": {},
   "outputs": [],
   "source": [
    "import numpy as np\n",
    "import matplotlib.pyplot as plt\n",
    "from matplotlib.colors import ListedColormap, LinearSegmentedColormap\n",
    "cmap_bold = ListedColormap(['#FF0000', '#00FF00', '#0000FF'])\n",
    "cmap_light = LinearSegmentedColormap.from_list(\"5555FF\", ['#FF5555', '#5555FF'])\n",
    "cmap_pastel = LinearSegmentedColormap.from_list(\"5555FF\", ['#FF8888', '#8888FF'])\n",
    "def plot_classification(features, target, classifier=None, probabilities=False, header=None):\n",
    "    classes = list(set(target))\n",
    "    classes = {class_: classes.index(class_) for class_ in classes}\n",
    "    targetids = [classes[class_] for class_ in target]\n",
    "    X = np.array(features)\n",
    "    x_min, x_max = X[:, 0].min() - 1, X[:, 0].max() + 1\n",
    "    y_min, y_max = X[:, 1].min() - 1, X[:, 1].max() + 1\n",
    "    xh = (x_max - x_min) / 250.0\n",
    "    yh = (y_max - y_min) / 250.0\n",
    "    xx, yy = np.meshgrid(np.arange(x_min, x_max, xh),\n",
    "                         np.arange(y_min, y_max, yh))\n",
    "    if header:\n",
    "        title(header, fontsize=24)\n",
    "    if classifier is not None:\n",
    "        if not probabilities:\n",
    "            Z = classifier.predict(np.c_[xx.ravel(), yy.ravel()])\n",
    "            Z = numpy.array([classes[class_] for class_ in Z])\n",
    "        elif hasattr(classifier, \"decision_function\"):\n",
    "            Z = classifier.decision_function(np.c_[xx.ravel(), yy.ravel()])\n",
    "            Z = numpy.array([1 - p for p in Z])\n",
    "        else:\n",
    "            Z = classifier.predict_proba(np.c_[xx.ravel(), yy.ravel()])[:, 1]\n",
    "            Z = np.array([1 - p for p in Z])\n",
    "        Z = Z.reshape(xx.shape)\n",
    "        if probabilities:\n",
    "            pcolormesh(xx, yy, Z, cmap=cmap_light)\n",
    "        else:\n",
    "            pcolormesh(xx, yy, Z, cmap=cmap_pastel)\n",
    "        score = classifier.score(features, target) * 100\n",
    "        score = ('Accuracy %.2f%%' % score).lstrip('0')\n",
    "        text(xx.max() - 1, yy.min() + 4, score,\n",
    "                size=15, horizontalalignment='right')\n",
    "    # Plot data points\n",
    "    plt.scatter(X[:, 0], X[:, 1], c=targetids, cmap=cmap_bold)\n",
    "    plt.xlim(xx.min(), xx.max())\n",
    "    plt.ylim(yy.min(), yy.max())\n",
    "    plt.show()"
   ]
  },
  {
   "cell_type": "code",
   "execution_count": 6,
   "metadata": {},
   "outputs": [
    {
     "data": {
      "image/png": "[encoded data removed]",
      "text/plain": [
       "<Figure size 432x288 with 1 Axes>"
      ]
     },
     "metadata": {},
     "output_type": "display_data"
    }
   ],
   "source": [
    "plot_classification(x_train, y_train)"
   ]
  },
  {
   "cell_type": "code",
   "execution_count": 7,
   "metadata": {},
   "outputs": [
    {
     "data": {
      "image/png": "[encoded data removed]",
      "text/plain": [
       "<Figure size 432x288 with 1 Axes>"
      ]
     },
     "metadata": {},
     "output_type": "display_data"
    }
   ],
   "source": [
    "plot_classification(x_test, y_test)"
   ]
  },
  {
   "cell_type": "code",
   "execution_count": 8,
   "metadata": {},
   "outputs": [],
   "source": [
    "# Import knn classifer from sklearn\n",
    "from sklearn.neighbors import KNeighborsClassifier\n",
    "knn_classifier = KNeighborsClassifier(n_neighbors = 4)"
   ]
  },
  {
   "cell_type": "code",
   "execution_count": 9,
   "metadata": {},
   "outputs": [
    {
     "data": {
      "text/plain": [
       "KNeighborsClassifier(algorithm='auto', leaf_size=30, metric='minkowski',\n",
       "           metric_params=None, n_jobs=1, n_neighbors=4, p=2,\n",
       "           weights='uniform')"
      ]
     },
     "execution_count": 9,
     "metadata": {},
     "output_type": "execute_result"
    }
   ],
   "source": [
    "knn_classifier.fit(x_train,y_train)"
   ]
  },
  {
   "cell_type": "code",
   "execution_count": 10,
   "metadata": {},
   "outputs": [
    {
     "name": "stdout",
     "output_type": "stream",
     "text": [
      "['versicolor']\n"
     ]
    }
   ],
   "source": [
    "result = knn_classifier.predict([[3, 5, 4, 2]])\n",
    "print(iris_dataset.target_names[result])"
   ]
  },
  {
   "cell_type": "code",
   "execution_count": 12,
   "metadata": {},
   "outputs": [
    {
     "name": "stdout",
     "output_type": "stream",
     "text": [
      "[5.  2.3 3.3 1. ]\n",
      "['versicolor']\n",
      "[6.9 3.2 5.7 2.3]\n",
      "['virginica']\n",
      "[5.3 3.7 1.5 0.2]\n",
      "['setosa']\n",
      "[5.2 2.7 3.9 1.4]\n",
      "['versicolor']\n"
     ]
    }
   ],
   "source": [
    "print(x_test[0])\n",
    "result = knn_classifier.predict(x_test[0:1])\n",
    "print(iris_dataset.target_names[result])\n",
    "\n",
    "print(x_test[1])\n",
    "result = knn_classifier.predict(x_test[1:2])\n",
    "print(iris_dataset.target_names[result])\n",
    "\n",
    "print(x_test[2])\n",
    "result = knn_classifier.predict(x_test[2:3])\n",
    "print(iris_dataset.target_names[result])\n",
    "\n",
    "print(x_test[10])\n",
    "result = knn_classifier.predict(x_test[10:11])\n",
    "print(iris_dataset.target_names[result])"
   ]
  },
  {
   "cell_type": "code",
   "execution_count": 13,
   "metadata": {},
   "outputs": [
    {
     "name": "stdout",
     "output_type": "stream",
     "text": [
      "0.9714285714285714\n"
     ]
    }
   ],
   "source": [
    "# import sklearn metrics to know the accuracy of model\n",
    "from sklearn import metrics\n",
    "train_target_predictions = knn_classifier.predict(x_train)\n",
    "print(metrics.accuracy_score(y_train,train_target_predictions))"
   ]
  },
  {
   "cell_type": "code",
   "execution_count": 14,
   "metadata": {},
   "outputs": [
    {
     "name": "stdout",
     "output_type": "stream",
     "text": [
      "0.9777777777777777\n"
     ]
    }
   ],
   "source": [
    "test_target_predictions = knn_classifier.predict(x_test)\n",
    "print(metrics.accuracy_score(y_test,test_target_predictions))"
   ]
  },
  {
   "cell_type": "code",
   "execution_count": 15,
   "metadata": {},
   "outputs": [
    {
     "name": "stdout",
     "output_type": "stream",
     "text": [
      "             precision    recall  f1-score   support\n",
      "\n",
      "     setosa       1.00      1.00      1.00        38\n",
      " versicolor       0.96      0.93      0.95        28\n",
      "  virginica       0.95      0.97      0.96        39\n",
      "\n",
      "avg / total       0.97      0.97      0.97       105\n",
      "\n"
     ]
    }
   ],
   "source": [
    "#informe de clasificación\n",
    "from sklearn.metrics import accuracy_score, classification_report\n",
    "target_names = iris_dataset.target_names\n",
    "print(classification_report(y_train, train_target_predictions, target_names=target_names))"
   ]
  },
  {
   "cell_type": "code",
   "execution_count": 16,
   "metadata": {},
   "outputs": [
    {
     "name": "stdout",
     "output_type": "stream",
     "text": [
      "             precision    recall  f1-score   support\n",
      "\n",
      "     setosa       1.00      1.00      1.00        12\n",
      " versicolor       1.00      0.95      0.98        22\n",
      "  virginica       0.92      1.00      0.96        11\n",
      "\n",
      "avg / total       0.98      0.98      0.98        45\n",
      "\n"
     ]
    }
   ],
   "source": [
    "#informe de clasificación\n",
    "from sklearn.metrics import accuracy_score, classification_report\n",
    "target_names = iris_dataset.target_names\n",
    "print(classification_report(y_test, test_target_predictions, target_names=target_names))"
   ]
  },
  {
   "cell_type": "code",
   "execution_count": 25,
   "metadata": {},
   "outputs": [
    {
     "data": {
      "text/plain": [
       "array([[3.5, 1.4],\n",
       "       [3. , 1.4],\n",
       "       [3.2, 1.3],\n",
       "       [3.1, 1.5],\n",
       "       [3.6, 1.4],\n",
       "       [3.9, 1.7],\n",
       "       [3.4, 1.4],\n",
       "       [3.4, 1.5],\n",
       "       [2.9, 1.4],\n",
       "       [3.1, 1.5]])"
      ]
     },
     "execution_count": 25,
     "metadata": {},
     "output_type": "execute_result"
    }
   ],
   "source": [
    "iris_dataset.data[:10, 1:3]"
   ]
  },
  {
   "cell_type": "code",
   "execution_count": 28,
   "metadata": {},
   "outputs": [
    {
     "data": {
      "image/png": "[encoded data removed]",
      "text/plain": [
       "<Figure size 432x288 with 1 Axes>"
      ]
     },
     "metadata": {},
     "output_type": "display_data"
    }
   ],
   "source": [
    "k=15\n",
    "\n",
    "k1 = KNeighborsClassifier(n_neighbors=k,weights='distance')\n",
    "\n",
    "#tomamos las 2 primeras caracteristicas\n",
    "#X = iris_dataset.data[:, 0:0]\n",
    "\n",
    "#tomamos las 2 ultimas caracteristicas\n",
    "X = iris_dataset.data[:,1:3]\n",
    "\n",
    "y = iris_dataset.target\n",
    "\n",
    "\n",
    "#entrenar los datos\n",
    "k1.fit(X,y)\n",
    "    \n",
    "#definir la malla\n",
    "h = .02\n",
    "x_min, x_max = X[:, 0].min() - 1, X[:, 0].max() + 1\n",
    "y_min, y_max = X[:, 1].min() - 1, X[:, 1].max() + 1\n",
    "xx, yy = np.meshgrid(np.arange(x_min, x_max, h),\n",
    "                     np.arange(y_min, y_max, h)) \n",
    "\n",
    "#realizar la prediccion\n",
    "knn_preds = k1.predict(np.c_[xx.ravel(), yy.ravel()])\n",
    "\n",
    "# Put the result into a color plot\n",
    "knn_preds = knn_preds.reshape(xx.shape)\n",
    "\n",
    "#colores\n",
    "cmap_light = ListedColormap(['#FFAAAA', '#AAFFAA', '#AAAAFF'])\n",
    "cmap_bold = ListedColormap(['#FF0000', '#00FF00', '#0000FF'])\n",
    "\n",
    "\n",
    "#dibujar la superficie de decision\n",
    "plt.figure()\n",
    "plt.pcolormesh(xx, yy, knn_preds, cmap=cmap_light,\n",
    "               vmin=knn_preds.min(), vmax=knn_preds.max())\n",
    "\n",
    "#dibujar los puntos\n",
    "plt.scatter(X[:, 0], X[:, 1], c=y, cmap=cmap_bold)\n",
    "plt.xlim(xx.min(), xx.max())\n",
    "plt.ylim(yy.min(), yy.max())\n",
    "plt.title(\"k-NNs Classification Results (k = %i, weights = '%s')\" % (k, 'distance'))\n",
    "\n",
    "plt.show()"
   ]
  },
  {
   "cell_type": "code",
   "execution_count": 36,
   "metadata": {},
   "outputs": [],
   "source": [
    "y_pred = k1.predict(x_test[:,1:3])\n",
    "y_test_class = y_test #np.argmax(y_test,axis=1)\n",
    "y_pred_class = y_pred #np.argmax(y_pred,axis=1)"
   ]
  },
  {
   "cell_type": "code",
   "execution_count": 37,
   "metadata": {},
   "outputs": [
    {
     "name": "stdout",
     "output_type": "stream",
     "text": [
      "             precision    recall  f1-score   support\n",
      "\n",
      "          0       1.00      1.00      1.00        12\n",
      "          1       1.00      1.00      1.00        22\n",
      "          2       1.00      1.00      1.00        11\n",
      "\n",
      "avg / total       1.00      1.00      1.00        45\n",
      "\n",
      "[[12  0  0]\n",
      " [ 0 22  0]\n",
      " [ 0  0 11]]\n"
     ]
    }
   ],
   "source": [
    "from sklearn.metrics import classification_report,confusion_matrix\n",
    "print(classification_report(y_test_class,y_pred_class))\n",
    "print(confusion_matrix(y_test_class,y_pred_class))"
   ]
  },
  {
   "cell_type": "code",
   "execution_count": 38,
   "metadata": {},
   "outputs": [
    {
     "data": {
      "text/plain": [
       "(45, 4)"
      ]
     },
     "execution_count": 38,
     "metadata": {},
     "output_type": "execute_result"
    }
   ],
   "source": [
    "x_test.shape"
   ]
  }
 ],
 "metadata": {
  "kernelspec": {
   "display_name": "Python 3",
   "language": "python",
   "name": "python3"
  },
  "language_info": {
   "codemirror_mode": {
    "name": "ipython",
    "version": 3
   },
   "file_extension": ".py",
   "mimetype": "text/x-python",
   "name": "python",
   "nbconvert_exporter": "python",
   "pygments_lexer": "ipython3",
   "version": "3.6.3"
  }
 },
 "nbformat": 4,
 "nbformat_minor": 2
}
