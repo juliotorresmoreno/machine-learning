{
 "cells": [
  {
   "cell_type": "code",
   "execution_count": null,
   "metadata": {},
   "outputs": [],
   "source": [
    "#Defining the model \n",
    "from keras.models import Sequential\n",
    "from keras.optimizers import SGD, Adam, Adagrad, Adadelta, Nadam, RMSprop\n",
    "from keras.layers import Dense, Dropout, Flatten\n",
    "from keras.layers import Conv1D, MaxPooling2D\n",
    "#fitting the model and predicting \n",
    "from keras.utils import to_categorical\n",
    "\n",
    "import numpy as np # linear algebra\n",
    "from keras.datasets import mnist\n",
    "import matplotlib.pyplot as plt\n",
    "import random"
   ]
  },
  {
   "cell_type": "code",
   "execution_count": null,
   "metadata": {},
   "outputs": [],
   "source": [
    "(train_images, y_train), (test_images, y_test) = mnist.load_data()"
   ]
  },
  {
   "cell_type": "code",
   "execution_count": null,
   "metadata": {},
   "outputs": [],
   "source": [
    "x_train = train_images#[0:10000,:]\n",
    "x_test = test_images#[0:1000,:]\n",
    "\n",
    "y_train = y_train#[0:10000]\n",
    "y_test = y_test#[0:1000]"
   ]
  },
  {
   "cell_type": "code",
   "execution_count": 4,
   "metadata": {},
   "outputs": [
    {
     "data": {
      "image/png": "[encoded data removed]",
      "text/plain": [
       "<Figure size 432x288 with 1 Axes>"
      ]
     },
     "metadata": {},
     "output_type": "display_data"
    }
   ],
   "source": [
    "n = random.randint(0, x_train.shape[0]-1)\n",
    "plt.title('Label is {label}'.format(label=y_train[n]))\n",
    "plt.imshow(train_images[n], cmap='gray')\n",
    "plt.show()"
   ]
  },
  {
   "cell_type": "code",
   "execution_count": 5,
   "metadata": {},
   "outputs": [
    {
     "data": {
      "text/plain": [
       "(60000, 28, 28)"
      ]
     },
     "execution_count": 5,
     "metadata": {},
     "output_type": "execute_result"
    }
   ],
   "source": [
    "#train_images = train_images.reshape(train_images.shape[0],28,28,1)\n",
    "x_train.shape"
   ]
  },
  {
   "cell_type": "code",
   "execution_count": 16,
   "metadata": {},
   "outputs": [
    {
     "data": {
      "text/plain": [
       "<keras.layers.convolutional.Conv1D at 0x7f11a6a9c860>"
      ]
     },
     "execution_count": 16,
     "metadata": {},
     "output_type": "execute_result"
    }
   ],
   "source": [
    "Conv1D(32, (3), activation='sigmoid', input_shape=(28, 28))"
   ]
  },
  {
   "cell_type": "code",
   "execution_count": 18,
   "metadata": {},
   "outputs": [
    {
     "name": "stdout",
     "output_type": "stream",
     "text": [
      "_________________________________________________________________\n",
      "Layer (type)                 Output Shape              Param #   \n",
      "=================================================================\n",
      "conv1d_5 (Conv1D)            (None, 22, 16)            3152      \n",
      "_________________________________________________________________\n",
      "dropout_3 (Dropout)          (None, 22, 16)            0         \n",
      "_________________________________________________________________\n",
      "flatten_3 (Flatten)          (None, 352)               0         \n",
      "_________________________________________________________________\n",
      "dense_3 (Dense)              (None, 10)                3530      \n",
      "=================================================================\n",
      "Total params: 6,682\n",
      "Trainable params: 6,682\n",
      "Non-trainable params: 0\n",
      "_________________________________________________________________\n"
     ]
    }
   ],
   "source": [
    "#sigmoid, tanh, softmax, relu, Leaky ReLU\n",
    "\n",
    "model = Sequential()\n",
    "#model.add(Dense(28, activation='sigmoid', input_shape=(28, 28)))\n",
    "model.add(Conv1D(16, (7), activation='sigmoid', input_shape=(28, 28)))\n",
    "#model.add(MaxPooling1D(pool_size=(2)))\n",
    "model.add(Dropout(0.25))\n",
    "\n",
    "model.add(Flatten())\n",
    "#model.add(Dense(512, activation='sigmoid'))\n",
    "#model.add(Dropout(0.15))\n",
    "#model.add(Dense(int(416/4), activation='sigmoid'))\n",
    "#model.add(Dropout(0.15))\n",
    "model.add(Dense(10, activation='softmax'))\n",
    "\n",
    "#sgd = SGD(lr=0.01, decay=1e-6, momentum=0.9, nesterov=True)\n",
    "#sgd = SGD(lr=0.01)\n",
    "#adam = Adam(lr=0.01)\n",
    "#adagrad = Adagrad(lr=0.01)\n",
    "#adadelta = Adadelta(lr=0.01)\n",
    "rmsprop = RMSprop(lr=0.001)\n",
    "model.compile(loss='categorical_crossentropy', optimizer=rmsprop, metrics=['accuracy'])\n",
    "model.summary()"
   ]
  },
  {
   "cell_type": "code",
   "execution_count": 21,
   "metadata": {},
   "outputs": [],
   "source": [
    "def aprender(x_train, y_train):\n",
    "    model.fit(x_train,to_categorical(y_train),epochs=1,validation_split=0.05,batch_size=64)"
   ]
  },
  {
   "cell_type": "code",
   "execution_count": 22,
   "metadata": {},
   "outputs": [
    {
     "name": "stdout",
     "output_type": "stream",
     "text": [
      "Train on 57000 samples, validate on 3000 samples\n",
      "Epoch 1/1\n",
      "57000/57000 [==============================] - 448s 8ms/step - loss: 0.2727 - acc: 0.9176 - val_loss: 0.1465 - val_acc: 0.9607\n"
     ]
    }
   ],
   "source": [
    "aprender(x_train, y_train)"
   ]
  },
  {
   "cell_type": "code",
   "execution_count": 10,
   "metadata": {},
   "outputs": [
    {
     "data": {
      "text/plain": [
       "array([1.9979690e-10, 2.6023423e-09, 5.8664053e-05, 5.2153436e-04,\n",
       "       2.1806608e-08, 3.9069646e-06, 4.8311209e-11, 9.9938738e-01,\n",
       "       3.2992642e-09, 2.8481394e-05], dtype=float32)"
      ]
     },
     "execution_count": 10,
     "metadata": {},
     "output_type": "execute_result"
    }
   ],
   "source": [
    "y_pred = model.predict(x_test)\n",
    "y_pred[0]"
   ]
  },
  {
   "cell_type": "code",
   "execution_count": 11,
   "metadata": {},
   "outputs": [],
   "source": [
    "y_test_class = y_test #np.argmax(y_test,axis=1)\n",
    "y_pred_class = np.argmax(y_pred,axis=1)"
   ]
  },
  {
   "cell_type": "code",
   "execution_count": 12,
   "metadata": {},
   "outputs": [
    {
     "name": "stdout",
     "output_type": "stream",
     "text": [
      "Prediccion: 9\n"
     ]
    },
    {
     "data": {
      "image/png": "[encoded data removed]",
      "text/plain": [
       "<Figure size 432x288 with 1 Axes>"
      ]
     },
     "metadata": {},
     "output_type": "display_data"
    }
   ],
   "source": [
    "#x_test.shape\n",
    "n = random.randint(1, y_test_class.shape[0]) - 1\n",
    "y_pred = model.predict(x_test[n:n+1])\n",
    "print(\"Prediccion: {}\".format(np.argmax(y_pred,axis=1)[0]))\n",
    "plt.title('Label is {label}'.format(label=y_test[n]))\n",
    "plt.imshow(test_images[n], cmap='gray')\n",
    "plt.show()"
   ]
  },
  {
   "cell_type": "code",
   "execution_count": 13,
   "metadata": {},
   "outputs": [
    {
     "name": "stdout",
     "output_type": "stream",
     "text": [
      "             precision    recall  f1-score   support\n",
      "\n",
      "          0       0.97      0.99      0.98       980\n",
      "          1       0.97      0.99      0.98      1135\n",
      "          2       0.95      0.95      0.95      1032\n",
      "          3       0.94      0.94      0.94      1010\n",
      "          4       0.97      0.94      0.96       982\n",
      "          5       0.93      0.94      0.93       892\n",
      "          6       0.96      0.97      0.97       958\n",
      "          7       0.98      0.89      0.94      1028\n",
      "          8       0.94      0.94      0.94       974\n",
      "          9       0.89      0.95      0.92      1009\n",
      "\n",
      "avg / total       0.95      0.95      0.95     10000\n",
      "\n",
      "[[ 966    0    1    0    0    3    6    0    3    1]\n",
      " [   0 1119    4    1    0    1    2    0    8    0]\n",
      " [   3    2  978   10    3    6    6    7   14    3]\n",
      " [   1    0   15  952    1   22    1    5    8    5]\n",
      " [   1    2    0    1  927    0    7    0    4   40]\n",
      " [   4    3    2   26    1  837    8    1    5    5]\n",
      " [   6    3    1    0    3   11  931    0    3    0]\n",
      " [   1   14   19    6    5    6    0  920    2   55]\n",
      " [   6    2    4    4    7   13    4    0  918   16]\n",
      " [   4    6    2    9   10    5    0    4    7  962]]\n"
     ]
    }
   ],
   "source": [
    "from sklearn.metrics import classification_report,confusion_matrix\n",
    "print(classification_report(y_test_class,y_pred_class))\n",
    "print(confusion_matrix(y_test_class,y_pred_class))"
   ]
  },
  {
   "cell_type": "code",
   "execution_count": null,
   "metadata": {},
   "outputs": [],
   "source": []
  }
 ],
 "metadata": {
  "kernelspec": {
   "display_name": "Python 3",
   "language": "python",
   "name": "python3"
  },
  "language_info": {
   "codemirror_mode": {
    "name": "ipython",
    "version": 3
   },
   "file_extension": ".py",
   "mimetype": "text/x-python",
   "name": "python",
   "nbconvert_exporter": "python",
   "pygments_lexer": "ipython3",
   "version": "3.6.3"
  }
 },
 "nbformat": 4,
 "nbformat_minor": 2
}
