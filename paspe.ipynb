{
 "cells": [
  {
   "cell_type": "code",
   "execution_count": 1,
   "metadata": {},
   "outputs": [],
   "source": [
    "# This Python 3 environment comes with many helpful analytics libraries installed\n",
    "# It is defined by the kaggle/python docker image: https://github.com/kaggle/docker-python\n",
    "# For example, here's several helpful packages to load in \n",
    "\n",
    "import numpy as np # linear algebra\n",
    "import pandas as pd # data processing, CSV file I/O (e.g. pd.read_csv)\n",
    "from sklearn.metrics import classification_report,confusion_matrix\n",
    "import random\n",
    "# Input data files are available in the \"../input/\" directory.\n",
    "# For example, running this (by clicking run or pressing Shift+Enter) will list the files in the input directory\n",
    "\n",
    "from subprocess import check_output"
   ]
  },
  {
   "cell_type": "code",
   "execution_count": 2,
   "metadata": {},
   "outputs": [],
   "source": [
    "#%%\n",
    "from mysql import connector\n",
    "\n",
    "#%%\n",
    "cnx = connector.connect(\n",
    "    user='root', \n",
    "    password='paramore',\n",
    "    host='127.0.0.1',\n",
    "    database='paspe'\n",
    ")\n",
    "\n",
    "#%%\n",
    "def query(sql):\n",
    "    cursor = cnx.cursor()\n",
    "    cursor.execute(sql)\n",
    "    data = cursor.fetchall()\n",
    "    cursor.close()\n",
    "    return data"
   ]
  },
  {
   "cell_type": "code",
   "execution_count": 3,
   "metadata": {},
   "outputs": [],
   "source": [
    "#%%\n",
    "tmp = query(\"\"\"\n",
    "    SELECT b.IdValorParametro campo_id\n",
    "      FROM paspe.paspe_campos a\n",
    "INNER JOIN paspe.extidi_valorparametro b ON a.IdParametro = b.IdParametro\n",
    "     WHERE a.UtilizaParaCalculo = 1\n",
    "\"\"\")\n",
    "campos = []\n",
    "strcampos = \"\"\n",
    "for row in tmp:\n",
    "    campos.append(row[0])\n",
    "    strcampos = strcampos + \"`\" + str(row[0]) + \"`, \"\n",
    "strcampos = strcampos + \"`conteo`\""
   ]
  },
  {
   "cell_type": "code",
   "execution_count": 104,
   "metadata": {},
   "outputs": [],
   "source": [
    "steps = 20\n",
    "sql = \"\"\"\n",
    "      SELECT * FROM (\n",
    "      SELECT {0}\n",
    "        FROM encuestas\n",
    "       WHERE Id_alumn_programa > 0\n",
    "         AND conteo > 30 and deserto=0\n",
    "       LIMIT 1000) a\n",
    "       UNION ALL\n",
    "       SELECT * FROM (\n",
    "       SELECT {0}\n",
    "        FROM encuestas\n",
    "       WHERE Id_alumn_programa > 0\n",
    "         AND conteo > 30 and deserto=1\n",
    "       LIMIT 1000) a\n",
    "\"\"\".format(strcampos)\n",
    "x = np.array(query(sql))\n",
    "sql = \"\"\"\n",
    "    SELECT * FROM (\n",
    "    SELECT deserto\n",
    "      FROM encuestas\n",
    "     WHERE Id_alumn_programa > 0 and deserto=0\n",
    "       AND conteo > 30\n",
    "     LIMIT 1000) a\n",
    "     UNION ALL\n",
    "    SELECT * FROM (\n",
    "    SELECT deserto\n",
    "      FROM encuestas\n",
    "     WHERE Id_alumn_programa > 0 and deserto=1\n",
    "       AND conteo > 30\n",
    "     LIMIT 1000) a\n",
    "\"\"\"\n",
    "y = np.array(query(sql))"
   ]
  },
  {
   "cell_type": "code",
   "execution_count": 105,
   "metadata": {},
   "outputs": [
    {
     "name": "stdout",
     "output_type": "stream",
     "text": [
      "(2000, 166)\n",
      "(2000, 1)\n"
     ]
    }
   ],
   "source": [
    "print(x.shape)\n",
    "print(y.shape)"
   ]
  },
  {
   "cell_type": "code",
   "execution_count": 106,
   "metadata": {},
   "outputs": [],
   "source": [
    "from sklearn.model_selection import train_test_split\n",
    "x_train, x_test, y_train, y_test = train_test_split(x,y,test_size=0.2,random_state=1)"
   ]
  },
  {
   "cell_type": "code",
   "execution_count": 107,
   "metadata": {},
   "outputs": [
    {
     "name": "stdout",
     "output_type": "stream",
     "text": [
      "(1600, 166)\n",
      "(1600, 1)\n",
      "(400, 166)\n",
      "(400, 1)\n"
     ]
    }
   ],
   "source": [
    "print(x_train.shape)\n",
    "print(y_train.shape)\n",
    "print(x_test.shape)\n",
    "print(y_test.shape)"
   ]
  },
  {
   "cell_type": "code",
   "execution_count": 108,
   "metadata": {},
   "outputs": [
    {
     "name": "stdout",
     "output_type": "stream",
     "text": [
      "_________________________________________________________________\n",
      "Layer (type)                 Output Shape              Param #   \n",
      "=================================================================\n",
      "dense_21 (Dense)             (None, 1024)              171008    \n",
      "_________________________________________________________________\n",
      "dense_22 (Dense)             (None, 512)               524800    \n",
      "_________________________________________________________________\n",
      "dense_23 (Dense)             (None, 256)               131328    \n",
      "_________________________________________________________________\n",
      "dense_24 (Dense)             (None, 128)               32896     \n",
      "_________________________________________________________________\n",
      "dense_25 (Dense)             (None, 64)                8256      \n",
      "_________________________________________________________________\n",
      "dense_26 (Dense)             (None, 2)                 130       \n",
      "=================================================================\n",
      "Total params: 868,418\n",
      "Trainable params: 868,418\n",
      "Non-trainable params: 0\n",
      "_________________________________________________________________\n"
     ]
    }
   ],
   "source": [
    "#Defining the model \n",
    "\n",
    "from keras.models import Sequential\n",
    "from keras.layers import Dense\n",
    "from keras.optimizers import SGD,Adam\n",
    "\n",
    "\n",
    "model = Sequential()\n",
    "\n",
    "#Sigmoid, tanh, Softmax, ReLU, Leaky ReLU\n",
    "\n",
    "model = Sequential()\n",
    "\n",
    "#sigmoid, tanh, softmax, ReLU, Leaky ReLU\n",
    "\n",
    "model.add(Dense(1024,input_shape=(166,),activation='sigmoid'))\n",
    "model.add(Dense(512,activation='sigmoid'))\n",
    "model.add(Dense(256,activation='sigmoid'))\n",
    "model.add(Dense(128,activation='sigmoid'))\n",
    "model.add(Dense(64,activation='sigmoid'))\n",
    "model.add(Dense(2,activation='softmax'))\n",
    "\n",
    "model.compile(Adam(lr=0.01),'categorical_crossentropy',metrics=['accuracy'])\n",
    "\n",
    "model.summary()"
   ]
  },
  {
   "cell_type": "code",
   "execution_count": 109,
   "metadata": {},
   "outputs": [],
   "source": [
    "from keras.utils import to_categorical"
   ]
  },
  {
   "cell_type": "code",
   "execution_count": 112,
   "metadata": {},
   "outputs": [],
   "source": [
    "def aprender(x_train, y_train):\n",
    "    model.fit(x_train, to_categorical(y_train),epochs=10)"
   ]
  },
  {
   "cell_type": "code",
   "execution_count": 113,
   "metadata": {},
   "outputs": [
    {
     "name": "stdout",
     "output_type": "stream",
     "text": [
      "Epoch 1/10\n",
      "1600/1600 [==============================] - 5s 3ms/step - loss: 0.7005 - acc: 0.4869\n",
      "Epoch 2/10\n",
      "1600/1600 [==============================] - 4s 3ms/step - loss: 0.6979 - acc: 0.4919\n",
      "Epoch 3/10\n",
      "1600/1600 [==============================] - 5s 3ms/step - loss: 0.7020 - acc: 0.4894\n",
      "Epoch 4/10\n",
      "1600/1600 [==============================] - 5s 3ms/step - loss: 0.7008 - acc: 0.4856\n",
      "Epoch 5/10\n",
      "1600/1600 [==============================] - 4s 3ms/step - loss: 0.6982 - acc: 0.4794\n",
      "Epoch 6/10\n",
      "1600/1600 [==============================] - 5s 3ms/step - loss: 0.7018 - acc: 0.5131\n",
      "Epoch 7/10\n",
      "1600/1600 [==============================] - 5s 3ms/step - loss: 0.7072 - acc: 0.5019\n",
      "Epoch 8/10\n",
      "1600/1600 [==============================] - 5s 3ms/step - loss: 0.7005 - acc: 0.4969\n",
      "Epoch 9/10\n",
      "1600/1600 [==============================] - 6s 3ms/step - loss: 0.6980 - acc: 0.4831\n",
      "Epoch 10/10\n",
      "1600/1600 [==============================] - 5s 3ms/step - loss: 0.6959 - acc: 0.4994\n"
     ]
    }
   ],
   "source": [
    "aprender(x_train, y_train[:,0])"
   ]
  },
  {
   "cell_type": "code",
   "execution_count": 24,
   "metadata": {},
   "outputs": [
    {
     "data": {
      "text/plain": [
       "array([[1., 0.],\n",
       "       [1., 0.],\n",
       "       [1., 0.],\n",
       "       ...,\n",
       "       [1., 0.],\n",
       "       [1., 0.],\n",
       "       [1., 0.]])"
      ]
     },
     "execution_count": 24,
     "metadata": {},
     "output_type": "execute_result"
    }
   ],
   "source": [
    "to_categorical(y_train)"
   ]
  },
  {
   "cell_type": "code",
   "execution_count": 25,
   "metadata": {},
   "outputs": [
    {
     "data": {
      "text/plain": [
       "array([0, 0, 0, ..., 0, 0, 0])"
      ]
     },
     "execution_count": 25,
     "metadata": {},
     "output_type": "execute_result"
    }
   ],
   "source": [
    "y_train[:,0]"
   ]
  },
  {
   "cell_type": "code",
   "execution_count": 26,
   "metadata": {},
   "outputs": [
    {
     "data": {
      "text/plain": [
       "array([[ 0,  1,  0, ...,  0,  1, 45],\n",
       "       [ 0,  1,  0, ...,  0,  1, 47],\n",
       "       [ 1,  0,  0, ...,  0,  0, 43],\n",
       "       ...,\n",
       "       [ 1,  0,  0, ...,  0,  0, 41],\n",
       "       [ 0,  1,  0, ...,  1,  0, 44],\n",
       "       [ 1,  0,  0, ...,  0,  1, 48]])"
      ]
     },
     "execution_count": 26,
     "metadata": {},
     "output_type": "execute_result"
    }
   ],
   "source": [
    "x_train"
   ]
  },
  {
   "cell_type": "code",
   "execution_count": 67,
   "metadata": {},
   "outputs": [
    {
     "data": {
      "text/plain": [
       "array([[1.8201121e-05, 9.9998176e-01],\n",
       "       [1.8201121e-05, 9.9998176e-01],\n",
       "       [1.8201121e-05, 9.9998176e-01],\n",
       "       ...,\n",
       "       [1.8201121e-05, 9.9998176e-01],\n",
       "       [1.8201121e-05, 9.9998176e-01],\n",
       "       [1.8201121e-05, 9.9998176e-01]], dtype=float32)"
      ]
     },
     "execution_count": 67,
     "metadata": {},
     "output_type": "execute_result"
    }
   ],
   "source": [
    "y_pred = model.predict(x_test)\n",
    "y_pred"
   ]
  },
  {
   "cell_type": "code",
   "execution_count": 47,
   "metadata": {},
   "outputs": [
    {
     "name": "stdout",
     "output_type": "stream",
     "text": [
      "[0 0 0 ... 0 0 0]\n",
      "[1 1 0 ... 0 1 1]\n",
      "             precision    recall  f1-score   support\n",
      "\n",
      "          0       0.42      1.00      0.59      6684\n",
      "          1       0.00      0.00      0.00      9316\n",
      "\n",
      "avg / total       0.17      0.42      0.25     16000\n",
      "\n",
      "[[6684    0]\n",
      " [9316    0]]\n"
     ]
    },
    {
     "name": "stderr",
     "output_type": "stream",
     "text": [
      "/home/juliotorres/miniconda3/lib/python3.6/site-packages/sklearn/metrics/classification.py:1135: UndefinedMetricWarning: Precision and F-score are ill-defined and being set to 0.0 in labels with no predicted samples.\n",
      "  'precision', 'predicted', average, warn_for)\n"
     ]
    }
   ],
   "source": [
    "y_pred = model.predict(x_train)\n",
    "#y_pred[0] = [0,1]\n",
    "y_test_class = x_train[:,0] #np.argmax(y_test,axis=1)\n",
    "y_pred_class = np.argmax(y_pred,axis=1)\n",
    "\n",
    "print(y_pred_class)\n",
    "print(y_test_class)\n",
    "\n",
    "#print(y_pred_class)\n",
    "\n",
    "#print(np.sum(y_test))\n",
    "#print(np.sum(y_pred))\n",
    "\n",
    "#print(np.sum(y_test_class))\n",
    "#print(np.sum(y_pred_class))\n",
    "\n",
    "print(classification_report(y_test_class,y_pred_class))\n",
    "print(confusion_matrix(y_test_class,y_pred_class))"
   ]
  },
  {
   "cell_type": "code",
   "execution_count": 82,
   "metadata": {
    "scrolled": true
   },
   "outputs": [],
   "source": [
    "n = 0 #random.randint(0, 1)\n",
    "x = np.array(query(\"\"\"\n",
    "    SELECT {0}\n",
    "        FROM encuestas\n",
    "        WHERE Id_alumn_programa > 0\n",
    "          AND conteo > 30 \n",
    "          AND deserto = {1} \n",
    "\"\"\".format(strcampos, str(n))))\n",
    "y = np.array(query(\"\"\"\n",
    "    SELECT deserto\n",
    "      FROM encuestas\n",
    "     WHERE Id_alumn_programa > 0\n",
    "       AND conteo > 30 \n",
    "       AND deserto = {0}\n",
    "\"\"\".format(str(n))))\n",
    "y_pred = model.predict(x)\n",
    "y_test_class = np.argmax(y,axis=1)\n",
    "y_pred_class = np.argmax(y_pred,axis=1)\n"
   ]
  },
  {
   "cell_type": "code",
   "execution_count": 85,
   "metadata": {},
   "outputs": [
    {
     "name": "stdout",
     "output_type": "stream",
     "text": [
      "0\n",
      "[[0]\n",
      " [0]\n",
      " [0]\n",
      " ...\n",
      " [0]\n",
      " [0]\n",
      " [0]]\n",
      "[[1.8201121e-05 9.9998176e-01]\n",
      " [1.8201121e-05 9.9998176e-01]\n",
      " [1.8201121e-05 9.9998176e-01]\n",
      " ...\n",
      " [1.8201121e-05 9.9998176e-01]\n",
      " [1.8201121e-05 9.9998176e-01]\n",
      " [1.8201121e-05 9.9998176e-01]]\n"
     ]
    }
   ],
   "source": [
    "print(n)\n",
    "cnt = 0\n",
    "#for i in range(0, len(y_pred)):\n",
    "#    if y[i] == y_pred[i]:\n",
    "#        cnt = cnt + 1\n",
    "#print(cnt)\n",
    "print(y)\n",
    "print(y_pred)\n",
    "#print(np.argmax(y_pred,axis=0))\n",
    "#print(np.argmax(y,axis=0))"
   ]
  },
  {
   "cell_type": "code",
   "execution_count": 84,
   "metadata": {},
   "outputs": [
    {
     "name": "stdout",
     "output_type": "stream",
     "text": [
      "             precision    recall  f1-score   support\n",
      "\n",
      "          0       0.00      0.00      0.00     25007\n",
      "          1       0.00      0.00      0.00         0\n",
      "\n",
      "avg / total       0.00      0.00      0.00     25007\n",
      "\n",
      "[[    0 25007]\n",
      " [    0     0]]\n"
     ]
    },
    {
     "name": "stderr",
     "output_type": "stream",
     "text": [
      "/home/juliotorres/miniconda3/lib/python3.6/site-packages/sklearn/metrics/classification.py:1135: UndefinedMetricWarning: Precision and F-score are ill-defined and being set to 0.0 in labels with no predicted samples.\n",
      "  'precision', 'predicted', average, warn_for)\n",
      "/home/juliotorres/miniconda3/lib/python3.6/site-packages/sklearn/metrics/classification.py:1137: UndefinedMetricWarning: Recall and F-score are ill-defined and being set to 0.0 in labels with no true samples.\n",
      "  'recall', 'true', average, warn_for)\n"
     ]
    }
   ],
   "source": [
    "y_test_class = y[:,0] #np.argmax(y,axis=1)\n",
    "y_pred_class = np.argmax(y_pred,axis=1)\n",
    "\n",
    "\n",
    "print(classification_report(y_test_class,y_pred_class))\n",
    "print(confusion_matrix(y_test_class,y_pred_class))"
   ]
  },
  {
   "cell_type": "code",
   "execution_count": 56,
   "metadata": {},
   "outputs": [
    {
     "data": {
      "text/plain": [
       "4092.9995"
      ]
     },
     "execution_count": 56,
     "metadata": {},
     "output_type": "execute_result"
    }
   ],
   "source": [
    "np.sum(y_pred)"
   ]
  },
  {
   "cell_type": "code",
   "execution_count": 57,
   "metadata": {},
   "outputs": [
    {
     "data": {
      "text/plain": [
       "0"
      ]
     },
     "execution_count": 57,
     "metadata": {},
     "output_type": "execute_result"
    }
   ],
   "source": [
    "y_pred_class[0]"
   ]
  },
  {
   "cell_type": "code",
   "execution_count": 58,
   "metadata": {},
   "outputs": [
    {
     "data": {
      "text/plain": [
       "0"
      ]
     },
     "execution_count": 58,
     "metadata": {},
     "output_type": "execute_result"
    }
   ],
   "source": [
    "np.sum(y_test_class)"
   ]
  },
  {
   "cell_type": "code",
   "execution_count": 59,
   "metadata": {},
   "outputs": [
    {
     "data": {
      "text/plain": [
       "0"
      ]
     },
     "execution_count": 59,
     "metadata": {},
     "output_type": "execute_result"
    }
   ],
   "source": [
    "np.sum(y_pred_class)"
   ]
  },
  {
   "cell_type": "code",
   "execution_count": null,
   "metadata": {},
   "outputs": [],
   "source": []
  }
 ],
 "metadata": {
  "kernelspec": {
   "display_name": "Python 3",
   "language": "python",
   "name": "python3"
  },
  "language_info": {
   "codemirror_mode": {
    "name": "ipython",
    "version": 3
   },
   "file_extension": ".py",
   "mimetype": "text/x-python",
   "name": "python",
   "nbconvert_exporter": "python",
   "pygments_lexer": "ipython3",
   "version": "3.6.3"
  }
 },
 "nbformat": 4,
 "nbformat_minor": 2
}
