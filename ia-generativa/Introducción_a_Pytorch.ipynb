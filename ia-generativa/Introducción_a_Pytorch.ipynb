{
 "cells": [
  {
   "cell_type": "markdown",
   "metadata": {
    "id": "K9fq7O6c3lkI"
   },
   "source": [
    "# **Introducción a PyTorch**"
   ]
  },
  {
   "cell_type": "code",
   "execution_count": 1,
   "metadata": {
    "id": "hauO2rnT3wOR"
   },
   "outputs": [],
   "source": [
    "import torch"
   ]
  },
  {
   "cell_type": "code",
   "execution_count": 2,
   "metadata": {
    "colab": {
     "base_uri": "https://localhost:8080/"
    },
    "id": "qMNcsxmi36fZ",
    "outputId": "dbd80a3f-44bf-4daf-b192-e75aa3e77430"
   },
   "outputs": [
    {
     "name": "stdout",
     "output_type": "stream",
     "text": [
      "La forma de  tensor([0]) es torch.Size([1]) y su dimensión es 1\n"
     ]
    }
   ],
   "source": [
    "#Tensor de 1 dimensión\n",
    "\n",
    "tensor_una_d= torch.LongTensor([0])\n",
    "print(f'La forma de  {tensor_una_d} es {tensor_una_d.shape} y su dimensión es {tensor_una_d.dim()}' )"
   ]
  },
  {
   "cell_type": "code",
   "execution_count": null,
   "metadata": {
    "id": "bPkzbEMG8RfV"
   },
   "outputs": [],
   "source": []
  },
  {
   "cell_type": "code",
   "execution_count": 3,
   "metadata": {
    "colab": {
     "base_uri": "https://localhost:8080/"
    },
    "id": "i2_L5jbC8Vd6",
    "outputId": "d6cbaff4-d884-484f-c033-2faceaabf5cd"
   },
   "outputs": [
    {
     "name": "stdout",
     "output_type": "stream",
     "text": [
      "La forma de  tensor([0, 1, 2]) es torch.Size([3]) y su dimensión es 1\n"
     ]
    }
   ],
   "source": [
    "#Otro tensor de 1 dimensión\n",
    "\n",
    "tensor_una_d= torch.LongTensor([0, 1, 2])\n",
    "print(f'La forma de  {tensor_una_d} es {tensor_una_d.shape} y su dimensión es {tensor_una_d.dim()}' )"
   ]
  },
  {
   "cell_type": "code",
   "execution_count": null,
   "metadata": {
    "id": "QE-8SBLZ9C3j"
   },
   "outputs": [],
   "source": []
  },
  {
   "cell_type": "code",
   "execution_count": 4,
   "metadata": {
    "colab": {
     "base_uri": "https://localhost:8080/"
    },
    "id": "GN2W2zZ-9FRw",
    "outputId": "f3159203-0483-407f-a1bb-ea763653dbb5"
   },
   "outputs": [
    {
     "name": "stdout",
     "output_type": "stream",
     "text": [
      "tensor([[0, 1, 2],\n",
      "        [3, 4, 5]])\n",
      "La forma de  tensor([[0, 1, 2],\n",
      "        [3, 4, 5]]) es torch.Size([2, 3]) y su dimensión es 2\n"
     ]
    }
   ],
   "source": [
    "#Tensor de 2 dimensiones\n",
    "\n",
    "tensor_dos_d= torch.LongTensor([[0, 1, 2], [3, 4, 5]])\n",
    "print (tensor_dos_d)\n",
    "print(f'La forma de  {tensor_dos_d} es {tensor_dos_d.shape} y su dimensión es {tensor_dos_d.dim()}' )"
   ]
  },
  {
   "cell_type": "code",
   "execution_count": null,
   "metadata": {
    "id": "tdwYvNUBCnV2"
   },
   "outputs": [],
   "source": []
  },
  {
   "cell_type": "code",
   "execution_count": 5,
   "metadata": {
    "colab": {
     "base_uri": "https://localhost:8080/"
    },
    "id": "DlYSzTtKCqno",
    "outputId": "64211afe-b4d1-4870-9123-f1a31dd3184a"
   },
   "outputs": [
    {
     "name": "stdout",
     "output_type": "stream",
     "text": [
      "tensor([[0, 1, 2],\n",
      "        [3, 4, 5],\n",
      "        [6, 7, 8]])\n",
      "La forma de  tensor([[0, 1, 2],\n",
      "        [3, 4, 5],\n",
      "        [6, 7, 8]]) es torch.Size([3, 3]) y su dimensión es 2\n"
     ]
    }
   ],
   "source": [
    "#Otro tensor de 2 dimensiones\n",
    "\n",
    "tensor_dos_d= torch.LongTensor([[0, 1, 2], [3, 4, 5], [6, 7, 8]])\n",
    "print (tensor_dos_d)\n",
    "print(f'La forma de  {tensor_dos_d} es {tensor_dos_d.shape} y su dimensión es {tensor_dos_d.dim()}' )"
   ]
  },
  {
   "cell_type": "code",
   "execution_count": null,
   "metadata": {
    "id": "veWEvPIZE5q3"
   },
   "outputs": [],
   "source": []
  },
  {
   "cell_type": "code",
   "execution_count": 7,
   "metadata": {
    "colab": {
     "base_uri": "https://localhost:8080/"
    },
    "id": "rZdLtrsFE7Ak",
    "outputId": "f61d80ba-88f2-4560-a03b-ac69c3cc86c5"
   },
   "outputs": [
    {
     "name": "stdout",
     "output_type": "stream",
     "text": [
      "tensor([[[ 0,  1,  2],\n",
      "         [ 3,  4,  5],\n",
      "         [ 6,  7,  8]],\n",
      "\n",
      "        [[ 9, 10, 11],\n",
      "         [12, 13, 14],\n",
      "         [15, 16, 17]],\n",
      "\n",
      "        [[18, 19, 20],\n",
      "         [21, 22, 23],\n",
      "         [24, 25, 26]]])\n",
      "La forma de tensor([[[ 0,  1,  2],\n",
      "         [ 3,  4,  5],\n",
      "         [ 6,  7,  8]],\n",
      "\n",
      "        [[ 9, 10, 11],\n",
      "         [12, 13, 14],\n",
      "         [15, 16, 17]],\n",
      "\n",
      "        [[18, 19, 20],\n",
      "         [21, 22, 23],\n",
      "         [24, 25, 26]]]) es torch.Size([3, 3, 3]) y su dimensión es 3\n"
     ]
    }
   ],
   "source": [
    "# Tensor de 3 dimensiones\n",
    "tensor_tres_d = torch.LongTensor([[[0, 1, 2], [3, 4, 5], [6, 7, 8]],\n",
    "                                  [[9, 10, 11], [12, 13, 14], [15, 16, 17]],\n",
    "                                  [[18, 19, 20], [21, 22, 23], [24, 25, 26]]])\n",
    "print(tensor_tres_d)\n",
    "print(f'La forma de {tensor_tres_d} es {tensor_tres_d.shape} y su dimensión es {tensor_tres_d.dim()}')\n"
   ]
  },
  {
   "cell_type": "code",
   "execution_count": 10,
   "metadata": {},
   "outputs": [
    {
     "data": {
      "text/plain": [
       "tensor([[[ 0,  2,  4],\n",
       "         [ 6,  8, 10],\n",
       "         [12, 14, 16]],\n",
       "\n",
       "        [[18, 20, 22],\n",
       "         [24, 26, 28],\n",
       "         [30, 32, 34]],\n",
       "\n",
       "        [[36, 38, 40],\n",
       "         [42, 44, 46],\n",
       "         [48, 50, 52]]])"
      ]
     },
     "execution_count": 10,
     "metadata": {},
     "output_type": "execute_result"
    }
   ],
   "source": [
    "tensor_tres_d * 2"
   ]
  },
  {
   "cell_type": "code",
   "execution_count": 11,
   "metadata": {},
   "outputs": [
    {
     "data": {
      "text/plain": [
       "tensor([[[ 0.0000,  0.5000,  1.0000],\n",
       "         [ 1.5000,  2.0000,  2.5000],\n",
       "         [ 3.0000,  3.5000,  4.0000]],\n",
       "\n",
       "        [[ 4.5000,  5.0000,  5.5000],\n",
       "         [ 6.0000,  6.5000,  7.0000],\n",
       "         [ 7.5000,  8.0000,  8.5000]],\n",
       "\n",
       "        [[ 9.0000,  9.5000, 10.0000],\n",
       "         [10.5000, 11.0000, 11.5000],\n",
       "         [12.0000, 12.5000, 13.0000]]])"
      ]
     },
     "execution_count": 11,
     "metadata": {},
     "output_type": "execute_result"
    }
   ],
   "source": [
    "tensor_tres_d * .5"
   ]
  },
  {
   "cell_type": "code",
   "execution_count": 12,
   "metadata": {},
   "outputs": [
    {
     "data": {
      "text/plain": [
       "tensor([[[-2, -1,  0],\n",
       "         [ 1,  2,  3],\n",
       "         [ 4,  5,  6]],\n",
       "\n",
       "        [[ 7,  8,  9],\n",
       "         [10, 11, 12],\n",
       "         [13, 14, 15]],\n",
       "\n",
       "        [[16, 17, 18],\n",
       "         [19, 20, 21],\n",
       "         [22, 23, 24]]])"
      ]
     },
     "execution_count": 12,
     "metadata": {},
     "output_type": "execute_result"
    }
   ],
   "source": [
    "tensor_tres_d - 2"
   ]
  },
  {
   "cell_type": "code",
   "execution_count": 13,
   "metadata": {},
   "outputs": [
    {
     "data": {
      "text/plain": [
       "tensor([[[ 2,  3,  4],\n",
       "         [ 5,  6,  7],\n",
       "         [ 8,  9, 10]],\n",
       "\n",
       "        [[11, 12, 13],\n",
       "         [14, 15, 16],\n",
       "         [17, 18, 19]],\n",
       "\n",
       "        [[20, 21, 22],\n",
       "         [23, 24, 25],\n",
       "         [26, 27, 28]]])"
      ]
     },
     "execution_count": 13,
     "metadata": {},
     "output_type": "execute_result"
    }
   ],
   "source": [
    "tensor_tres_d + 2"
   ]
  },
  {
   "cell_type": "code",
   "execution_count": 9,
   "metadata": {},
   "outputs": [
    {
     "data": {
      "text/plain": [
       "tensor([[[  0,   1,   4],\n",
       "         [  9,  16,  25],\n",
       "         [ 36,  49,  64]],\n",
       "\n",
       "        [[ 81, 100, 121],\n",
       "         [144, 169, 196],\n",
       "         [225, 256, 289]],\n",
       "\n",
       "        [[324, 361, 400],\n",
       "         [441, 484, 529],\n",
       "         [576, 625, 676]]])"
      ]
     },
     "execution_count": 9,
     "metadata": {},
     "output_type": "execute_result"
    }
   ],
   "source": [
    "tensor_tres_d ** 2"
   ]
  },
  {
   "cell_type": "code",
   "execution_count": 14,
   "metadata": {},
   "outputs": [
    {
     "data": {
      "text/plain": [
       "tensor([[27, 30, 33],\n",
       "        [36, 39, 42],\n",
       "        [45, 48, 51]])"
      ]
     },
     "execution_count": 14,
     "metadata": {},
     "output_type": "execute_result"
    }
   ],
   "source": [
    "sum(tensor_tres_d)"
   ]
  },
  {
   "cell_type": "code",
   "execution_count": 28,
   "metadata": {},
   "outputs": [
    {
     "data": {
      "text/plain": [
       "tensor([108, 117, 126])"
      ]
     },
     "execution_count": 28,
     "metadata": {},
     "output_type": "execute_result"
    }
   ],
   "source": [
    "sum(sum(tensor_tres_d))"
   ]
  }
 ],
 "metadata": {
  "colab": {
   "provenance": []
  },
  "kernelspec": {
   "display_name": "Python 3 (ipykernel)",
   "language": "python",
   "name": "python3"
  },
  "language_info": {
   "codemirror_mode": {
    "name": "ipython",
    "version": 3
   },
   "file_extension": ".py",
   "mimetype": "text/x-python",
   "name": "python",
   "nbconvert_exporter": "python",
   "pygments_lexer": "ipython3",
   "version": "3.11.5"
  }
 },
 "nbformat": 4,
 "nbformat_minor": 1
}
