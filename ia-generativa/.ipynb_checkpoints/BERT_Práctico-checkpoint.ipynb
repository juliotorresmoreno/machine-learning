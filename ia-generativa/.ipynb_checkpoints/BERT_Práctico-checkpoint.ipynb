{
 "cells": [
  {
   "cell_type": "markdown",
   "metadata": {
    "id": "prv_iadtnyOd"
   },
   "source": [
    "**Arquitectura práctica de BERT**"
   ]
  },
  {
   "cell_type": "code",
   "execution_count": 1,
   "metadata": {
    "colab": {
     "base_uri": "https://localhost:8080/"
    },
    "id": "Js0BSDZ2ofJ7",
    "outputId": "ef2550b7-ed24-4216-a45b-12d8ec07f3c2"
   },
   "outputs": [
    {
     "name": "stdout",
     "output_type": "stream",
     "text": [
      "Requirement already satisfied: transformers in /home/juliotorres/miniconda3/lib/python3.11/site-packages (4.33.2)\n",
      "Requirement already satisfied: filelock in /home/juliotorres/miniconda3/lib/python3.11/site-packages (from transformers) (3.12.4)\n",
      "Requirement already satisfied: huggingface-hub<1.0,>=0.15.1 in /home/juliotorres/miniconda3/lib/python3.11/site-packages (from transformers) (0.17.2)\n",
      "Requirement already satisfied: numpy>=1.17 in /home/juliotorres/miniconda3/lib/python3.11/site-packages (from transformers) (1.23.5)\n",
      "Requirement already satisfied: packaging>=20.0 in /home/juliotorres/miniconda3/lib/python3.11/site-packages (from transformers) (23.1)\n",
      "Requirement already satisfied: pyyaml>=5.1 in /home/juliotorres/miniconda3/lib/python3.11/site-packages (from transformers) (6.0.1)\n",
      "Requirement already satisfied: regex!=2019.12.17 in /home/juliotorres/miniconda3/lib/python3.11/site-packages (from transformers) (2023.8.8)\n",
      "Requirement already satisfied: requests in /home/juliotorres/miniconda3/lib/python3.11/site-packages (from transformers) (2.31.0)\n",
      "Requirement already satisfied: tokenizers!=0.11.3,<0.14,>=0.11.1 in /home/juliotorres/miniconda3/lib/python3.11/site-packages (from transformers) (0.13.3)\n",
      "Requirement already satisfied: safetensors>=0.3.1 in /home/juliotorres/miniconda3/lib/python3.11/site-packages (from transformers) (0.3.3)\n",
      "Requirement already satisfied: tqdm>=4.27 in /home/juliotorres/miniconda3/lib/python3.11/site-packages (from transformers) (4.65.0)\n",
      "Requirement already satisfied: fsspec in /home/juliotorres/miniconda3/lib/python3.11/site-packages (from huggingface-hub<1.0,>=0.15.1->transformers) (2023.6.0)\n",
      "Requirement already satisfied: typing-extensions>=3.7.4.3 in /home/juliotorres/miniconda3/lib/python3.11/site-packages (from huggingface-hub<1.0,>=0.15.1->transformers) (4.5.0)\n",
      "Requirement already satisfied: charset-normalizer<4,>=2 in /home/juliotorres/miniconda3/lib/python3.11/site-packages (from requests->transformers) (2.0.4)\n",
      "Requirement already satisfied: idna<4,>=2.5 in /home/juliotorres/miniconda3/lib/python3.11/site-packages (from requests->transformers) (3.4)\n",
      "Requirement already satisfied: urllib3<3,>=1.21.1 in /home/juliotorres/miniconda3/lib/python3.11/site-packages (from requests->transformers) (1.26.16)\n",
      "Requirement already satisfied: certifi>=2017.4.17 in /home/juliotorres/miniconda3/lib/python3.11/site-packages (from requests->transformers) (2023.7.22)\n",
      "Requirement already satisfied: torch in /home/juliotorres/miniconda3/lib/python3.11/site-packages (2.0.1)\n",
      "Requirement already satisfied: filelock in /home/juliotorres/miniconda3/lib/python3.11/site-packages (from torch) (3.12.4)\n",
      "Requirement already satisfied: typing-extensions in /home/juliotorres/miniconda3/lib/python3.11/site-packages (from torch) (4.5.0)\n",
      "Requirement already satisfied: sympy in /home/juliotorres/miniconda3/lib/python3.11/site-packages (from torch) (1.12)\n",
      "Requirement already satisfied: networkx in /home/juliotorres/miniconda3/lib/python3.11/site-packages (from torch) (3.1)\n",
      "Requirement already satisfied: jinja2 in /home/juliotorres/miniconda3/lib/python3.11/site-packages (from torch) (3.1.2)\n",
      "Requirement already satisfied: nvidia-cuda-nvrtc-cu11==11.7.99 in /home/juliotorres/miniconda3/lib/python3.11/site-packages (from torch) (11.7.99)\n",
      "Requirement already satisfied: nvidia-cuda-runtime-cu11==11.7.99 in /home/juliotorres/miniconda3/lib/python3.11/site-packages (from torch) (11.7.99)\n",
      "Requirement already satisfied: nvidia-cuda-cupti-cu11==11.7.101 in /home/juliotorres/miniconda3/lib/python3.11/site-packages (from torch) (11.7.101)\n",
      "Requirement already satisfied: nvidia-cudnn-cu11==8.5.0.96 in /home/juliotorres/miniconda3/lib/python3.11/site-packages (from torch) (8.5.0.96)\n",
      "Requirement already satisfied: nvidia-cublas-cu11==11.10.3.66 in /home/juliotorres/miniconda3/lib/python3.11/site-packages (from torch) (11.10.3.66)\n",
      "Requirement already satisfied: nvidia-cufft-cu11==10.9.0.58 in /home/juliotorres/miniconda3/lib/python3.11/site-packages (from torch) (10.9.0.58)\n",
      "Requirement already satisfied: nvidia-curand-cu11==10.2.10.91 in /home/juliotorres/miniconda3/lib/python3.11/site-packages (from torch) (10.2.10.91)\n",
      "Requirement already satisfied: nvidia-cusolver-cu11==11.4.0.1 in /home/juliotorres/miniconda3/lib/python3.11/site-packages (from torch) (11.4.0.1)\n",
      "Requirement already satisfied: nvidia-cusparse-cu11==11.7.4.91 in /home/juliotorres/miniconda3/lib/python3.11/site-packages (from torch) (11.7.4.91)\n",
      "Requirement already satisfied: nvidia-nccl-cu11==2.14.3 in /home/juliotorres/miniconda3/lib/python3.11/site-packages (from torch) (2.14.3)\n",
      "Requirement already satisfied: nvidia-nvtx-cu11==11.7.91 in /home/juliotorres/miniconda3/lib/python3.11/site-packages (from torch) (11.7.91)\n",
      "Requirement already satisfied: triton==2.0.0 in /home/juliotorres/miniconda3/lib/python3.11/site-packages (from torch) (2.0.0)\n",
      "Requirement already satisfied: setuptools in /home/juliotorres/miniconda3/lib/python3.11/site-packages (from nvidia-cublas-cu11==11.10.3.66->torch) (67.8.0)\n",
      "Requirement already satisfied: wheel in /home/juliotorres/miniconda3/lib/python3.11/site-packages (from nvidia-cublas-cu11==11.10.3.66->torch) (0.38.4)\n",
      "Requirement already satisfied: cmake in /home/juliotorres/miniconda3/lib/python3.11/site-packages (from triton==2.0.0->torch) (3.27.5)\n",
      "Requirement already satisfied: lit in /home/juliotorres/miniconda3/lib/python3.11/site-packages (from triton==2.0.0->torch) (16.0.6)\n",
      "Requirement already satisfied: MarkupSafe>=2.0 in /home/juliotorres/miniconda3/lib/python3.11/site-packages (from jinja2->torch) (2.1.1)\n",
      "Requirement already satisfied: mpmath>=0.19 in /home/juliotorres/miniconda3/lib/python3.11/site-packages (from sympy->torch) (1.3.0)\n",
      "Collecting scikit-learn\n",
      "  Downloading scikit_learn-1.3.1-cp311-cp311-manylinux_2_17_x86_64.manylinux2014_x86_64.whl (10.9 MB)\n",
      "\u001b[2K     \u001b[38;2;114;156;31m━━━━━━━━━━━━━━━━━━━━━━━━━━━━━━━━━━━━━━━━\u001b[0m \u001b[32m10.9/10.9 MB\u001b[0m \u001b[31m6.8 MB/s\u001b[0m eta \u001b[36m0:00:00\u001b[0mm eta \u001b[36m0:00:01\u001b[0m0:01\u001b[0m01\u001b[0m\n",
      "\u001b[?25hRequirement already satisfied: numpy<2.0,>=1.17.3 in /home/juliotorres/miniconda3/lib/python3.11/site-packages (from scikit-learn) (1.23.5)\n",
      "Requirement already satisfied: scipy>=1.5.0 in /home/juliotorres/miniconda3/lib/python3.11/site-packages (from scikit-learn) (1.10.1)\n",
      "Collecting joblib>=1.1.1 (from scikit-learn)\n",
      "  Downloading joblib-1.3.2-py3-none-any.whl (302 kB)\n",
      "\u001b[2K     \u001b[38;2;114;156;31m━━━━━━━━━━━━━━━━━━━━━━━━━━━━━━━━━━━━━━\u001b[0m \u001b[32m302.2/302.2 kB\u001b[0m \u001b[31m60.7 MB/s\u001b[0m eta \u001b[36m0:00:00\u001b[0m\n",
      "\u001b[?25hCollecting threadpoolctl>=2.0.0 (from scikit-learn)\n",
      "  Downloading threadpoolctl-3.2.0-py3-none-any.whl (15 kB)\n",
      "Installing collected packages: threadpoolctl, joblib, scikit-learn\n",
      "Successfully installed joblib-1.3.2 scikit-learn-1.3.1 threadpoolctl-3.2.0\n"
     ]
    }
   ],
   "source": [
    "!pip install transformers\n",
    "!pip install torch\n",
    "!pip install -U scikit-learn"
   ]
  },
  {
   "cell_type": "code",
   "execution_count": 2,
   "metadata": {
    "id": "goI3vgm8n5hN"
   },
   "outputs": [
    {
     "name": "stderr",
     "output_type": "stream",
     "text": [
      "2023-09-25 18:50:59.484661: I tensorflow/core/util/port.cc:110] oneDNN custom operations are on. You may see slightly different numerical results due to floating-point round-off errors from different computation orders. To turn them off, set the environment variable `TF_ENABLE_ONEDNN_OPTS=0`.\n",
      "2023-09-25 18:50:59.566636: I tensorflow/core/platform/cpu_feature_guard.cc:182] This TensorFlow binary is optimized to use available CPU instructions in performance-critical operations.\n",
      "To enable the following instructions: SSE4.1 SSE4.2 AVX AVX2 AVX512F AVX512_VNNI FMA, in other operations, rebuild TensorFlow with the appropriate compiler flags.\n"
     ]
    }
   ],
   "source": [
    "from transformers import BertTokenizer, BertModel\n",
    "import torch\n",
    "from sklearn.metrics.pairwise import cosine_similarity"
   ]
  },
  {
   "cell_type": "code",
   "execution_count": 3,
   "metadata": {
    "colab": {
     "base_uri": "https://localhost:8080/",
     "height": 153,
     "referenced_widgets": [
      "923cc9c0d326407a8dc51826e518acc0",
      "6ba22c15470e48e485d356dca1961832",
      "4b9bcd822cbe4f7f996e293c0da40cfc",
      "1d872b13c616464c8734c6f7223b674a",
      "87d4c4db2c3c42488b2b2bf09a70a73c",
      "0ad87202e6a6494482f42762ab00ceb8",
      "4979431a0fb64c2f85d6b4fab66ec413",
      "9e0309925cf346d1ad1eea34c6359e73",
      "2eed260dbfa0412d84201d05a5fd8cb9",
      "0822fffe368d4766962b8f5f380de5c1",
      "7f5189a09bc8425cb3d30ef32cfc64e2",
      "103b59fca4ba44d6ad8a86dd990560de",
      "c31f6d212f2b4a6b8e166423e4fdf3fa",
      "e0599f0f1ebe488c94de54de0a389c94",
      "7e7627a798aa492a93f6c7a0d8593e34",
      "9de1c9686f1f4c8a9d9f0c1ba79351f8",
      "93612a6021124bad9204ae646a5f486d",
      "a805499a10b74cdea78ca771d7c61fb5",
      "e75db6dfa61f4835871c8d27fcd04db7",
      "9704979ca7354886a8e560245ef1edad",
      "738da5ef41774ac89ee59f67fbb21931",
      "9d429fad3e40402daad132b2d76c1db7"
     ]
    },
    "id": "-HKHnlDUqSQz",
    "outputId": "f2617fa3-93eb-4178-ff3c-fdf62819ac7f"
   },
   "outputs": [],
   "source": [
    "#Creamos un modelo BERT-base\n",
    "model = BertModel.from_pretrained('bert-base-uncased')"
   ]
  },
  {
   "cell_type": "code",
   "execution_count": 4,
   "metadata": {
    "id": "WnTthd6zq7Nz"
   },
   "outputs": [],
   "source": [
    "#Obtenemos todos los parámetros del modelo como una lista de tuplas.\n",
    "named_params = list(model.named_parameters())"
   ]
  },
  {
   "cell_type": "code",
   "execution_count": 5,
   "metadata": {
    "colab": {
     "base_uri": "https://localhost:8080/"
    },
    "id": "Ws0aVilAun5L",
    "outputId": "867cac04-10e5-4821-aee3-2f5c3eca6e93"
   },
   "outputs": [
    {
     "name": "stdout",
     "output_type": "stream",
     "text": [
      "El modelo BERT tiene 199 diferentes parámetros con nombre.\n",
      "\n",
      "=== Capa de Incrustación ===\n",
      "\n",
      "embeddings.word_embeddings.weight                       torch.Size([30522, 768])\n",
      "embeddings.position_embeddings.weight                   torch.Size([512, 768])\n",
      "embeddings.token_type_embeddings.weight                 torch.Size([2, 768])\n",
      "embeddings.LayerNorm.weight                             torch.Size([768])\n",
      "embeddings.LayerNorm.bias                               torch.Size([768])\n",
      "\n",
      "=== Primer Codificador ===\n",
      "\n",
      "encoder.layer.0.attention.self.query.weight             torch.Size([768, 768])\n",
      "encoder.layer.0.attention.self.query.bias               torch.Size([768])\n",
      "encoder.layer.0.attention.self.key.weight               torch.Size([768, 768])\n",
      "encoder.layer.0.attention.self.key.bias                 torch.Size([768])\n",
      "encoder.layer.0.attention.self.value.weight             torch.Size([768, 768])\n",
      "encoder.layer.0.attention.self.value.bias               torch.Size([768])\n",
      "encoder.layer.0.attention.output.dense.weight           torch.Size([768, 768])\n",
      "encoder.layer.0.attention.output.dense.bias             torch.Size([768])\n",
      "encoder.layer.0.attention.output.LayerNorm.weight       torch.Size([768])\n",
      "encoder.layer.0.attention.output.LayerNorm.bias         torch.Size([768])\n",
      "encoder.layer.0.intermediate.dense.weight               torch.Size([3072, 768])\n",
      "encoder.layer.0.intermediate.dense.bias                 torch.Size([3072])\n",
      "encoder.layer.0.output.dense.weight                     torch.Size([768, 3072])\n",
      "encoder.layer.0.output.dense.bias                       torch.Size([768])\n",
      "encoder.layer.0.output.LayerNorm.weight                 torch.Size([768])\n",
      "encoder.layer.0.output.LayerNorm.bias                   torch.Size([768])\n",
      "\n",
      "=== Capa Salida ===\n",
      "\n",
      "pooler.dense.weight                                     torch.Size([768, 768])\n",
      "pooler.dense.bias                                       torch.Size([768])\n"
     ]
    }
   ],
   "source": [
    "print('El modelo BERT tiene {:} diferentes parámetros con nombre.\\n' .format(len(named_params)))\n",
    "\n",
    "print( '=== Capa de Incrustación ===\\n' )\n",
    "for p in named_params [0:5]:\n",
    "      print (\"{:<55} {:>12}\" .format(p[0], str(tuple(p)[1].size())))\n",
    "\n",
    "print('\\n=== Primer Codificador ===\\n')\n",
    "for p in named_params[5:21]:\n",
    "      print (\"{:<55} {:>12}\" .format(p[0], str(tuple(p)[1].size())))\n",
    "\n",
    "print('\\n=== Capa Salida ===\\n')\n",
    "for p in named_params[-2:]:\n",
    "      print (\"{:<55} {:>12}\" .format(p[0], str(tuple(p)[1].size())))"
   ]
  },
  {
   "cell_type": "code",
   "execution_count": 6,
   "metadata": {
    "id": "6k_GZXW6aKaW"
   },
   "outputs": [],
   "source": [
    "# El pooler es una capa separada lineal y activada por tanh que actúa sobre la representación del token [CLS]\n",
    "# Esta salida agrupada se usa a menudo como una representación de la oración completa."
   ]
  },
  {
   "cell_type": "code",
   "execution_count": 7,
   "metadata": {
    "colab": {
     "base_uri": "https://localhost:8080/",
     "height": 81,
     "referenced_widgets": [
      "7400a68dc72f4772bb214836583a51b4",
      "b228bdf2720e43e0b88ae9f787762ef7",
      "a6ff455d92e54c548d408de6d91949ef",
      "d59917633387437bbca9ef0780b7981c",
      "5a066ca8dd8545a9b7f8c2a1a884997a",
      "fd3d715268544246be9a6ed1582db4e8",
      "f803116457f24991ba94844f6fe7f4e0",
      "6dff8e9eed714ed7999b864b93e3b057",
      "3350ce295f4b4904a033844ee2bc2d2c",
      "47cfb64c30fa4a75a704f633e802f337",
      "e5c3482609444b08b9113bdba20932bd",
      "74cb2226e6da44deb0e2e52a288972c9",
      "b67ebd2f622a4b7cb88f39ceed480d80",
      "07e58757ab4548aebda3492ce69a4b71",
      "8c9622f10fd04c44adb5241522ee4e6b",
      "e80ec65523af454fbf19299c4c4b3fdf",
      "e87f1af409c141a1a4a98aac1c504409",
      "1152367f1cf848129f4e5497899a3058",
      "199c2e8b49bf439f869ed14619b2e916",
      "a3f12ab343a148ad9cf58490dc300a59",
      "549d9de8fbf847bb829b0c232f5b8b3a",
      "be19f529746e44cbaa5988acf3d13e28"
     ]
    },
    "id": "rFY7JbdFbkg6",
    "outputId": "eeee0054-a5b2-449b-810e-6a9f6185e844"
   },
   "outputs": [],
   "source": [
    "#cargar el tokenizador bert-base uncased\n",
    "tokenizer = BertTokenizer.from_pretrained('bert-base-uncased')"
   ]
  },
  {
   "cell_type": "code",
   "execution_count": 8,
   "metadata": {
    "colab": {
     "base_uri": "https://localhost:8080/"
    },
    "id": "pin_NcKocUIb",
    "outputId": "80279cfb-245e-443c-e3b3-94192cc90af2"
   },
   "outputs": [
    {
     "name": "stdout",
     "output_type": "stream",
     "text": [
      "[101, 2017, 2442, 2644, 2085, 102, 1996, 2422, 2003, 2417, 102]\n"
     ]
    }
   ],
   "source": [
    "codificado = tokenizer.encode ('You must stop now [SEP] the light is red')  # tokeniza una secuencia simple\n",
    "print (codificado)"
   ]
  },
  {
   "cell_type": "code",
   "execution_count": 9,
   "metadata": {
    "colab": {
     "base_uri": "https://localhost:8080/",
     "height": 35
    },
    "id": "MXYGcMs6Rbu4",
    "outputId": "2cb05dd8-9a14-49f7-fef1-40dd1f53904d"
   },
   "outputs": [
    {
     "data": {
      "text/plain": [
       "'[CLS] you must stop now [SEP] the light is red [SEP]'"
      ]
     },
     "execution_count": 9,
     "metadata": {},
     "output_type": "execute_result"
    }
   ],
   "source": [
    "tokenizer.decode (codificado)"
   ]
  },
  {
   "cell_type": "code",
   "execution_count": null,
   "metadata": {
    "id": "JOuIphOncjeu"
   },
   "outputs": [],
   "source": [
    "#Ejecutar los tokens a través del modelo\n",
    "#1 Convertimos los tokens de la sentencia en un tensor (será de tamaño (8,))\n",
    "#2 Unsqueeze una primera dimensión para simular lotes. La forma resultante es (1, 8)\n",
    "response = model(torch.tensor(tokenizer.encode('You must stop at the signal')).unsqueeze(0))"
   ]
  },
  {
   "cell_type": "code",
   "execution_count": null,
   "metadata": {
    "colab": {
     "base_uri": "https://localhost:8080/"
    },
    "id": "4Kln68mmdVie",
    "outputId": "7321e9bc-06bd-429e-8783-48f0cf6a5379"
   },
   "outputs": [
    {
     "data": {
      "text/plain": [
       "tensor([[[-0.0404,  0.0731, -0.0454,  ..., -0.1092,  0.0687,  0.3676],\n",
       "         [-0.3538, -0.4443,  0.2865,  ...,  0.2542,  0.0527, -0.1061],\n",
       "         [ 0.4359,  0.2655,  0.2471,  ...,  0.1396, -0.2317,  0.4675],\n",
       "         ...,\n",
       "         [-0.2060, -0.4944,  0.0676,  ..., -0.2488,  0.1107, -0.0121],\n",
       "         [ 0.1167, -0.0951, -0.2409,  ..., -0.0901, -0.0830,  0.0446],\n",
       "         [ 0.6370, -0.0453, -0.5646,  ...,  0.0691, -0.5480, -0.3318]]],\n",
       "       grad_fn=<NativeLayerNormBackward0>)"
      ]
     },
     "execution_count": 13,
     "metadata": {},
     "output_type": "execute_result"
    }
   ],
   "source": [
    "#Incrustación para cada token, siendo el primero el token [CLS]\n",
    "response.last_hidden_state"
   ]
  },
  {
   "cell_type": "code",
   "execution_count": null,
   "metadata": {
    "colab": {
     "base_uri": "https://localhost:8080/"
    },
    "id": "abFrMrXPd1lj",
    "outputId": "73c400f0-25d6-451f-87df-c7ca0bcd5c73"
   },
   "outputs": [
    {
     "data": {
      "text/plain": [
       "BaseModelOutputWithPoolingAndCrossAttentions(last_hidden_state=tensor([[[-0.0404,  0.0731, -0.0454,  ..., -0.1092,  0.0687,  0.3676],\n",
       "         [-0.3538, -0.4443,  0.2865,  ...,  0.2542,  0.0527, -0.1061],\n",
       "         [ 0.4359,  0.2655,  0.2471,  ...,  0.1396, -0.2317,  0.4675],\n",
       "         ...,\n",
       "         [-0.2060, -0.4944,  0.0676,  ..., -0.2488,  0.1107, -0.0121],\n",
       "         [ 0.1167, -0.0951, -0.2409,  ..., -0.0901, -0.0830,  0.0446],\n",
       "         [ 0.6370, -0.0453, -0.5646,  ...,  0.0691, -0.5480, -0.3318]]],\n",
       "       grad_fn=<NativeLayerNormBackward0>), pooler_output=tensor([[-0.8201, -0.2552, -0.0986,  0.6649,  0.0891, -0.0435,  0.8439,  0.1667,\n",
       "         -0.0937, -1.0000, -0.0602,  0.2733,  0.9764, -0.0422,  0.8642, -0.4555,\n",
       "          0.1762, -0.5287,  0.2783, -0.5646,  0.4909,  0.9959,  0.5069,  0.1917,\n",
       "          0.3634,  0.6161, -0.4522,  0.8926,  0.9348,  0.6213, -0.6211,  0.2280,\n",
       "         -0.9726, -0.2186, -0.4746, -0.9881,  0.2360, -0.7169,  0.0265, -0.0632,\n",
       "         -0.8467,  0.2509,  0.9994, -0.0743,  0.2004, -0.2698, -1.0000,  0.1883,\n",
       "         -0.8180,  0.2292,  0.1556, -0.0806,  0.1313,  0.2904,  0.3518,  0.2666,\n",
       "         -0.1034,  0.1991, -0.1726, -0.4611, -0.5647,  0.3227, -0.2200, -0.8818,\n",
       "         -0.0095, -0.2117, -0.0675, -0.1728, -0.0558, -0.1097,  0.8034,  0.1179,\n",
       "          0.0673, -0.6668, -0.0636,  0.1929, -0.4904,  1.0000, -0.2001, -0.9556,\n",
       "          0.2306,  0.1222,  0.3605,  0.4650, -0.2740, -1.0000,  0.2469, -0.1256,\n",
       "         -0.9790,  0.2008,  0.3432, -0.1924,  0.0016,  0.3804, -0.3007, -0.1657,\n",
       "         -0.2919, -0.0346, -0.2037, -0.0683,  0.0626, -0.2235, -0.1369, -0.3209,\n",
       "          0.1123, -0.3158, -0.3554,  0.2693, -0.1729,  0.6600,  0.3284, -0.3196,\n",
       "          0.2897, -0.9147,  0.5810, -0.3245, -0.9710, -0.4325, -0.9740,  0.6195,\n",
       "         -0.0699, -0.0478,  0.9285,  0.1957,  0.3237, -0.0533, -0.2013, -1.0000,\n",
       "         -0.1240, -0.3153,  0.0636, -0.2022, -0.9580, -0.9305,  0.5802,  0.9229,\n",
       "          0.1226,  0.9992, -0.3251,  0.8979, -0.0282, -0.1626, -0.2061, -0.3233,\n",
       "          0.4642,  0.3372, -0.6424,  0.1991,  0.1114,  0.0787, -0.1826, -0.2287,\n",
       "         -0.0819, -0.8872, -0.3588,  0.8875,  0.0813, -0.1401,  0.6300, -0.2249,\n",
       "         -0.3744,  0.7743,  0.2194,  0.2314,  0.0321,  0.3683,  0.0613,  0.4525,\n",
       "         -0.8179,  0.2122,  0.3867, -0.2372, -0.1873, -0.9605, -0.3667,  0.5794,\n",
       "          0.9744,  0.7519,  0.2491,  0.4138, -0.2277,  0.3643, -0.9198,  0.9646,\n",
       "         -0.1746,  0.2070,  0.1924,  0.1067, -0.8310, -0.2038,  0.7759, -0.2304,\n",
       "         -0.7929,  0.0568, -0.3772, -0.3403, -0.2060,  0.4659, -0.2219, -0.3485,\n",
       "          0.0159,  0.9059,  0.9415,  0.7300, -0.3377,  0.4838, -0.8664, -0.2806,\n",
       "          0.0947,  0.2565,  0.1231,  0.9853, -0.3732, -0.1356, -0.8802, -0.9694,\n",
       "          0.0156, -0.8523,  0.0747, -0.6708,  0.3964,  0.3492, -0.0240,  0.3125,\n",
       "         -0.9627, -0.6657,  0.2544, -0.2966,  0.3954, -0.2112,  0.5372,  0.1325,\n",
       "         -0.4810,  0.4707,  0.8630, -0.0331, -0.6228,  0.7474, -0.2083,  0.8173,\n",
       "         -0.6014,  0.9811,  0.3839,  0.4203, -0.8952, -0.1576, -0.8253, -0.0837,\n",
       "         -0.0696, -0.4459,  0.0761,  0.4592,  0.2948,  0.6476, -0.4438,  0.9904,\n",
       "         -0.4166, -0.9126, -0.0434, -0.2187, -0.9721,  0.3242,  0.2230, -0.2308,\n",
       "         -0.4347, -0.5180, -0.9189,  0.8030,  0.1007,  0.9783,  0.0176, -0.8773,\n",
       "         -0.2163, -0.8500, -0.1157, -0.0962,  0.4598, -0.1015, -0.9099,  0.3850,\n",
       "          0.4550,  0.4369, -0.0567,  0.9942,  0.9999,  0.9594,  0.8227,  0.8994,\n",
       "         -0.9796, -0.3144,  1.0000, -0.5652, -1.0000, -0.9024, -0.4391,  0.3130,\n",
       "         -1.0000, -0.0475, -0.0586, -0.8971, -0.1456,  0.9662,  0.9765, -1.0000,\n",
       "          0.8973,  0.8954, -0.4970,  0.3189, -0.2102,  0.9466,  0.4830,  0.3880,\n",
       "         -0.2109,  0.3545, -0.3724, -0.7983,  0.0299,  0.1786,  0.8876,  0.0920,\n",
       "         -0.6370, -0.8726,  0.0236, -0.0904, -0.2119, -0.9281, -0.2097, -0.1623,\n",
       "          0.6008,  0.0797,  0.1684, -0.6666,  0.2175, -0.4498,  0.3164,  0.5307,\n",
       "         -0.9289, -0.4973,  0.1976, -0.2400,  0.0598, -0.9127,  0.9522, -0.2968,\n",
       "          0.3061,  1.0000, -0.0173, -0.8174,  0.2558,  0.2160, -0.4131,  1.0000,\n",
       "          0.3882, -0.9659, -0.3962,  0.3703, -0.3727, -0.4508,  0.9989, -0.0639,\n",
       "          0.1291,  0.2338,  0.9508, -0.9793,  0.7941, -0.8759, -0.9330,  0.9467,\n",
       "          0.8954, -0.0514, -0.7284, -0.0020, -0.2904,  0.2360, -0.9086,  0.4760,\n",
       "          0.4091, -0.1694,  0.8213, -0.8034, -0.3639,  0.3399,  0.1912,  0.1501,\n",
       "          0.4317,  0.4642, -0.2364, -0.0434, -0.2235, -0.3409, -0.9450,  0.0576,\n",
       "          1.0000, -0.0772, -0.0588, -0.2294, -0.0673, -0.3430,  0.2907,  0.3781,\n",
       "         -0.2436, -0.8717,  0.1181, -0.8762, -0.9703,  0.5514,  0.0721, -0.2601,\n",
       "          0.9996,  0.3652,  0.2278,  0.0319,  0.4970, -0.0187,  0.4602, -0.1503,\n",
       "          0.9511, -0.2107,  0.4357,  0.7812, -0.1103, -0.2129, -0.5695,  0.0734,\n",
       "         -0.8942,  0.0484, -0.9029,  0.9301,  0.0020,  0.3154,  0.1737,  0.1596,\n",
       "          1.0000, -0.3650,  0.5126, -0.1383,  0.6999, -0.9661, -0.6730, -0.2587,\n",
       "         -0.0105,  0.0598, -0.2672,  0.1754, -0.9465,  0.0652,  0.1622, -0.9470,\n",
       "         -0.9812,  0.3466,  0.6210,  0.0635, -0.7526, -0.5085, -0.5260,  0.2619,\n",
       "         -0.1178, -0.8957,  0.3824, -0.1702,  0.4180, -0.2071,  0.3830, -0.0484,\n",
       "          0.7652,  0.2268,  0.0977, -0.0311, -0.7167,  0.6122, -0.7550, -0.2989,\n",
       "         -0.1014,  1.0000, -0.3316,  0.3020,  0.6532,  0.5015, -0.1412,  0.2286,\n",
       "          0.4420,  0.1621,  0.1830,  0.0645, -0.5252, -0.3239,  0.3784, -0.2013,\n",
       "         -0.1288,  0.7308,  0.5212,  0.0853,  0.0514,  0.0011,  0.9969, -0.1327,\n",
       "         -0.0664, -0.3594, -0.1806, -0.3119, -0.2964,  1.0000,  0.2967,  0.1320,\n",
       "         -0.9798, -0.2353, -0.9026,  0.9998,  0.6729, -0.8473,  0.5385,  0.2145,\n",
       "         -0.0988,  0.6091, -0.1882, -0.2005,  0.0744,  0.1112,  0.9248, -0.3923,\n",
       "         -0.9391, -0.5236,  0.3738, -0.9264,  0.9884, -0.5608, -0.2580, -0.3104,\n",
       "          0.1601,  0.4179, -0.0801, -0.9538, -0.2122, -0.0491,  0.9375,  0.1331,\n",
       "         -0.4259, -0.8443, -0.1286,  0.0864, -0.0135, -0.9180,  0.9487, -0.9583,\n",
       "          0.2452,  1.0000,  0.2806, -0.4424,  0.1956, -0.3878,  0.2308,  0.1981,\n",
       "          0.3967, -0.9290, -0.1365, -0.1920,  0.2810, -0.1328,  0.1933,  0.6767,\n",
       "          0.0973, -0.3128, -0.5152, -0.0305,  0.3505,  0.7418, -0.2781, -0.0835,\n",
       "          0.1172, -0.0892, -0.8778, -0.2519, -0.1827, -0.9978,  0.5124, -1.0000,\n",
       "         -0.1076, -0.2864, -0.2641,  0.7452,  0.1881,  0.2761, -0.6465,  0.1256,\n",
       "          0.7036,  0.6394, -0.1415,  0.1353, -0.6088,  0.1281, -0.1350,  0.2205,\n",
       "          0.1294,  0.6848, -0.0184,  1.0000,  0.0367, -0.3553, -0.9511,  0.1892,\n",
       "         -0.1597,  1.0000, -0.7925, -0.9163,  0.2984, -0.4404, -0.7430,  0.2221,\n",
       "         -0.0634, -0.6040, -0.4424,  0.9303,  0.7105, -0.4075,  0.3288, -0.2883,\n",
       "         -0.4416,  0.0026, -0.0413,  0.9709,  0.2235,  0.8519,  0.4006, -0.0941,\n",
       "          0.9414,  0.1433,  0.4407,  0.0880,  1.0000,  0.2742, -0.8984,  0.2581,\n",
       "         -0.9710, -0.1897, -0.9035,  0.1779,  0.0696,  0.8005, -0.2807,  0.9258,\n",
       "         -0.1421,  0.0478,  0.2357,  0.2334,  0.3798, -0.8738, -0.9662, -0.9751,\n",
       "          0.3198, -0.3783, -0.0932,  0.2455,  0.1041,  0.3505,  0.3328, -1.0000,\n",
       "          0.8870,  0.3309,  0.1849,  0.9349,  0.3938,  0.2910,  0.2008, -0.9775,\n",
       "         -0.9277, -0.3543, -0.1506,  0.7484,  0.5749,  0.7650,  0.2494, -0.4564,\n",
       "         -0.2354,  0.1384, -0.3673, -0.9819,  0.3867,  0.1047, -0.9246,  0.9320,\n",
       "         -0.2066, -0.1873,  0.4247, -0.1966,  0.8832,  0.7736,  0.4432,  0.1029,\n",
       "          0.4836,  0.8506,  0.9512,  0.9817, -0.1875,  0.6996,  0.0950,  0.3757,\n",
       "          0.6029, -0.9078,  0.0913,  0.1326, -0.1476,  0.2225, -0.2520, -0.9285,\n",
       "          0.7014, -0.1450,  0.3848, -0.3523,  0.1340, -0.4090, -0.2015, -0.7679,\n",
       "         -0.3988,  0.5139,  0.0025,  0.8681,  0.4329,  0.0167, -0.5970, -0.1529,\n",
       "          0.1355, -0.8957,  0.8828, -0.0898,  0.3433,  0.1237, -0.0756,  0.7705,\n",
       "         -0.2250, -0.4351, -0.1409, -0.7308,  0.8040, -0.2319, -0.4593, -0.4046,\n",
       "          0.7535,  0.2607,  0.9966, -0.0750, -0.1766, -0.1070, -0.2133,  0.2851,\n",
       "         -0.3409, -1.0000,  0.2674,  0.0161,  0.1917, -0.1884,  0.0988,  0.0716,\n",
       "         -0.9619, -0.1956,  0.1218, -0.0905, -0.4463, -0.2964,  0.3877,  0.3833,\n",
       "          0.4147,  0.8191,  0.4218,  0.4452,  0.4787,  0.1608, -0.6444,  0.8359]],\n",
       "       grad_fn=<TanhBackward0>), hidden_states=None, past_key_values=None, attentions=None, cross_attentions=None)"
      ]
     },
     "execution_count": 14,
     "metadata": {},
     "output_type": "execute_result"
    }
   ],
   "source": [
    "response"
   ]
  },
  {
   "cell_type": "code",
   "execution_count": null,
   "metadata": {
    "colab": {
     "base_uri": "https://localhost:8080/"
    },
    "id": "gaWxV97VeLsr",
    "outputId": "1ed55d5f-8dee-4c47-f362-806d01ce10a4"
   },
   "outputs": [
    {
     "data": {
      "text/plain": [
       "torch.Size([1, 768])"
      ]
     },
     "execution_count": 15,
     "metadata": {},
     "output_type": "execute_result"
    }
   ],
   "source": [
    "#Esta capa se entrena sobre la incrustación del token CLS\n",
    "\n",
    "response.pooler_output.shape"
   ]
  },
  {
   "cell_type": "code",
   "execution_count": null,
   "metadata": {
    "colab": {
     "base_uri": "https://localhost:8080/"
    },
    "id": "tOFW-BideYF5",
    "outputId": "55f3d47e-754b-4420-d3df-2996b28f1ba6"
   },
   "outputs": [
    {
     "data": {
      "text/plain": [
       "BertPooler(\n",
       "  (dense): Linear(in_features=768, out_features=768, bias=True)\n",
       "  (activation): Tanh()\n",
       ")"
      ]
     },
     "execution_count": 16,
     "metadata": {},
     "output_type": "execute_result"
    }
   ],
   "source": [
    "model.pooler"
   ]
  },
  {
   "cell_type": "code",
   "execution_count": null,
   "metadata": {
    "colab": {
     "base_uri": "https://localhost:8080/"
    },
    "id": "QkGeK6ysee2d",
    "outputId": "c80c4b2b-e7c1-45e4-e054-a8bc8f0b9280"
   },
   "outputs": [
    {
     "data": {
      "text/plain": [
       "torch.Size([1, 1, 768])"
      ]
     },
     "execution_count": 17,
     "metadata": {},
     "output_type": "execute_result"
    }
   ],
   "source": [
    "#toma la representación del codificador final del token CLS\n",
    "CLS_embedding = response.last_hidden_state[:,0,:].unsqueeze(0)\n",
    "\n",
    "CLS_embedding.shape"
   ]
  },
  {
   "cell_type": "code",
   "execution_count": null,
   "metadata": {
    "colab": {
     "base_uri": "https://localhost:8080/"
    },
    "id": "-H4Au6jje3Ww",
    "outputId": "c7733da4-5ca6-4c8a-f5a3-26a686dcd4bd"
   },
   "outputs": [
    {
     "data": {
      "text/plain": [
       "tensor(True)"
      ]
     },
     "execution_count": 18,
     "metadata": {},
     "output_type": "execute_result"
    }
   ],
   "source": [
    "#Ejecutar la incrustación de CLS a través del agrupador da el mismo resultado que \"pooler_output\"\n",
    "(model.pooler(CLS_embedding) == response.pooler_output).all()"
   ]
  },
  {
   "cell_type": "code",
   "execution_count": null,
   "metadata": {
    "colab": {
     "base_uri": "https://localhost:8080/"
    },
    "id": "ByvPSAm2fPin",
    "outputId": "92e7d48e-66a9-4174-b450-818c3fc53c06"
   },
   "outputs": [
    {
     "name": "stdout",
     "output_type": "stream",
     "text": [
      "Total Parameters: 109,360,128\n"
     ]
    }
   ],
   "source": [
    "total_params = 0\n",
    "for p in model.parameters():\n",
    "  if len(p.shape) == 2:\n",
    "    total_params += p.shape[0] * p.shape[1]\n",
    "\n",
    "print(f'Total Parameters: {total_params:,}') #Esto nos devolverá los 110 M de parametros de este modelob"
   ]
  },
  {
   "cell_type": "code",
   "execution_count": null,
   "metadata": {
    "colab": {
     "base_uri": "https://localhost:8080/"
    },
    "id": "XR564IBFgEms",
    "outputId": "716769c2-17b9-4f50-d26e-a80f00d54655"
   },
   "outputs": [
    {
     "data": {
      "text/plain": [
       "23440896"
      ]
     },
     "execution_count": 20,
     "metadata": {},
     "output_type": "execute_result"
    }
   ],
   "source": [
    "30522 * 768"
   ]
  }
 ],
 "metadata": {
  "colab": {
   "provenance": []
  },
  "kernelspec": {
   "display_name": "Python 3 (ipykernel)",
   "language": "python",
   "name": "python3"
  },
  "language_info": {
   "codemirror_mode": {
    "name": "ipython",
    "version": 3
   },
   "file_extension": ".py",
   "mimetype": "text/x-python",
   "name": "python",
   "nbconvert_exporter": "python",
   "pygments_lexer": "ipython3",
   "version": "3.11.5"
  },
  "widgets": {
   "application/vnd.jupyter.widget-state+json": {
    "07e58757ab4548aebda3492ce69a4b71": {
     "model_module": "@jupyter-widgets/controls",
     "model_module_version": "1.5.0",
     "model_name": "FloatProgressModel",
     "state": {
      "_dom_classes": [],
      "_model_module": "@jupyter-widgets/controls",
      "_model_module_version": "1.5.0",
      "_model_name": "FloatProgressModel",
      "_view_count": null,
      "_view_module": "@jupyter-widgets/controls",
      "_view_module_version": "1.5.0",
      "_view_name": "ProgressView",
      "bar_style": "success",
      "description": "",
      "description_tooltip": null,
      "layout": "IPY_MODEL_199c2e8b49bf439f869ed14619b2e916",
      "max": 28,
      "min": 0,
      "orientation": "horizontal",
      "style": "IPY_MODEL_a3f12ab343a148ad9cf58490dc300a59",
      "value": 28
     }
    },
    "0822fffe368d4766962b8f5f380de5c1": {
     "model_module": "@jupyter-widgets/base",
     "model_module_version": "1.2.0",
     "model_name": "LayoutModel",
     "state": {
      "_model_module": "@jupyter-widgets/base",
      "_model_module_version": "1.2.0",
      "_model_name": "LayoutModel",
      "_view_count": null,
      "_view_module": "@jupyter-widgets/base",
      "_view_module_version": "1.2.0",
      "_view_name": "LayoutView",
      "align_content": null,
      "align_items": null,
      "align_self": null,
      "border": null,
      "bottom": null,
      "display": null,
      "flex": null,
      "flex_flow": null,
      "grid_area": null,
      "grid_auto_columns": null,
      "grid_auto_flow": null,
      "grid_auto_rows": null,
      "grid_column": null,
      "grid_gap": null,
      "grid_row": null,
      "grid_template_areas": null,
      "grid_template_columns": null,
      "grid_template_rows": null,
      "height": null,
      "justify_content": null,
      "justify_items": null,
      "left": null,
      "margin": null,
      "max_height": null,
      "max_width": null,
      "min_height": null,
      "min_width": null,
      "object_fit": null,
      "object_position": null,
      "order": null,
      "overflow": null,
      "overflow_x": null,
      "overflow_y": null,
      "padding": null,
      "right": null,
      "top": null,
      "visibility": null,
      "width": null
     }
    },
    "0ad87202e6a6494482f42762ab00ceb8": {
     "model_module": "@jupyter-widgets/base",
     "model_module_version": "1.2.0",
     "model_name": "LayoutModel",
     "state": {
      "_model_module": "@jupyter-widgets/base",
      "_model_module_version": "1.2.0",
      "_model_name": "LayoutModel",
      "_view_count": null,
      "_view_module": "@jupyter-widgets/base",
      "_view_module_version": "1.2.0",
      "_view_name": "LayoutView",
      "align_content": null,
      "align_items": null,
      "align_self": null,
      "border": null,
      "bottom": null,
      "display": null,
      "flex": null,
      "flex_flow": null,
      "grid_area": null,
      "grid_auto_columns": null,
      "grid_auto_flow": null,
      "grid_auto_rows": null,
      "grid_column": null,
      "grid_gap": null,
      "grid_row": null,
      "grid_template_areas": null,
      "grid_template_columns": null,
      "grid_template_rows": null,
      "height": null,
      "justify_content": null,
      "justify_items": null,
      "left": null,
      "margin": null,
      "max_height": null,
      "max_width": null,
      "min_height": null,
      "min_width": null,
      "object_fit": null,
      "object_position": null,
      "order": null,
      "overflow": null,
      "overflow_x": null,
      "overflow_y": null,
      "padding": null,
      "right": null,
      "top": null,
      "visibility": null,
      "width": null
     }
    },
    "103b59fca4ba44d6ad8a86dd990560de": {
     "model_module": "@jupyter-widgets/controls",
     "model_module_version": "1.5.0",
     "model_name": "HBoxModel",
     "state": {
      "_dom_classes": [],
      "_model_module": "@jupyter-widgets/controls",
      "_model_module_version": "1.5.0",
      "_model_name": "HBoxModel",
      "_view_count": null,
      "_view_module": "@jupyter-widgets/controls",
      "_view_module_version": "1.5.0",
      "_view_name": "HBoxView",
      "box_style": "",
      "children": [
       "IPY_MODEL_c31f6d212f2b4a6b8e166423e4fdf3fa",
       "IPY_MODEL_e0599f0f1ebe488c94de54de0a389c94",
       "IPY_MODEL_7e7627a798aa492a93f6c7a0d8593e34"
      ],
      "layout": "IPY_MODEL_9de1c9686f1f4c8a9d9f0c1ba79351f8"
     }
    },
    "1152367f1cf848129f4e5497899a3058": {
     "model_module": "@jupyter-widgets/controls",
     "model_module_version": "1.5.0",
     "model_name": "DescriptionStyleModel",
     "state": {
      "_model_module": "@jupyter-widgets/controls",
      "_model_module_version": "1.5.0",
      "_model_name": "DescriptionStyleModel",
      "_view_count": null,
      "_view_module": "@jupyter-widgets/base",
      "_view_module_version": "1.2.0",
      "_view_name": "StyleView",
      "description_width": ""
     }
    },
    "199c2e8b49bf439f869ed14619b2e916": {
     "model_module": "@jupyter-widgets/base",
     "model_module_version": "1.2.0",
     "model_name": "LayoutModel",
     "state": {
      "_model_module": "@jupyter-widgets/base",
      "_model_module_version": "1.2.0",
      "_model_name": "LayoutModel",
      "_view_count": null,
      "_view_module": "@jupyter-widgets/base",
      "_view_module_version": "1.2.0",
      "_view_name": "LayoutView",
      "align_content": null,
      "align_items": null,
      "align_self": null,
      "border": null,
      "bottom": null,
      "display": null,
      "flex": null,
      "flex_flow": null,
      "grid_area": null,
      "grid_auto_columns": null,
      "grid_auto_flow": null,
      "grid_auto_rows": null,
      "grid_column": null,
      "grid_gap": null,
      "grid_row": null,
      "grid_template_areas": null,
      "grid_template_columns": null,
      "grid_template_rows": null,
      "height": null,
      "justify_content": null,
      "justify_items": null,
      "left": null,
      "margin": null,
      "max_height": null,
      "max_width": null,
      "min_height": null,
      "min_width": null,
      "object_fit": null,
      "object_position": null,
      "order": null,
      "overflow": null,
      "overflow_x": null,
      "overflow_y": null,
      "padding": null,
      "right": null,
      "top": null,
      "visibility": null,
      "width": null
     }
    },
    "1d872b13c616464c8734c6f7223b674a": {
     "model_module": "@jupyter-widgets/controls",
     "model_module_version": "1.5.0",
     "model_name": "HTMLModel",
     "state": {
      "_dom_classes": [],
      "_model_module": "@jupyter-widgets/controls",
      "_model_module_version": "1.5.0",
      "_model_name": "HTMLModel",
      "_view_count": null,
      "_view_module": "@jupyter-widgets/controls",
      "_view_module_version": "1.5.0",
      "_view_name": "HTMLView",
      "description": "",
      "description_tooltip": null,
      "layout": "IPY_MODEL_0822fffe368d4766962b8f5f380de5c1",
      "placeholder": "​",
      "style": "IPY_MODEL_7f5189a09bc8425cb3d30ef32cfc64e2",
      "value": " 570/570 [00:00&lt;00:00, 11.3kB/s]"
     }
    },
    "2eed260dbfa0412d84201d05a5fd8cb9": {
     "model_module": "@jupyter-widgets/controls",
     "model_module_version": "1.5.0",
     "model_name": "ProgressStyleModel",
     "state": {
      "_model_module": "@jupyter-widgets/controls",
      "_model_module_version": "1.5.0",
      "_model_name": "ProgressStyleModel",
      "_view_count": null,
      "_view_module": "@jupyter-widgets/base",
      "_view_module_version": "1.2.0",
      "_view_name": "StyleView",
      "bar_color": null,
      "description_width": ""
     }
    },
    "3350ce295f4b4904a033844ee2bc2d2c": {
     "model_module": "@jupyter-widgets/controls",
     "model_module_version": "1.5.0",
     "model_name": "ProgressStyleModel",
     "state": {
      "_model_module": "@jupyter-widgets/controls",
      "_model_module_version": "1.5.0",
      "_model_name": "ProgressStyleModel",
      "_view_count": null,
      "_view_module": "@jupyter-widgets/base",
      "_view_module_version": "1.2.0",
      "_view_name": "StyleView",
      "bar_color": null,
      "description_width": ""
     }
    },
    "47cfb64c30fa4a75a704f633e802f337": {
     "model_module": "@jupyter-widgets/base",
     "model_module_version": "1.2.0",
     "model_name": "LayoutModel",
     "state": {
      "_model_module": "@jupyter-widgets/base",
      "_model_module_version": "1.2.0",
      "_model_name": "LayoutModel",
      "_view_count": null,
      "_view_module": "@jupyter-widgets/base",
      "_view_module_version": "1.2.0",
      "_view_name": "LayoutView",
      "align_content": null,
      "align_items": null,
      "align_self": null,
      "border": null,
      "bottom": null,
      "display": null,
      "flex": null,
      "flex_flow": null,
      "grid_area": null,
      "grid_auto_columns": null,
      "grid_auto_flow": null,
      "grid_auto_rows": null,
      "grid_column": null,
      "grid_gap": null,
      "grid_row": null,
      "grid_template_areas": null,
      "grid_template_columns": null,
      "grid_template_rows": null,
      "height": null,
      "justify_content": null,
      "justify_items": null,
      "left": null,
      "margin": null,
      "max_height": null,
      "max_width": null,
      "min_height": null,
      "min_width": null,
      "object_fit": null,
      "object_position": null,
      "order": null,
      "overflow": null,
      "overflow_x": null,
      "overflow_y": null,
      "padding": null,
      "right": null,
      "top": null,
      "visibility": null,
      "width": null
     }
    },
    "4979431a0fb64c2f85d6b4fab66ec413": {
     "model_module": "@jupyter-widgets/controls",
     "model_module_version": "1.5.0",
     "model_name": "DescriptionStyleModel",
     "state": {
      "_model_module": "@jupyter-widgets/controls",
      "_model_module_version": "1.5.0",
      "_model_name": "DescriptionStyleModel",
      "_view_count": null,
      "_view_module": "@jupyter-widgets/base",
      "_view_module_version": "1.2.0",
      "_view_name": "StyleView",
      "description_width": ""
     }
    },
    "4b9bcd822cbe4f7f996e293c0da40cfc": {
     "model_module": "@jupyter-widgets/controls",
     "model_module_version": "1.5.0",
     "model_name": "FloatProgressModel",
     "state": {
      "_dom_classes": [],
      "_model_module": "@jupyter-widgets/controls",
      "_model_module_version": "1.5.0",
      "_model_name": "FloatProgressModel",
      "_view_count": null,
      "_view_module": "@jupyter-widgets/controls",
      "_view_module_version": "1.5.0",
      "_view_name": "ProgressView",
      "bar_style": "success",
      "description": "",
      "description_tooltip": null,
      "layout": "IPY_MODEL_9e0309925cf346d1ad1eea34c6359e73",
      "max": 570,
      "min": 0,
      "orientation": "horizontal",
      "style": "IPY_MODEL_2eed260dbfa0412d84201d05a5fd8cb9",
      "value": 570
     }
    },
    "549d9de8fbf847bb829b0c232f5b8b3a": {
     "model_module": "@jupyter-widgets/base",
     "model_module_version": "1.2.0",
     "model_name": "LayoutModel",
     "state": {
      "_model_module": "@jupyter-widgets/base",
      "_model_module_version": "1.2.0",
      "_model_name": "LayoutModel",
      "_view_count": null,
      "_view_module": "@jupyter-widgets/base",
      "_view_module_version": "1.2.0",
      "_view_name": "LayoutView",
      "align_content": null,
      "align_items": null,
      "align_self": null,
      "border": null,
      "bottom": null,
      "display": null,
      "flex": null,
      "flex_flow": null,
      "grid_area": null,
      "grid_auto_columns": null,
      "grid_auto_flow": null,
      "grid_auto_rows": null,
      "grid_column": null,
      "grid_gap": null,
      "grid_row": null,
      "grid_template_areas": null,
      "grid_template_columns": null,
      "grid_template_rows": null,
      "height": null,
      "justify_content": null,
      "justify_items": null,
      "left": null,
      "margin": null,
      "max_height": null,
      "max_width": null,
      "min_height": null,
      "min_width": null,
      "object_fit": null,
      "object_position": null,
      "order": null,
      "overflow": null,
      "overflow_x": null,
      "overflow_y": null,
      "padding": null,
      "right": null,
      "top": null,
      "visibility": null,
      "width": null
     }
    },
    "5a066ca8dd8545a9b7f8c2a1a884997a": {
     "model_module": "@jupyter-widgets/base",
     "model_module_version": "1.2.0",
     "model_name": "LayoutModel",
     "state": {
      "_model_module": "@jupyter-widgets/base",
      "_model_module_version": "1.2.0",
      "_model_name": "LayoutModel",
      "_view_count": null,
      "_view_module": "@jupyter-widgets/base",
      "_view_module_version": "1.2.0",
      "_view_name": "LayoutView",
      "align_content": null,
      "align_items": null,
      "align_self": null,
      "border": null,
      "bottom": null,
      "display": null,
      "flex": null,
      "flex_flow": null,
      "grid_area": null,
      "grid_auto_columns": null,
      "grid_auto_flow": null,
      "grid_auto_rows": null,
      "grid_column": null,
      "grid_gap": null,
      "grid_row": null,
      "grid_template_areas": null,
      "grid_template_columns": null,
      "grid_template_rows": null,
      "height": null,
      "justify_content": null,
      "justify_items": null,
      "left": null,
      "margin": null,
      "max_height": null,
      "max_width": null,
      "min_height": null,
      "min_width": null,
      "object_fit": null,
      "object_position": null,
      "order": null,
      "overflow": null,
      "overflow_x": null,
      "overflow_y": null,
      "padding": null,
      "right": null,
      "top": null,
      "visibility": null,
      "width": null
     }
    },
    "6ba22c15470e48e485d356dca1961832": {
     "model_module": "@jupyter-widgets/controls",
     "model_module_version": "1.5.0",
     "model_name": "HTMLModel",
     "state": {
      "_dom_classes": [],
      "_model_module": "@jupyter-widgets/controls",
      "_model_module_version": "1.5.0",
      "_model_name": "HTMLModel",
      "_view_count": null,
      "_view_module": "@jupyter-widgets/controls",
      "_view_module_version": "1.5.0",
      "_view_name": "HTMLView",
      "description": "",
      "description_tooltip": null,
      "layout": "IPY_MODEL_0ad87202e6a6494482f42762ab00ceb8",
      "placeholder": "​",
      "style": "IPY_MODEL_4979431a0fb64c2f85d6b4fab66ec413",
      "value": "Downloading (…)lve/main/config.json: 100%"
     }
    },
    "6dff8e9eed714ed7999b864b93e3b057": {
     "model_module": "@jupyter-widgets/base",
     "model_module_version": "1.2.0",
     "model_name": "LayoutModel",
     "state": {
      "_model_module": "@jupyter-widgets/base",
      "_model_module_version": "1.2.0",
      "_model_name": "LayoutModel",
      "_view_count": null,
      "_view_module": "@jupyter-widgets/base",
      "_view_module_version": "1.2.0",
      "_view_name": "LayoutView",
      "align_content": null,
      "align_items": null,
      "align_self": null,
      "border": null,
      "bottom": null,
      "display": null,
      "flex": null,
      "flex_flow": null,
      "grid_area": null,
      "grid_auto_columns": null,
      "grid_auto_flow": null,
      "grid_auto_rows": null,
      "grid_column": null,
      "grid_gap": null,
      "grid_row": null,
      "grid_template_areas": null,
      "grid_template_columns": null,
      "grid_template_rows": null,
      "height": null,
      "justify_content": null,
      "justify_items": null,
      "left": null,
      "margin": null,
      "max_height": null,
      "max_width": null,
      "min_height": null,
      "min_width": null,
      "object_fit": null,
      "object_position": null,
      "order": null,
      "overflow": null,
      "overflow_x": null,
      "overflow_y": null,
      "padding": null,
      "right": null,
      "top": null,
      "visibility": null,
      "width": null
     }
    },
    "738da5ef41774ac89ee59f67fbb21931": {
     "model_module": "@jupyter-widgets/base",
     "model_module_version": "1.2.0",
     "model_name": "LayoutModel",
     "state": {
      "_model_module": "@jupyter-widgets/base",
      "_model_module_version": "1.2.0",
      "_model_name": "LayoutModel",
      "_view_count": null,
      "_view_module": "@jupyter-widgets/base",
      "_view_module_version": "1.2.0",
      "_view_name": "LayoutView",
      "align_content": null,
      "align_items": null,
      "align_self": null,
      "border": null,
      "bottom": null,
      "display": null,
      "flex": null,
      "flex_flow": null,
      "grid_area": null,
      "grid_auto_columns": null,
      "grid_auto_flow": null,
      "grid_auto_rows": null,
      "grid_column": null,
      "grid_gap": null,
      "grid_row": null,
      "grid_template_areas": null,
      "grid_template_columns": null,
      "grid_template_rows": null,
      "height": null,
      "justify_content": null,
      "justify_items": null,
      "left": null,
      "margin": null,
      "max_height": null,
      "max_width": null,
      "min_height": null,
      "min_width": null,
      "object_fit": null,
      "object_position": null,
      "order": null,
      "overflow": null,
      "overflow_x": null,
      "overflow_y": null,
      "padding": null,
      "right": null,
      "top": null,
      "visibility": null,
      "width": null
     }
    },
    "7400a68dc72f4772bb214836583a51b4": {
     "model_module": "@jupyter-widgets/controls",
     "model_module_version": "1.5.0",
     "model_name": "HBoxModel",
     "state": {
      "_dom_classes": [],
      "_model_module": "@jupyter-widgets/controls",
      "_model_module_version": "1.5.0",
      "_model_name": "HBoxModel",
      "_view_count": null,
      "_view_module": "@jupyter-widgets/controls",
      "_view_module_version": "1.5.0",
      "_view_name": "HBoxView",
      "box_style": "",
      "children": [
       "IPY_MODEL_b228bdf2720e43e0b88ae9f787762ef7",
       "IPY_MODEL_a6ff455d92e54c548d408de6d91949ef",
       "IPY_MODEL_d59917633387437bbca9ef0780b7981c"
      ],
      "layout": "IPY_MODEL_5a066ca8dd8545a9b7f8c2a1a884997a"
     }
    },
    "74cb2226e6da44deb0e2e52a288972c9": {
     "model_module": "@jupyter-widgets/controls",
     "model_module_version": "1.5.0",
     "model_name": "HBoxModel",
     "state": {
      "_dom_classes": [],
      "_model_module": "@jupyter-widgets/controls",
      "_model_module_version": "1.5.0",
      "_model_name": "HBoxModel",
      "_view_count": null,
      "_view_module": "@jupyter-widgets/controls",
      "_view_module_version": "1.5.0",
      "_view_name": "HBoxView",
      "box_style": "",
      "children": [
       "IPY_MODEL_b67ebd2f622a4b7cb88f39ceed480d80",
       "IPY_MODEL_07e58757ab4548aebda3492ce69a4b71",
       "IPY_MODEL_8c9622f10fd04c44adb5241522ee4e6b"
      ],
      "layout": "IPY_MODEL_e80ec65523af454fbf19299c4c4b3fdf"
     }
    },
    "7e7627a798aa492a93f6c7a0d8593e34": {
     "model_module": "@jupyter-widgets/controls",
     "model_module_version": "1.5.0",
     "model_name": "HTMLModel",
     "state": {
      "_dom_classes": [],
      "_model_module": "@jupyter-widgets/controls",
      "_model_module_version": "1.5.0",
      "_model_name": "HTMLModel",
      "_view_count": null,
      "_view_module": "@jupyter-widgets/controls",
      "_view_module_version": "1.5.0",
      "_view_name": "HTMLView",
      "description": "",
      "description_tooltip": null,
      "layout": "IPY_MODEL_738da5ef41774ac89ee59f67fbb21931",
      "placeholder": "​",
      "style": "IPY_MODEL_9d429fad3e40402daad132b2d76c1db7",
      "value": " 440M/440M [00:02&lt;00:00, 223MB/s]"
     }
    },
    "7f5189a09bc8425cb3d30ef32cfc64e2": {
     "model_module": "@jupyter-widgets/controls",
     "model_module_version": "1.5.0",
     "model_name": "DescriptionStyleModel",
     "state": {
      "_model_module": "@jupyter-widgets/controls",
      "_model_module_version": "1.5.0",
      "_model_name": "DescriptionStyleModel",
      "_view_count": null,
      "_view_module": "@jupyter-widgets/base",
      "_view_module_version": "1.2.0",
      "_view_name": "StyleView",
      "description_width": ""
     }
    },
    "87d4c4db2c3c42488b2b2bf09a70a73c": {
     "model_module": "@jupyter-widgets/base",
     "model_module_version": "1.2.0",
     "model_name": "LayoutModel",
     "state": {
      "_model_module": "@jupyter-widgets/base",
      "_model_module_version": "1.2.0",
      "_model_name": "LayoutModel",
      "_view_count": null,
      "_view_module": "@jupyter-widgets/base",
      "_view_module_version": "1.2.0",
      "_view_name": "LayoutView",
      "align_content": null,
      "align_items": null,
      "align_self": null,
      "border": null,
      "bottom": null,
      "display": null,
      "flex": null,
      "flex_flow": null,
      "grid_area": null,
      "grid_auto_columns": null,
      "grid_auto_flow": null,
      "grid_auto_rows": null,
      "grid_column": null,
      "grid_gap": null,
      "grid_row": null,
      "grid_template_areas": null,
      "grid_template_columns": null,
      "grid_template_rows": null,
      "height": null,
      "justify_content": null,
      "justify_items": null,
      "left": null,
      "margin": null,
      "max_height": null,
      "max_width": null,
      "min_height": null,
      "min_width": null,
      "object_fit": null,
      "object_position": null,
      "order": null,
      "overflow": null,
      "overflow_x": null,
      "overflow_y": null,
      "padding": null,
      "right": null,
      "top": null,
      "visibility": null,
      "width": null
     }
    },
    "8c9622f10fd04c44adb5241522ee4e6b": {
     "model_module": "@jupyter-widgets/controls",
     "model_module_version": "1.5.0",
     "model_name": "HTMLModel",
     "state": {
      "_dom_classes": [],
      "_model_module": "@jupyter-widgets/controls",
      "_model_module_version": "1.5.0",
      "_model_name": "HTMLModel",
      "_view_count": null,
      "_view_module": "@jupyter-widgets/controls",
      "_view_module_version": "1.5.0",
      "_view_name": "HTMLView",
      "description": "",
      "description_tooltip": null,
      "layout": "IPY_MODEL_549d9de8fbf847bb829b0c232f5b8b3a",
      "placeholder": "​",
      "style": "IPY_MODEL_be19f529746e44cbaa5988acf3d13e28",
      "value": " 28.0/28.0 [00:00&lt;00:00, 1.30kB/s]"
     }
    },
    "923cc9c0d326407a8dc51826e518acc0": {
     "model_module": "@jupyter-widgets/controls",
     "model_module_version": "1.5.0",
     "model_name": "HBoxModel",
     "state": {
      "_dom_classes": [],
      "_model_module": "@jupyter-widgets/controls",
      "_model_module_version": "1.5.0",
      "_model_name": "HBoxModel",
      "_view_count": null,
      "_view_module": "@jupyter-widgets/controls",
      "_view_module_version": "1.5.0",
      "_view_name": "HBoxView",
      "box_style": "",
      "children": [
       "IPY_MODEL_6ba22c15470e48e485d356dca1961832",
       "IPY_MODEL_4b9bcd822cbe4f7f996e293c0da40cfc",
       "IPY_MODEL_1d872b13c616464c8734c6f7223b674a"
      ],
      "layout": "IPY_MODEL_87d4c4db2c3c42488b2b2bf09a70a73c"
     }
    },
    "93612a6021124bad9204ae646a5f486d": {
     "model_module": "@jupyter-widgets/base",
     "model_module_version": "1.2.0",
     "model_name": "LayoutModel",
     "state": {
      "_model_module": "@jupyter-widgets/base",
      "_model_module_version": "1.2.0",
      "_model_name": "LayoutModel",
      "_view_count": null,
      "_view_module": "@jupyter-widgets/base",
      "_view_module_version": "1.2.0",
      "_view_name": "LayoutView",
      "align_content": null,
      "align_items": null,
      "align_self": null,
      "border": null,
      "bottom": null,
      "display": null,
      "flex": null,
      "flex_flow": null,
      "grid_area": null,
      "grid_auto_columns": null,
      "grid_auto_flow": null,
      "grid_auto_rows": null,
      "grid_column": null,
      "grid_gap": null,
      "grid_row": null,
      "grid_template_areas": null,
      "grid_template_columns": null,
      "grid_template_rows": null,
      "height": null,
      "justify_content": null,
      "justify_items": null,
      "left": null,
      "margin": null,
      "max_height": null,
      "max_width": null,
      "min_height": null,
      "min_width": null,
      "object_fit": null,
      "object_position": null,
      "order": null,
      "overflow": null,
      "overflow_x": null,
      "overflow_y": null,
      "padding": null,
      "right": null,
      "top": null,
      "visibility": null,
      "width": null
     }
    },
    "9704979ca7354886a8e560245ef1edad": {
     "model_module": "@jupyter-widgets/controls",
     "model_module_version": "1.5.0",
     "model_name": "ProgressStyleModel",
     "state": {
      "_model_module": "@jupyter-widgets/controls",
      "_model_module_version": "1.5.0",
      "_model_name": "ProgressStyleModel",
      "_view_count": null,
      "_view_module": "@jupyter-widgets/base",
      "_view_module_version": "1.2.0",
      "_view_name": "StyleView",
      "bar_color": null,
      "description_width": ""
     }
    },
    "9d429fad3e40402daad132b2d76c1db7": {
     "model_module": "@jupyter-widgets/controls",
     "model_module_version": "1.5.0",
     "model_name": "DescriptionStyleModel",
     "state": {
      "_model_module": "@jupyter-widgets/controls",
      "_model_module_version": "1.5.0",
      "_model_name": "DescriptionStyleModel",
      "_view_count": null,
      "_view_module": "@jupyter-widgets/base",
      "_view_module_version": "1.2.0",
      "_view_name": "StyleView",
      "description_width": ""
     }
    },
    "9de1c9686f1f4c8a9d9f0c1ba79351f8": {
     "model_module": "@jupyter-widgets/base",
     "model_module_version": "1.2.0",
     "model_name": "LayoutModel",
     "state": {
      "_model_module": "@jupyter-widgets/base",
      "_model_module_version": "1.2.0",
      "_model_name": "LayoutModel",
      "_view_count": null,
      "_view_module": "@jupyter-widgets/base",
      "_view_module_version": "1.2.0",
      "_view_name": "LayoutView",
      "align_content": null,
      "align_items": null,
      "align_self": null,
      "border": null,
      "bottom": null,
      "display": null,
      "flex": null,
      "flex_flow": null,
      "grid_area": null,
      "grid_auto_columns": null,
      "grid_auto_flow": null,
      "grid_auto_rows": null,
      "grid_column": null,
      "grid_gap": null,
      "grid_row": null,
      "grid_template_areas": null,
      "grid_template_columns": null,
      "grid_template_rows": null,
      "height": null,
      "justify_content": null,
      "justify_items": null,
      "left": null,
      "margin": null,
      "max_height": null,
      "max_width": null,
      "min_height": null,
      "min_width": null,
      "object_fit": null,
      "object_position": null,
      "order": null,
      "overflow": null,
      "overflow_x": null,
      "overflow_y": null,
      "padding": null,
      "right": null,
      "top": null,
      "visibility": null,
      "width": null
     }
    },
    "9e0309925cf346d1ad1eea34c6359e73": {
     "model_module": "@jupyter-widgets/base",
     "model_module_version": "1.2.0",
     "model_name": "LayoutModel",
     "state": {
      "_model_module": "@jupyter-widgets/base",
      "_model_module_version": "1.2.0",
      "_model_name": "LayoutModel",
      "_view_count": null,
      "_view_module": "@jupyter-widgets/base",
      "_view_module_version": "1.2.0",
      "_view_name": "LayoutView",
      "align_content": null,
      "align_items": null,
      "align_self": null,
      "border": null,
      "bottom": null,
      "display": null,
      "flex": null,
      "flex_flow": null,
      "grid_area": null,
      "grid_auto_columns": null,
      "grid_auto_flow": null,
      "grid_auto_rows": null,
      "grid_column": null,
      "grid_gap": null,
      "grid_row": null,
      "grid_template_areas": null,
      "grid_template_columns": null,
      "grid_template_rows": null,
      "height": null,
      "justify_content": null,
      "justify_items": null,
      "left": null,
      "margin": null,
      "max_height": null,
      "max_width": null,
      "min_height": null,
      "min_width": null,
      "object_fit": null,
      "object_position": null,
      "order": null,
      "overflow": null,
      "overflow_x": null,
      "overflow_y": null,
      "padding": null,
      "right": null,
      "top": null,
      "visibility": null,
      "width": null
     }
    },
    "a3f12ab343a148ad9cf58490dc300a59": {
     "model_module": "@jupyter-widgets/controls",
     "model_module_version": "1.5.0",
     "model_name": "ProgressStyleModel",
     "state": {
      "_model_module": "@jupyter-widgets/controls",
      "_model_module_version": "1.5.0",
      "_model_name": "ProgressStyleModel",
      "_view_count": null,
      "_view_module": "@jupyter-widgets/base",
      "_view_module_version": "1.2.0",
      "_view_name": "StyleView",
      "bar_color": null,
      "description_width": ""
     }
    },
    "a6ff455d92e54c548d408de6d91949ef": {
     "model_module": "@jupyter-widgets/controls",
     "model_module_version": "1.5.0",
     "model_name": "FloatProgressModel",
     "state": {
      "_dom_classes": [],
      "_model_module": "@jupyter-widgets/controls",
      "_model_module_version": "1.5.0",
      "_model_name": "FloatProgressModel",
      "_view_count": null,
      "_view_module": "@jupyter-widgets/controls",
      "_view_module_version": "1.5.0",
      "_view_name": "ProgressView",
      "bar_style": "success",
      "description": "",
      "description_tooltip": null,
      "layout": "IPY_MODEL_6dff8e9eed714ed7999b864b93e3b057",
      "max": 231508,
      "min": 0,
      "orientation": "horizontal",
      "style": "IPY_MODEL_3350ce295f4b4904a033844ee2bc2d2c",
      "value": 231508
     }
    },
    "a805499a10b74cdea78ca771d7c61fb5": {
     "model_module": "@jupyter-widgets/controls",
     "model_module_version": "1.5.0",
     "model_name": "DescriptionStyleModel",
     "state": {
      "_model_module": "@jupyter-widgets/controls",
      "_model_module_version": "1.5.0",
      "_model_name": "DescriptionStyleModel",
      "_view_count": null,
      "_view_module": "@jupyter-widgets/base",
      "_view_module_version": "1.2.0",
      "_view_name": "StyleView",
      "description_width": ""
     }
    },
    "b228bdf2720e43e0b88ae9f787762ef7": {
     "model_module": "@jupyter-widgets/controls",
     "model_module_version": "1.5.0",
     "model_name": "HTMLModel",
     "state": {
      "_dom_classes": [],
      "_model_module": "@jupyter-widgets/controls",
      "_model_module_version": "1.5.0",
      "_model_name": "HTMLModel",
      "_view_count": null,
      "_view_module": "@jupyter-widgets/controls",
      "_view_module_version": "1.5.0",
      "_view_name": "HTMLView",
      "description": "",
      "description_tooltip": null,
      "layout": "IPY_MODEL_fd3d715268544246be9a6ed1582db4e8",
      "placeholder": "​",
      "style": "IPY_MODEL_f803116457f24991ba94844f6fe7f4e0",
      "value": "Downloading (…)solve/main/vocab.txt: 100%"
     }
    },
    "b67ebd2f622a4b7cb88f39ceed480d80": {
     "model_module": "@jupyter-widgets/controls",
     "model_module_version": "1.5.0",
     "model_name": "HTMLModel",
     "state": {
      "_dom_classes": [],
      "_model_module": "@jupyter-widgets/controls",
      "_model_module_version": "1.5.0",
      "_model_name": "HTMLModel",
      "_view_count": null,
      "_view_module": "@jupyter-widgets/controls",
      "_view_module_version": "1.5.0",
      "_view_name": "HTMLView",
      "description": "",
      "description_tooltip": null,
      "layout": "IPY_MODEL_e87f1af409c141a1a4a98aac1c504409",
      "placeholder": "​",
      "style": "IPY_MODEL_1152367f1cf848129f4e5497899a3058",
      "value": "Downloading (…)okenizer_config.json: 100%"
     }
    },
    "be19f529746e44cbaa5988acf3d13e28": {
     "model_module": "@jupyter-widgets/controls",
     "model_module_version": "1.5.0",
     "model_name": "DescriptionStyleModel",
     "state": {
      "_model_module": "@jupyter-widgets/controls",
      "_model_module_version": "1.5.0",
      "_model_name": "DescriptionStyleModel",
      "_view_count": null,
      "_view_module": "@jupyter-widgets/base",
      "_view_module_version": "1.2.0",
      "_view_name": "StyleView",
      "description_width": ""
     }
    },
    "c31f6d212f2b4a6b8e166423e4fdf3fa": {
     "model_module": "@jupyter-widgets/controls",
     "model_module_version": "1.5.0",
     "model_name": "HTMLModel",
     "state": {
      "_dom_classes": [],
      "_model_module": "@jupyter-widgets/controls",
      "_model_module_version": "1.5.0",
      "_model_name": "HTMLModel",
      "_view_count": null,
      "_view_module": "@jupyter-widgets/controls",
      "_view_module_version": "1.5.0",
      "_view_name": "HTMLView",
      "description": "",
      "description_tooltip": null,
      "layout": "IPY_MODEL_93612a6021124bad9204ae646a5f486d",
      "placeholder": "​",
      "style": "IPY_MODEL_a805499a10b74cdea78ca771d7c61fb5",
      "value": "Downloading model.safetensors: 100%"
     }
    },
    "d59917633387437bbca9ef0780b7981c": {
     "model_module": "@jupyter-widgets/controls",
     "model_module_version": "1.5.0",
     "model_name": "HTMLModel",
     "state": {
      "_dom_classes": [],
      "_model_module": "@jupyter-widgets/controls",
      "_model_module_version": "1.5.0",
      "_model_name": "HTMLModel",
      "_view_count": null,
      "_view_module": "@jupyter-widgets/controls",
      "_view_module_version": "1.5.0",
      "_view_name": "HTMLView",
      "description": "",
      "description_tooltip": null,
      "layout": "IPY_MODEL_47cfb64c30fa4a75a704f633e802f337",
      "placeholder": "​",
      "style": "IPY_MODEL_e5c3482609444b08b9113bdba20932bd",
      "value": " 232k/232k [00:00&lt;00:00, 1.40MB/s]"
     }
    },
    "e0599f0f1ebe488c94de54de0a389c94": {
     "model_module": "@jupyter-widgets/controls",
     "model_module_version": "1.5.0",
     "model_name": "FloatProgressModel",
     "state": {
      "_dom_classes": [],
      "_model_module": "@jupyter-widgets/controls",
      "_model_module_version": "1.5.0",
      "_model_name": "FloatProgressModel",
      "_view_count": null,
      "_view_module": "@jupyter-widgets/controls",
      "_view_module_version": "1.5.0",
      "_view_name": "ProgressView",
      "bar_style": "success",
      "description": "",
      "description_tooltip": null,
      "layout": "IPY_MODEL_e75db6dfa61f4835871c8d27fcd04db7",
      "max": 440449768,
      "min": 0,
      "orientation": "horizontal",
      "style": "IPY_MODEL_9704979ca7354886a8e560245ef1edad",
      "value": 440449768
     }
    },
    "e5c3482609444b08b9113bdba20932bd": {
     "model_module": "@jupyter-widgets/controls",
     "model_module_version": "1.5.0",
     "model_name": "DescriptionStyleModel",
     "state": {
      "_model_module": "@jupyter-widgets/controls",
      "_model_module_version": "1.5.0",
      "_model_name": "DescriptionStyleModel",
      "_view_count": null,
      "_view_module": "@jupyter-widgets/base",
      "_view_module_version": "1.2.0",
      "_view_name": "StyleView",
      "description_width": ""
     }
    },
    "e75db6dfa61f4835871c8d27fcd04db7": {
     "model_module": "@jupyter-widgets/base",
     "model_module_version": "1.2.0",
     "model_name": "LayoutModel",
     "state": {
      "_model_module": "@jupyter-widgets/base",
      "_model_module_version": "1.2.0",
      "_model_name": "LayoutModel",
      "_view_count": null,
      "_view_module": "@jupyter-widgets/base",
      "_view_module_version": "1.2.0",
      "_view_name": "LayoutView",
      "align_content": null,
      "align_items": null,
      "align_self": null,
      "border": null,
      "bottom": null,
      "display": null,
      "flex": null,
      "flex_flow": null,
      "grid_area": null,
      "grid_auto_columns": null,
      "grid_auto_flow": null,
      "grid_auto_rows": null,
      "grid_column": null,
      "grid_gap": null,
      "grid_row": null,
      "grid_template_areas": null,
      "grid_template_columns": null,
      "grid_template_rows": null,
      "height": null,
      "justify_content": null,
      "justify_items": null,
      "left": null,
      "margin": null,
      "max_height": null,
      "max_width": null,
      "min_height": null,
      "min_width": null,
      "object_fit": null,
      "object_position": null,
      "order": null,
      "overflow": null,
      "overflow_x": null,
      "overflow_y": null,
      "padding": null,
      "right": null,
      "top": null,
      "visibility": null,
      "width": null
     }
    },
    "e80ec65523af454fbf19299c4c4b3fdf": {
     "model_module": "@jupyter-widgets/base",
     "model_module_version": "1.2.0",
     "model_name": "LayoutModel",
     "state": {
      "_model_module": "@jupyter-widgets/base",
      "_model_module_version": "1.2.0",
      "_model_name": "LayoutModel",
      "_view_count": null,
      "_view_module": "@jupyter-widgets/base",
      "_view_module_version": "1.2.0",
      "_view_name": "LayoutView",
      "align_content": null,
      "align_items": null,
      "align_self": null,
      "border": null,
      "bottom": null,
      "display": null,
      "flex": null,
      "flex_flow": null,
      "grid_area": null,
      "grid_auto_columns": null,
      "grid_auto_flow": null,
      "grid_auto_rows": null,
      "grid_column": null,
      "grid_gap": null,
      "grid_row": null,
      "grid_template_areas": null,
      "grid_template_columns": null,
      "grid_template_rows": null,
      "height": null,
      "justify_content": null,
      "justify_items": null,
      "left": null,
      "margin": null,
      "max_height": null,
      "max_width": null,
      "min_height": null,
      "min_width": null,
      "object_fit": null,
      "object_position": null,
      "order": null,
      "overflow": null,
      "overflow_x": null,
      "overflow_y": null,
      "padding": null,
      "right": null,
      "top": null,
      "visibility": null,
      "width": null
     }
    },
    "e87f1af409c141a1a4a98aac1c504409": {
     "model_module": "@jupyter-widgets/base",
     "model_module_version": "1.2.0",
     "model_name": "LayoutModel",
     "state": {
      "_model_module": "@jupyter-widgets/base",
      "_model_module_version": "1.2.0",
      "_model_name": "LayoutModel",
      "_view_count": null,
      "_view_module": "@jupyter-widgets/base",
      "_view_module_version": "1.2.0",
      "_view_name": "LayoutView",
      "align_content": null,
      "align_items": null,
      "align_self": null,
      "border": null,
      "bottom": null,
      "display": null,
      "flex": null,
      "flex_flow": null,
      "grid_area": null,
      "grid_auto_columns": null,
      "grid_auto_flow": null,
      "grid_auto_rows": null,
      "grid_column": null,
      "grid_gap": null,
      "grid_row": null,
      "grid_template_areas": null,
      "grid_template_columns": null,
      "grid_template_rows": null,
      "height": null,
      "justify_content": null,
      "justify_items": null,
      "left": null,
      "margin": null,
      "max_height": null,
      "max_width": null,
      "min_height": null,
      "min_width": null,
      "object_fit": null,
      "object_position": null,
      "order": null,
      "overflow": null,
      "overflow_x": null,
      "overflow_y": null,
      "padding": null,
      "right": null,
      "top": null,
      "visibility": null,
      "width": null
     }
    },
    "f803116457f24991ba94844f6fe7f4e0": {
     "model_module": "@jupyter-widgets/controls",
     "model_module_version": "1.5.0",
     "model_name": "DescriptionStyleModel",
     "state": {
      "_model_module": "@jupyter-widgets/controls",
      "_model_module_version": "1.5.0",
      "_model_name": "DescriptionStyleModel",
      "_view_count": null,
      "_view_module": "@jupyter-widgets/base",
      "_view_module_version": "1.2.0",
      "_view_name": "StyleView",
      "description_width": ""
     }
    },
    "fd3d715268544246be9a6ed1582db4e8": {
     "model_module": "@jupyter-widgets/base",
     "model_module_version": "1.2.0",
     "model_name": "LayoutModel",
     "state": {
      "_model_module": "@jupyter-widgets/base",
      "_model_module_version": "1.2.0",
      "_model_name": "LayoutModel",
      "_view_count": null,
      "_view_module": "@jupyter-widgets/base",
      "_view_module_version": "1.2.0",
      "_view_name": "LayoutView",
      "align_content": null,
      "align_items": null,
      "align_self": null,
      "border": null,
      "bottom": null,
      "display": null,
      "flex": null,
      "flex_flow": null,
      "grid_area": null,
      "grid_auto_columns": null,
      "grid_auto_flow": null,
      "grid_auto_rows": null,
      "grid_column": null,
      "grid_gap": null,
      "grid_row": null,
      "grid_template_areas": null,
      "grid_template_columns": null,
      "grid_template_rows": null,
      "height": null,
      "justify_content": null,
      "justify_items": null,
      "left": null,
      "margin": null,
      "max_height": null,
      "max_width": null,
      "min_height": null,
      "min_width": null,
      "object_fit": null,
      "object_position": null,
      "order": null,
      "overflow": null,
      "overflow_x": null,
      "overflow_y": null,
      "padding": null,
      "right": null,
      "top": null,
      "visibility": null,
      "width": null
     }
    }
   }
  }
 },
 "nbformat": 4,
 "nbformat_minor": 1
}
