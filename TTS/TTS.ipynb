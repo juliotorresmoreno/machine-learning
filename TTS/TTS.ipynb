{
 "cells": [
  {
   "cell_type": "code",
   "execution_count": 2,
   "id": "ae3402cd",
   "metadata": {},
   "outputs": [],
   "source": [
    "# Following pip packages need to be installed:\n",
    "# !pip install git+https://github.com/huggingface/transformers sentencepiece datasets\n",
    "\n",
    "from transformers import SpeechT5Processor, SpeechT5ForTextToSpeech, SpeechT5HifiGan\n",
    "from datasets import load_dataset\n",
    "import torch\n",
    "import soundfile as sf\n",
    "from datasets import load_dataset"
   ]
  },
  {
   "cell_type": "code",
   "execution_count": 24,
   "id": "4fa2c6ea",
   "metadata": {},
   "outputs": [],
   "source": [
    "processor = SpeechT5Processor.from_pretrained(\"microsoft/speecht5_tts\")\n",
    "model = SpeechT5ForTextToSpeech.from_pretrained(\"microsoft/speecht5_tts\")\n",
    "vocoder = SpeechT5HifiGan.from_pretrained(\"microsoft/speecht5_hifigan\")"
   ]
  },
  {
   "cell_type": "code",
   "execution_count": 13,
   "id": "92e2f9b1",
   "metadata": {},
   "outputs": [],
   "source": [
    "# load xvector containing speaker's voice characteristics from a dataset\n",
    "embeddings_dataset = load_dataset(\"Matthijs/cmu-arctic-xvectors\", split=\"validation\")"
   ]
  },
  {
   "cell_type": "code",
   "execution_count": 31,
   "id": "ed3d2969",
   "metadata": {},
   "outputs": [],
   "source": [
    "speaker_embeddings = torch.tensor(embeddings_dataset[7306][\"xvector\"]).unsqueeze(0)\n",
    "\n",
    "inputs = processor(text=\"Hola, como estas?\", return_tensors=\"pt\")\n",
    "speech = model.generate_speech(inputs[\"input_ids\"], speaker_embeddings, vocoder=vocoder)\n",
    "sf.write(\"speech.wav\", speech.numpy(), samplerate=16000)"
   ]
  },
  {
   "cell_type": "code",
   "execution_count": 32,
   "id": "3136cdf1",
   "metadata": {},
   "outputs": [
    {
     "data": {
      "text/plain": [
       "(array([-0.00054932, -0.00018311,  0.        , ...,  0.0010376 ,\n",
       "         0.00115967,  0.00115967]),\n",
       " 16000)"
      ]
     },
     "execution_count": 32,
     "metadata": {},
     "output_type": "execute_result"
    }
   ],
   "source": [
    "sf.read('speech.wav')"
   ]
  },
  {
   "cell_type": "code",
   "execution_count": 33,
   "id": "1b133475",
   "metadata": {},
   "outputs": [],
   "source": [
    "from transformers import pipeline\n"
   ]
  },
  {
   "cell_type": "code",
   "execution_count": 34,
   "id": "f8a2f1f0",
   "metadata": {},
   "outputs": [],
   "source": [
    "pipe = pipeline(\"text-to-speech\", model=\"microsoft/speecht5_tts\")\n",
    "\n"
   ]
  },
  {
   "cell_type": "code",
   "execution_count": 44,
   "id": "47649c51",
   "metadata": {},
   "outputs": [
    {
     "data": {
      "text/plain": [
       "{'audio': array([ 1.0341237e-04,  3.3144155e-04,  1.6808326e-04, ...,\n",
       "        -2.2952049e-04,  3.9500184e-05,  3.0369731e-04], dtype=float32),\n",
       " 'sampling_rate': 16000}"
      ]
     },
     "execution_count": 44,
     "metadata": {},
     "output_type": "execute_result"
    }
   ],
   "source": [
    "speech = pipe(\"Hola mundo\")\n",
    "speech"
   ]
  },
  {
   "cell_type": "code",
   "execution_count": 42,
   "id": "1e3792b3",
   "metadata": {},
   "outputs": [
    {
     "data": {
      "text/plain": [
       "array([2.2525009e-04, 5.4770650e-04, 2.8657727e-04, ..., 3.1355536e-05,\n",
       "       2.1069823e-04, 6.1592640e-04], dtype=float32)"
      ]
     },
     "execution_count": 42,
     "metadata": {},
     "output_type": "execute_result"
    }
   ],
   "source": [
    "speech['audio']"
   ]
  },
  {
   "cell_type": "code",
   "execution_count": 43,
   "id": "0e67374b",
   "metadata": {},
   "outputs": [],
   "source": [
    "sf.write(\"speech.wav\", speech['audio'], samplerate=16000)"
   ]
  },
  {
   "cell_type": "code",
   "execution_count": null,
   "id": "bb1f8970",
   "metadata": {},
   "outputs": [],
   "source": []
  }
 ],
 "metadata": {
  "kernelspec": {
   "display_name": "Python 3 (ipykernel)",
   "language": "python",
   "name": "python3"
  },
  "language_info": {
   "codemirror_mode": {
    "name": "ipython",
    "version": 3
   },
   "file_extension": ".py",
   "mimetype": "text/x-python",
   "name": "python",
   "nbconvert_exporter": "python",
   "pygments_lexer": "ipython3",
   "version": "3.11.5"
  }
 },
 "nbformat": 4,
 "nbformat_minor": 5
}
